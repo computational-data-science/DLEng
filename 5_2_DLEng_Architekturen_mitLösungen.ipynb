{
 "cells": [
  {
   "cell_type": "markdown",
   "id": "20db7290",
   "metadata": {},
   "source": [
    "<h1>2) Deep Learning Architekturen für Zeitreihen</h1>\n",
    "<h4>Dienstag 04.06.24 13:30 – 17:00 Uhr</h4>\n",
    "<br>\n",
    "--- <br>\n",
    "2.1 Datenvorbereitung für Deep Learning Zeitreihenanalyse<br>\n",
    "2.2 RNNs (von Hand) <br>\n",
    "2.3 Fortsetzung: RNNs (mit Tensorflow) <br>\n",
    "2.4 LSTMs (mit Tensorflow) <br>\n",
    "---"
   ]
  },
  {
   "cell_type": "code",
   "execution_count": 28,
   "id": "a6a2830e",
   "metadata": {},
   "outputs": [],
   "source": [
    "# Für Zeitreihenoperationen \n",
    "import pandas as pd\n",
    "import numpy as np\n",
    "\n",
    "# Zum Plotten\n",
    "import matplotlib.pyplot as plt\n",
    "import plotly.express as px\n",
    "import plotly.graph_objects as go\n",
    "\n",
    "# Für die Datenaufbereitung\n",
    "from sklearn.preprocessing import MinMaxScaler\n",
    "\n",
    "# Für die Auswertung\n",
    "from sklearn.metrics import mean_absolute_error, mean_squared_error"
   ]
  },
  {
   "cell_type": "code",
   "execution_count": 29,
   "id": "744a2627",
   "metadata": {},
   "outputs": [],
   "source": [
    "# Zum Ignorieren nerviger Warnungen \n",
    "import os\n",
    "os.environ['TF_CPP_MIN_LOG_LEVEL'] = '2'\n",
    "\n",
    "# Zum GPU Teilen\n",
    "#from utils_code.share_gpu import restrict_gpu_memory\n",
    "#restrict_gpu_memory(4500)"
   ]
  },
  {
   "cell_type": "markdown",
   "id": "04b196d1",
   "metadata": {},
   "source": [
    "### 2.1 Vorbereitung Daten für Deep Learning Zeitreihenanalyse"
   ]
  },
  {
   "cell_type": "code",
   "execution_count": 30,
   "id": "2a879b0b",
   "metadata": {},
   "outputs": [
    {
     "name": "stderr",
     "output_type": "stream",
     "text": [
      "c:\\temp\\ipykernel_9440\\3840975310.py:2: UserWarning:\n",
      "\n",
      "Could not infer format, so each element will be parsed individually, falling back to `dateutil`. To ensure parsing is consistent and as-expected, please specify a format.\n",
      "\n"
     ]
    },
    {
     "data": {
      "text/html": [
       "<div>\n",
       "<style scoped>\n",
       "    .dataframe tbody tr th:only-of-type {\n",
       "        vertical-align: middle;\n",
       "    }\n",
       "\n",
       "    .dataframe tbody tr th {\n",
       "        vertical-align: top;\n",
       "    }\n",
       "\n",
       "    .dataframe thead th {\n",
       "        text-align: right;\n",
       "    }\n",
       "</style>\n",
       "<table border=\"1\" class=\"dataframe\">\n",
       "  <thead>\n",
       "    <tr style=\"text-align: right;\">\n",
       "      <th></th>\n",
       "      <th>Wind</th>\n",
       "    </tr>\n",
       "    <tr>\n",
       "      <th>Datum</th>\n",
       "      <th></th>\n",
       "    </tr>\n",
       "  </thead>\n",
       "  <tbody>\n",
       "    <tr>\n",
       "      <th>2016-01-01</th>\n",
       "      <td>9771</td>\n",
       "    </tr>\n",
       "    <tr>\n",
       "      <th>2016-02-01</th>\n",
       "      <td>10371</td>\n",
       "    </tr>\n",
       "    <tr>\n",
       "      <th>2016-03-01</th>\n",
       "      <td>6331</td>\n",
       "    </tr>\n",
       "    <tr>\n",
       "      <th>2016-04-01</th>\n",
       "      <td>6235</td>\n",
       "    </tr>\n",
       "    <tr>\n",
       "      <th>2016-05-01</th>\n",
       "      <td>6445</td>\n",
       "    </tr>\n",
       "  </tbody>\n",
       "</table>\n",
       "</div>"
      ],
      "text/plain": [
       "             Wind\n",
       "Datum            \n",
       "2016-01-01   9771\n",
       "2016-02-01  10371\n",
       "2016-03-01   6331\n",
       "2016-04-01   6235\n",
       "2016-05-01   6445"
      ]
     },
     "execution_count": 30,
     "metadata": {},
     "output_type": "execute_result"
    }
   ],
   "source": [
    "ene = pd.read_csv(\"germany_fossil_renew.csv\", sep=\";\")\n",
    "ene['Datum'] = pd.to_datetime(ene['Datum'])\n",
    "ene['Datum'].freq = 'M'\n",
    "ene.set_index('Datum', inplace=True)\n",
    "wind = ene[['Wind']]\n",
    "wind.head()"
   ]
  },
  {
   "cell_type": "code",
   "execution_count": 31,
   "id": "f3e415d6",
   "metadata": {},
   "outputs": [
    {
     "data": {
      "text/plain": [
       "array([[0.35258769],\n",
       "       [0.38937945],\n",
       "       [0.14164827],\n",
       "       [0.13576159],\n",
       "       [0.1486387 ],\n",
       "       [0.02532499],\n",
       "       [0.02532499],\n",
       "       [0.03139563],\n",
       "       [0.        ],\n",
       "       [0.08094187]])"
      ]
     },
     "execution_count": 31,
     "metadata": {},
     "output_type": "execute_result"
    }
   ],
   "source": [
    "scaler = MinMaxScaler()\n",
    "scaler.fit(wind)\n",
    "winds = scaler.transform(wind)\n",
    "winds[:10]"
   ]
  },
  {
   "cell_type": "code",
   "execution_count": 32,
   "id": "9cb78623",
   "metadata": {},
   "outputs": [],
   "source": [
    "data = winds"
   ]
  },
  {
   "cell_type": "code",
   "execution_count": 33,
   "id": "d9beecad",
   "metadata": {},
   "outputs": [
    {
     "data": {
      "text/plain": [
       "array([['2016-01-01T00:00:00.000000000'],\n",
       "       ['2016-02-01T00:00:00.000000000'],\n",
       "       ['2016-03-01T00:00:00.000000000'],\n",
       "       ['2016-04-01T00:00:00.000000000'],\n",
       "       ['2016-05-01T00:00:00.000000000'],\n",
       "       ['2016-06-01T00:00:00.000000000'],\n",
       "       ['2016-07-01T00:00:00.000000000'],\n",
       "       ['2016-08-01T00:00:00.000000000'],\n",
       "       ['2016-09-01T00:00:00.000000000'],\n",
       "       ['2016-10-01T00:00:00.000000000']], dtype='datetime64[ns]')"
      ]
     },
     "execution_count": 33,
     "metadata": {},
     "output_type": "execute_result"
    }
   ],
   "source": [
    "time = wind.index.values.reshape(-1, 1)\n",
    "time[:10]"
   ]
  },
  {
   "cell_type": "code",
   "execution_count": 34,
   "id": "4775ad3c",
   "metadata": {},
   "outputs": [],
   "source": [
    "train_size = int(len(data) * 0.6)\n",
    "val_size = int(len(data) * 0.2)\n",
    "test_size = int(len(data) * 0.2)"
   ]
  },
  {
   "cell_type": "code",
   "execution_count": 35,
   "id": "85612c69",
   "metadata": {},
   "outputs": [],
   "source": [
    "data_train, data_val, data_test = winds[0:train_size], winds[train_size:train_size+val_size], winds[train_size+val_size:]"
   ]
  },
  {
   "cell_type": "code",
   "execution_count": 36,
   "id": "e2e245a3",
   "metadata": {},
   "outputs": [],
   "source": [
    "time_train = time[:train_size]\n",
    "time_val = time[train_size:train_size+val_size]\n",
    "time_test = time[train_size+val_size:]"
   ]
  },
  {
   "cell_type": "code",
   "execution_count": 37,
   "id": "873ed496",
   "metadata": {},
   "outputs": [
    {
     "data": {
      "application/vnd.plotly.v1+json": {
       "config": {
        "plotlyServerURL": "https://plot.ly"
       },
       "data": [
        {
         "mode": "lines",
         "name": "Train",
         "type": "scatter",
         "x": [
          "2016-01-01T00:00:00",
          "2016-02-01T00:00:00",
          "2016-03-01T00:00:00",
          "2016-04-01T00:00:00",
          "2016-05-01T00:00:00",
          "2016-06-01T00:00:00",
          "2016-07-01T00:00:00",
          "2016-08-01T00:00:00",
          "2016-09-01T00:00:00",
          "2016-10-01T00:00:00",
          "2016-11-01T00:00:00",
          "2016-12-01T00:00:00",
          "2017-01-01T00:00:00",
          "2017-02-01T00:00:00",
          "2017-03-01T00:00:00",
          "2017-04-01T00:00:00",
          "2017-05-01T00:00:00",
          "2017-06-01T00:00:00",
          "2017-07-01T00:00:00",
          "2017-08-01T00:00:00",
          "2017-09-01T00:00:00",
          "2017-10-01T00:00:00",
          "2017-11-01T00:00:00",
          "2017-12-01T00:00:00",
          "2018-01-01T00:00:00",
          "2018-02-01T00:00:00",
          "2018-03-01T00:00:00",
          "2018-04-01T00:00:00",
          "2018-05-01T00:00:00",
          "2018-06-01T00:00:00",
          "2018-07-01T00:00:00",
          "2018-08-01T00:00:00",
          "2018-09-01T00:00:00",
          "2018-10-01T00:00:00"
         ],
         "y": [
          0.3525876870247731,
          0.3893794456708363,
          0.14164827078734366,
          0.13576158940397348,
          0.14863870493009568,
          0.025324993868040213,
          0.025324993868040213,
          0.031395634044640686,
          0,
          0.08094186902133921,
          0.22436840814324255,
          0.2943340691685062,
          0.23252391464311994,
          0.35939416237429483,
          0.3233382389011528,
          0.24957076281579593,
          0.10234240863379934,
          0.19002943340691686,
          0.09621044885945546,
          0.09596517046848174,
          0.14416237429482465,
          0.530475840078489,
          0.392813343144469,
          0.6837135148393425,
          0.6390115280843758,
          0.24031150355653663,
          0.4071621290164336,
          0.29868776060829044,
          0.1945670836399313,
          0.10534706892322787,
          0.022749570762815807,
          0.12404954623497672,
          0.2366936472896738,
          0.40434142752023544
         ]
        },
        {
         "mode": "lines",
         "name": "Validation",
         "type": "scatter",
         "x": [
          "2018-11-01T00:00:00",
          "2018-12-01T00:00:00",
          "2019-01-01T00:00:00",
          "2019-02-01T00:00:00",
          "2019-03-01T00:00:00",
          "2019-04-01T00:00:00",
          "2019-05-01T00:00:00",
          "2019-06-01T00:00:00",
          "2019-07-01T00:00:00",
          "2019-08-01T00:00:00",
          "2019-09-01T00:00:00"
         ],
         "y": [
          0.3558989453029188,
          0.6280966396860437,
          0.6073092960510178,
          0.42138827569291143,
          0.7642874662742212,
          0.30978660779985284,
          0.2612214863870493,
          0.15673289183222955,
          0.15605837625705177,
          0.10859700760363011,
          0.31199411331861665
         ]
        },
        {
         "mode": "lines",
         "name": "Test",
         "type": "scatter",
         "x": [
          "2019-10-01T00:00:00",
          "2019-11-01T00:00:00",
          "2019-12-01T00:00:00",
          "2020-01-01T00:00:00",
          "2020-02-01T00:00:00",
          "2020-03-01T00:00:00",
          "2020-04-01T00:00:00",
          "2020-05-01T00:00:00",
          "2020-06-01T00:00:00",
          "2020-07-01T00:00:00",
          "2020-08-01T00:00:00",
          "2020-09-01T00:00:00",
          "2020-10-01T00:00:00"
         ],
         "y": [
          0.4673166544027471,
          0.37122884473877854,
          0.684755948000981,
          0.7339342653912191,
          0.9999999999999998,
          0.62214863870493,
          0.2904709345106696,
          0.22179298503801814,
          0.14673779740004905,
          0.18352955604611232,
          0.16887417218543044,
          0.1436104979151337,
          0.5797767966642138
         ]
        }
       ],
       "layout": {
        "autosize": true,
        "template": {
         "data": {
          "bar": [
           {
            "error_x": {
             "color": "#2a3f5f"
            },
            "error_y": {
             "color": "#2a3f5f"
            },
            "marker": {
             "line": {
              "color": "#E5ECF6",
              "width": 0.5
             },
             "pattern": {
              "fillmode": "overlay",
              "size": 10,
              "solidity": 0.2
             }
            },
            "type": "bar"
           }
          ],
          "barpolar": [
           {
            "marker": {
             "line": {
              "color": "#E5ECF6",
              "width": 0.5
             },
             "pattern": {
              "fillmode": "overlay",
              "size": 10,
              "solidity": 0.2
             }
            },
            "type": "barpolar"
           }
          ],
          "carpet": [
           {
            "aaxis": {
             "endlinecolor": "#2a3f5f",
             "gridcolor": "white",
             "linecolor": "white",
             "minorgridcolor": "white",
             "startlinecolor": "#2a3f5f"
            },
            "baxis": {
             "endlinecolor": "#2a3f5f",
             "gridcolor": "white",
             "linecolor": "white",
             "minorgridcolor": "white",
             "startlinecolor": "#2a3f5f"
            },
            "type": "carpet"
           }
          ],
          "choropleth": [
           {
            "colorbar": {
             "outlinewidth": 0,
             "ticks": ""
            },
            "type": "choropleth"
           }
          ],
          "contour": [
           {
            "colorbar": {
             "outlinewidth": 0,
             "ticks": ""
            },
            "colorscale": [
             [
              0,
              "#0d0887"
             ],
             [
              0.1111111111111111,
              "#46039f"
             ],
             [
              0.2222222222222222,
              "#7201a8"
             ],
             [
              0.3333333333333333,
              "#9c179e"
             ],
             [
              0.4444444444444444,
              "#bd3786"
             ],
             [
              0.5555555555555556,
              "#d8576b"
             ],
             [
              0.6666666666666666,
              "#ed7953"
             ],
             [
              0.7777777777777778,
              "#fb9f3a"
             ],
             [
              0.8888888888888888,
              "#fdca26"
             ],
             [
              1,
              "#f0f921"
             ]
            ],
            "type": "contour"
           }
          ],
          "contourcarpet": [
           {
            "colorbar": {
             "outlinewidth": 0,
             "ticks": ""
            },
            "type": "contourcarpet"
           }
          ],
          "heatmap": [
           {
            "colorbar": {
             "outlinewidth": 0,
             "ticks": ""
            },
            "colorscale": [
             [
              0,
              "#0d0887"
             ],
             [
              0.1111111111111111,
              "#46039f"
             ],
             [
              0.2222222222222222,
              "#7201a8"
             ],
             [
              0.3333333333333333,
              "#9c179e"
             ],
             [
              0.4444444444444444,
              "#bd3786"
             ],
             [
              0.5555555555555556,
              "#d8576b"
             ],
             [
              0.6666666666666666,
              "#ed7953"
             ],
             [
              0.7777777777777778,
              "#fb9f3a"
             ],
             [
              0.8888888888888888,
              "#fdca26"
             ],
             [
              1,
              "#f0f921"
             ]
            ],
            "type": "heatmap"
           }
          ],
          "heatmapgl": [
           {
            "colorbar": {
             "outlinewidth": 0,
             "ticks": ""
            },
            "colorscale": [
             [
              0,
              "#0d0887"
             ],
             [
              0.1111111111111111,
              "#46039f"
             ],
             [
              0.2222222222222222,
              "#7201a8"
             ],
             [
              0.3333333333333333,
              "#9c179e"
             ],
             [
              0.4444444444444444,
              "#bd3786"
             ],
             [
              0.5555555555555556,
              "#d8576b"
             ],
             [
              0.6666666666666666,
              "#ed7953"
             ],
             [
              0.7777777777777778,
              "#fb9f3a"
             ],
             [
              0.8888888888888888,
              "#fdca26"
             ],
             [
              1,
              "#f0f921"
             ]
            ],
            "type": "heatmapgl"
           }
          ],
          "histogram": [
           {
            "marker": {
             "pattern": {
              "fillmode": "overlay",
              "size": 10,
              "solidity": 0.2
             }
            },
            "type": "histogram"
           }
          ],
          "histogram2d": [
           {
            "colorbar": {
             "outlinewidth": 0,
             "ticks": ""
            },
            "colorscale": [
             [
              0,
              "#0d0887"
             ],
             [
              0.1111111111111111,
              "#46039f"
             ],
             [
              0.2222222222222222,
              "#7201a8"
             ],
             [
              0.3333333333333333,
              "#9c179e"
             ],
             [
              0.4444444444444444,
              "#bd3786"
             ],
             [
              0.5555555555555556,
              "#d8576b"
             ],
             [
              0.6666666666666666,
              "#ed7953"
             ],
             [
              0.7777777777777778,
              "#fb9f3a"
             ],
             [
              0.8888888888888888,
              "#fdca26"
             ],
             [
              1,
              "#f0f921"
             ]
            ],
            "type": "histogram2d"
           }
          ],
          "histogram2dcontour": [
           {
            "colorbar": {
             "outlinewidth": 0,
             "ticks": ""
            },
            "colorscale": [
             [
              0,
              "#0d0887"
             ],
             [
              0.1111111111111111,
              "#46039f"
             ],
             [
              0.2222222222222222,
              "#7201a8"
             ],
             [
              0.3333333333333333,
              "#9c179e"
             ],
             [
              0.4444444444444444,
              "#bd3786"
             ],
             [
              0.5555555555555556,
              "#d8576b"
             ],
             [
              0.6666666666666666,
              "#ed7953"
             ],
             [
              0.7777777777777778,
              "#fb9f3a"
             ],
             [
              0.8888888888888888,
              "#fdca26"
             ],
             [
              1,
              "#f0f921"
             ]
            ],
            "type": "histogram2dcontour"
           }
          ],
          "mesh3d": [
           {
            "colorbar": {
             "outlinewidth": 0,
             "ticks": ""
            },
            "type": "mesh3d"
           }
          ],
          "parcoords": [
           {
            "line": {
             "colorbar": {
              "outlinewidth": 0,
              "ticks": ""
             }
            },
            "type": "parcoords"
           }
          ],
          "pie": [
           {
            "automargin": true,
            "type": "pie"
           }
          ],
          "scatter": [
           {
            "fillpattern": {
             "fillmode": "overlay",
             "size": 10,
             "solidity": 0.2
            },
            "type": "scatter"
           }
          ],
          "scatter3d": [
           {
            "line": {
             "colorbar": {
              "outlinewidth": 0,
              "ticks": ""
             }
            },
            "marker": {
             "colorbar": {
              "outlinewidth": 0,
              "ticks": ""
             }
            },
            "type": "scatter3d"
           }
          ],
          "scattercarpet": [
           {
            "marker": {
             "colorbar": {
              "outlinewidth": 0,
              "ticks": ""
             }
            },
            "type": "scattercarpet"
           }
          ],
          "scattergeo": [
           {
            "marker": {
             "colorbar": {
              "outlinewidth": 0,
              "ticks": ""
             }
            },
            "type": "scattergeo"
           }
          ],
          "scattergl": [
           {
            "marker": {
             "colorbar": {
              "outlinewidth": 0,
              "ticks": ""
             }
            },
            "type": "scattergl"
           }
          ],
          "scattermapbox": [
           {
            "marker": {
             "colorbar": {
              "outlinewidth": 0,
              "ticks": ""
             }
            },
            "type": "scattermapbox"
           }
          ],
          "scatterpolar": [
           {
            "marker": {
             "colorbar": {
              "outlinewidth": 0,
              "ticks": ""
             }
            },
            "type": "scatterpolar"
           }
          ],
          "scatterpolargl": [
           {
            "marker": {
             "colorbar": {
              "outlinewidth": 0,
              "ticks": ""
             }
            },
            "type": "scatterpolargl"
           }
          ],
          "scatterternary": [
           {
            "marker": {
             "colorbar": {
              "outlinewidth": 0,
              "ticks": ""
             }
            },
            "type": "scatterternary"
           }
          ],
          "surface": [
           {
            "colorbar": {
             "outlinewidth": 0,
             "ticks": ""
            },
            "colorscale": [
             [
              0,
              "#0d0887"
             ],
             [
              0.1111111111111111,
              "#46039f"
             ],
             [
              0.2222222222222222,
              "#7201a8"
             ],
             [
              0.3333333333333333,
              "#9c179e"
             ],
             [
              0.4444444444444444,
              "#bd3786"
             ],
             [
              0.5555555555555556,
              "#d8576b"
             ],
             [
              0.6666666666666666,
              "#ed7953"
             ],
             [
              0.7777777777777778,
              "#fb9f3a"
             ],
             [
              0.8888888888888888,
              "#fdca26"
             ],
             [
              1,
              "#f0f921"
             ]
            ],
            "type": "surface"
           }
          ],
          "table": [
           {
            "cells": {
             "fill": {
              "color": "#EBF0F8"
             },
             "line": {
              "color": "white"
             }
            },
            "header": {
             "fill": {
              "color": "#C8D4E3"
             },
             "line": {
              "color": "white"
             }
            },
            "type": "table"
           }
          ]
         },
         "layout": {
          "annotationdefaults": {
           "arrowcolor": "#2a3f5f",
           "arrowhead": 0,
           "arrowwidth": 1
          },
          "autotypenumbers": "strict",
          "coloraxis": {
           "colorbar": {
            "outlinewidth": 0,
            "ticks": ""
           }
          },
          "colorscale": {
           "diverging": [
            [
             0,
             "#8e0152"
            ],
            [
             0.1,
             "#c51b7d"
            ],
            [
             0.2,
             "#de77ae"
            ],
            [
             0.3,
             "#f1b6da"
            ],
            [
             0.4,
             "#fde0ef"
            ],
            [
             0.5,
             "#f7f7f7"
            ],
            [
             0.6,
             "#e6f5d0"
            ],
            [
             0.7,
             "#b8e186"
            ],
            [
             0.8,
             "#7fbc41"
            ],
            [
             0.9,
             "#4d9221"
            ],
            [
             1,
             "#276419"
            ]
           ],
           "sequential": [
            [
             0,
             "#0d0887"
            ],
            [
             0.1111111111111111,
             "#46039f"
            ],
            [
             0.2222222222222222,
             "#7201a8"
            ],
            [
             0.3333333333333333,
             "#9c179e"
            ],
            [
             0.4444444444444444,
             "#bd3786"
            ],
            [
             0.5555555555555556,
             "#d8576b"
            ],
            [
             0.6666666666666666,
             "#ed7953"
            ],
            [
             0.7777777777777778,
             "#fb9f3a"
            ],
            [
             0.8888888888888888,
             "#fdca26"
            ],
            [
             1,
             "#f0f921"
            ]
           ],
           "sequentialminus": [
            [
             0,
             "#0d0887"
            ],
            [
             0.1111111111111111,
             "#46039f"
            ],
            [
             0.2222222222222222,
             "#7201a8"
            ],
            [
             0.3333333333333333,
             "#9c179e"
            ],
            [
             0.4444444444444444,
             "#bd3786"
            ],
            [
             0.5555555555555556,
             "#d8576b"
            ],
            [
             0.6666666666666666,
             "#ed7953"
            ],
            [
             0.7777777777777778,
             "#fb9f3a"
            ],
            [
             0.8888888888888888,
             "#fdca26"
            ],
            [
             1,
             "#f0f921"
            ]
           ]
          },
          "colorway": [
           "#636efa",
           "#EF553B",
           "#00cc96",
           "#ab63fa",
           "#FFA15A",
           "#19d3f3",
           "#FF6692",
           "#B6E880",
           "#FF97FF",
           "#FECB52"
          ],
          "font": {
           "color": "#2a3f5f"
          },
          "geo": {
           "bgcolor": "white",
           "lakecolor": "white",
           "landcolor": "#E5ECF6",
           "showlakes": true,
           "showland": true,
           "subunitcolor": "white"
          },
          "hoverlabel": {
           "align": "left"
          },
          "hovermode": "closest",
          "mapbox": {
           "style": "light"
          },
          "paper_bgcolor": "white",
          "plot_bgcolor": "#E5ECF6",
          "polar": {
           "angularaxis": {
            "gridcolor": "white",
            "linecolor": "white",
            "ticks": ""
           },
           "bgcolor": "#E5ECF6",
           "radialaxis": {
            "gridcolor": "white",
            "linecolor": "white",
            "ticks": ""
           }
          },
          "scene": {
           "xaxis": {
            "backgroundcolor": "#E5ECF6",
            "gridcolor": "white",
            "gridwidth": 2,
            "linecolor": "white",
            "showbackground": true,
            "ticks": "",
            "zerolinecolor": "white"
           },
           "yaxis": {
            "backgroundcolor": "#E5ECF6",
            "gridcolor": "white",
            "gridwidth": 2,
            "linecolor": "white",
            "showbackground": true,
            "ticks": "",
            "zerolinecolor": "white"
           },
           "zaxis": {
            "backgroundcolor": "#E5ECF6",
            "gridcolor": "white",
            "gridwidth": 2,
            "linecolor": "white",
            "showbackground": true,
            "ticks": "",
            "zerolinecolor": "white"
           }
          },
          "shapedefaults": {
           "line": {
            "color": "#2a3f5f"
           }
          },
          "ternary": {
           "aaxis": {
            "gridcolor": "white",
            "linecolor": "white",
            "ticks": ""
           },
           "baxis": {
            "gridcolor": "white",
            "linecolor": "white",
            "ticks": ""
           },
           "bgcolor": "#E5ECF6",
           "caxis": {
            "gridcolor": "white",
            "linecolor": "white",
            "ticks": ""
           }
          },
          "title": {
           "x": 0.05
          },
          "xaxis": {
           "automargin": true,
           "gridcolor": "white",
           "linecolor": "white",
           "ticks": "",
           "title": {
            "standoff": 15
           },
           "zerolinecolor": "white",
           "zerolinewidth": 2
          },
          "yaxis": {
           "automargin": true,
           "gridcolor": "white",
           "linecolor": "white",
           "ticks": "",
           "title": {
            "standoff": 15
           },
           "zerolinecolor": "white",
           "zerolinewidth": 2
          }
         }
        },
        "xaxis": {
         "autorange": true,
         "range": [
          "2016-01-01",
          "2020-10-01"
         ],
         "type": "date"
        },
        "yaxis": {
         "autorange": true,
         "range": [
          -0.055555555555555546,
          1.0555555555555554
         ],
         "type": "linear"
        }
       }
      },
      "image/png": "[encoded data removed]",
      "text/html": [
       "<div>                            <div id=\"4830b689-e64d-4603-a3d6-79de23d9b33f\" class=\"plotly-graph-div\" style=\"height:525px; width:100%;\"></div>            <script type=\"text/javascript\">                require([\"plotly\"], function(Plotly) {                    window.PLOTLYENV=window.PLOTLYENV || {};                                    if (document.getElementById(\"4830b689-e64d-4603-a3d6-79de23d9b33f\")) {                    Plotly.newPlot(                        \"4830b689-e64d-4603-a3d6-79de23d9b33f\",                        [{\"mode\":\"lines\",\"name\":\"Train\",\"x\":[\"2016-01-01T00:00:00\",\"2016-02-01T00:00:00\",\"2016-03-01T00:00:00\",\"2016-04-01T00:00:00\",\"2016-05-01T00:00:00\",\"2016-06-01T00:00:00\",\"2016-07-01T00:00:00\",\"2016-08-01T00:00:00\",\"2016-09-01T00:00:00\",\"2016-10-01T00:00:00\",\"2016-11-01T00:00:00\",\"2016-12-01T00:00:00\",\"2017-01-01T00:00:00\",\"2017-02-01T00:00:00\",\"2017-03-01T00:00:00\",\"2017-04-01T00:00:00\",\"2017-05-01T00:00:00\",\"2017-06-01T00:00:00\",\"2017-07-01T00:00:00\",\"2017-08-01T00:00:00\",\"2017-09-01T00:00:00\",\"2017-10-01T00:00:00\",\"2017-11-01T00:00:00\",\"2017-12-01T00:00:00\",\"2018-01-01T00:00:00\",\"2018-02-01T00:00:00\",\"2018-03-01T00:00:00\",\"2018-04-01T00:00:00\",\"2018-05-01T00:00:00\",\"2018-06-01T00:00:00\",\"2018-07-01T00:00:00\",\"2018-08-01T00:00:00\",\"2018-09-01T00:00:00\",\"2018-10-01T00:00:00\"],\"y\":[0.3525876870247731,0.3893794456708363,0.14164827078734366,0.13576158940397348,0.14863870493009568,0.025324993868040213,0.025324993868040213,0.031395634044640686,0.0,0.08094186902133921,0.22436840814324255,0.2943340691685062,0.23252391464311994,0.35939416237429483,0.3233382389011528,0.24957076281579593,0.10234240863379934,0.19002943340691686,0.09621044885945546,0.09596517046848174,0.14416237429482465,0.530475840078489,0.392813343144469,0.6837135148393425,0.6390115280843758,0.24031150355653663,0.4071621290164336,0.29868776060829044,0.1945670836399313,0.10534706892322787,0.022749570762815807,0.12404954623497672,0.2366936472896738,0.40434142752023544],\"type\":\"scatter\"},{\"mode\":\"lines\",\"name\":\"Validation\",\"x\":[\"2018-11-01T00:00:00\",\"2018-12-01T00:00:00\",\"2019-01-01T00:00:00\",\"2019-02-01T00:00:00\",\"2019-03-01T00:00:00\",\"2019-04-01T00:00:00\",\"2019-05-01T00:00:00\",\"2019-06-01T00:00:00\",\"2019-07-01T00:00:00\",\"2019-08-01T00:00:00\",\"2019-09-01T00:00:00\"],\"y\":[0.3558989453029188,0.6280966396860437,0.6073092960510178,0.42138827569291143,0.7642874662742212,0.30978660779985284,0.2612214863870493,0.15673289183222955,0.15605837625705177,0.10859700760363011,0.31199411331861665],\"type\":\"scatter\"},{\"mode\":\"lines\",\"name\":\"Test\",\"x\":[\"2019-10-01T00:00:00\",\"2019-11-01T00:00:00\",\"2019-12-01T00:00:00\",\"2020-01-01T00:00:00\",\"2020-02-01T00:00:00\",\"2020-03-01T00:00:00\",\"2020-04-01T00:00:00\",\"2020-05-01T00:00:00\",\"2020-06-01T00:00:00\",\"2020-07-01T00:00:00\",\"2020-08-01T00:00:00\",\"2020-09-01T00:00:00\",\"2020-10-01T00:00:00\"],\"y\":[0.4673166544027471,0.37122884473877854,0.684755948000981,0.7339342653912191,0.9999999999999998,0.62214863870493,0.2904709345106696,0.22179298503801814,0.14673779740004905,0.18352955604611232,0.16887417218543044,0.1436104979151337,0.5797767966642138],\"type\":\"scatter\"}],                        {\"template\":{\"data\":{\"histogram2dcontour\":[{\"type\":\"histogram2dcontour\",\"colorbar\":{\"outlinewidth\":0,\"ticks\":\"\"},\"colorscale\":[[0.0,\"#0d0887\"],[0.1111111111111111,\"#46039f\"],[0.2222222222222222,\"#7201a8\"],[0.3333333333333333,\"#9c179e\"],[0.4444444444444444,\"#bd3786\"],[0.5555555555555556,\"#d8576b\"],[0.6666666666666666,\"#ed7953\"],[0.7777777777777778,\"#fb9f3a\"],[0.8888888888888888,\"#fdca26\"],[1.0,\"#f0f921\"]]}],\"choropleth\":[{\"type\":\"choropleth\",\"colorbar\":{\"outlinewidth\":0,\"ticks\":\"\"}}],\"histogram2d\":[{\"type\":\"histogram2d\",\"colorbar\":{\"outlinewidth\":0,\"ticks\":\"\"},\"colorscale\":[[0.0,\"#0d0887\"],[0.1111111111111111,\"#46039f\"],[0.2222222222222222,\"#7201a8\"],[0.3333333333333333,\"#9c179e\"],[0.4444444444444444,\"#bd3786\"],[0.5555555555555556,\"#d8576b\"],[0.6666666666666666,\"#ed7953\"],[0.7777777777777778,\"#fb9f3a\"],[0.8888888888888888,\"#fdca26\"],[1.0,\"#f0f921\"]]}],\"heatmap\":[{\"type\":\"heatmap\",\"colorbar\":{\"outlinewidth\":0,\"ticks\":\"\"},\"colorscale\":[[0.0,\"#0d0887\"],[0.1111111111111111,\"#46039f\"],[0.2222222222222222,\"#7201a8\"],[0.3333333333333333,\"#9c179e\"],[0.4444444444444444,\"#bd3786\"],[0.5555555555555556,\"#d8576b\"],[0.6666666666666666,\"#ed7953\"],[0.7777777777777778,\"#fb9f3a\"],[0.8888888888888888,\"#fdca26\"],[1.0,\"#f0f921\"]]}],\"heatmapgl\":[{\"type\":\"heatmapgl\",\"colorbar\":{\"outlinewidth\":0,\"ticks\":\"\"},\"colorscale\":[[0.0,\"#0d0887\"],[0.1111111111111111,\"#46039f\"],[0.2222222222222222,\"#7201a8\"],[0.3333333333333333,\"#9c179e\"],[0.4444444444444444,\"#bd3786\"],[0.5555555555555556,\"#d8576b\"],[0.6666666666666666,\"#ed7953\"],[0.7777777777777778,\"#fb9f3a\"],[0.8888888888888888,\"#fdca26\"],[1.0,\"#f0f921\"]]}],\"contourcarpet\":[{\"type\":\"contourcarpet\",\"colorbar\":{\"outlinewidth\":0,\"ticks\":\"\"}}],\"contour\":[{\"type\":\"contour\",\"colorbar\":{\"outlinewidth\":0,\"ticks\":\"\"},\"colorscale\":[[0.0,\"#0d0887\"],[0.1111111111111111,\"#46039f\"],[0.2222222222222222,\"#7201a8\"],[0.3333333333333333,\"#9c179e\"],[0.4444444444444444,\"#bd3786\"],[0.5555555555555556,\"#d8576b\"],[0.6666666666666666,\"#ed7953\"],[0.7777777777777778,\"#fb9f3a\"],[0.8888888888888888,\"#fdca26\"],[1.0,\"#f0f921\"]]}],\"surface\":[{\"type\":\"surface\",\"colorbar\":{\"outlinewidth\":0,\"ticks\":\"\"},\"colorscale\":[[0.0,\"#0d0887\"],[0.1111111111111111,\"#46039f\"],[0.2222222222222222,\"#7201a8\"],[0.3333333333333333,\"#9c179e\"],[0.4444444444444444,\"#bd3786\"],[0.5555555555555556,\"#d8576b\"],[0.6666666666666666,\"#ed7953\"],[0.7777777777777778,\"#fb9f3a\"],[0.8888888888888888,\"#fdca26\"],[1.0,\"#f0f921\"]]}],\"mesh3d\":[{\"type\":\"mesh3d\",\"colorbar\":{\"outlinewidth\":0,\"ticks\":\"\"}}],\"scatter\":[{\"fillpattern\":{\"fillmode\":\"overlay\",\"size\":10,\"solidity\":0.2},\"type\":\"scatter\"}],\"parcoords\":[{\"type\":\"parcoords\",\"line\":{\"colorbar\":{\"outlinewidth\":0,\"ticks\":\"\"}}}],\"scatterpolargl\":[{\"type\":\"scatterpolargl\",\"marker\":{\"colorbar\":{\"outlinewidth\":0,\"ticks\":\"\"}}}],\"bar\":[{\"error_x\":{\"color\":\"#2a3f5f\"},\"error_y\":{\"color\":\"#2a3f5f\"},\"marker\":{\"line\":{\"color\":\"#E5ECF6\",\"width\":0.5},\"pattern\":{\"fillmode\":\"overlay\",\"size\":10,\"solidity\":0.2}},\"type\":\"bar\"}],\"scattergeo\":[{\"type\":\"scattergeo\",\"marker\":{\"colorbar\":{\"outlinewidth\":0,\"ticks\":\"\"}}}],\"scatterpolar\":[{\"type\":\"scatterpolar\",\"marker\":{\"colorbar\":{\"outlinewidth\":0,\"ticks\":\"\"}}}],\"histogram\":[{\"marker\":{\"pattern\":{\"fillmode\":\"overlay\",\"size\":10,\"solidity\":0.2}},\"type\":\"histogram\"}],\"scattergl\":[{\"type\":\"scattergl\",\"marker\":{\"colorbar\":{\"outlinewidth\":0,\"ticks\":\"\"}}}],\"scatter3d\":[{\"type\":\"scatter3d\",\"line\":{\"colorbar\":{\"outlinewidth\":0,\"ticks\":\"\"}},\"marker\":{\"colorbar\":{\"outlinewidth\":0,\"ticks\":\"\"}}}],\"scattermapbox\":[{\"type\":\"scattermapbox\",\"marker\":{\"colorbar\":{\"outlinewidth\":0,\"ticks\":\"\"}}}],\"scatterternary\":[{\"type\":\"scatterternary\",\"marker\":{\"colorbar\":{\"outlinewidth\":0,\"ticks\":\"\"}}}],\"scattercarpet\":[{\"type\":\"scattercarpet\",\"marker\":{\"colorbar\":{\"outlinewidth\":0,\"ticks\":\"\"}}}],\"carpet\":[{\"aaxis\":{\"endlinecolor\":\"#2a3f5f\",\"gridcolor\":\"white\",\"linecolor\":\"white\",\"minorgridcolor\":\"white\",\"startlinecolor\":\"#2a3f5f\"},\"baxis\":{\"endlinecolor\":\"#2a3f5f\",\"gridcolor\":\"white\",\"linecolor\":\"white\",\"minorgridcolor\":\"white\",\"startlinecolor\":\"#2a3f5f\"},\"type\":\"carpet\"}],\"table\":[{\"cells\":{\"fill\":{\"color\":\"#EBF0F8\"},\"line\":{\"color\":\"white\"}},\"header\":{\"fill\":{\"color\":\"#C8D4E3\"},\"line\":{\"color\":\"white\"}},\"type\":\"table\"}],\"barpolar\":[{\"marker\":{\"line\":{\"color\":\"#E5ECF6\",\"width\":0.5},\"pattern\":{\"fillmode\":\"overlay\",\"size\":10,\"solidity\":0.2}},\"type\":\"barpolar\"}],\"pie\":[{\"automargin\":true,\"type\":\"pie\"}]},\"layout\":{\"autotypenumbers\":\"strict\",\"colorway\":[\"#636efa\",\"#EF553B\",\"#00cc96\",\"#ab63fa\",\"#FFA15A\",\"#19d3f3\",\"#FF6692\",\"#B6E880\",\"#FF97FF\",\"#FECB52\"],\"font\":{\"color\":\"#2a3f5f\"},\"hovermode\":\"closest\",\"hoverlabel\":{\"align\":\"left\"},\"paper_bgcolor\":\"white\",\"plot_bgcolor\":\"#E5ECF6\",\"polar\":{\"bgcolor\":\"#E5ECF6\",\"angularaxis\":{\"gridcolor\":\"white\",\"linecolor\":\"white\",\"ticks\":\"\"},\"radialaxis\":{\"gridcolor\":\"white\",\"linecolor\":\"white\",\"ticks\":\"\"}},\"ternary\":{\"bgcolor\":\"#E5ECF6\",\"aaxis\":{\"gridcolor\":\"white\",\"linecolor\":\"white\",\"ticks\":\"\"},\"baxis\":{\"gridcolor\":\"white\",\"linecolor\":\"white\",\"ticks\":\"\"},\"caxis\":{\"gridcolor\":\"white\",\"linecolor\":\"white\",\"ticks\":\"\"}},\"coloraxis\":{\"colorbar\":{\"outlinewidth\":0,\"ticks\":\"\"}},\"colorscale\":{\"sequential\":[[0.0,\"#0d0887\"],[0.1111111111111111,\"#46039f\"],[0.2222222222222222,\"#7201a8\"],[0.3333333333333333,\"#9c179e\"],[0.4444444444444444,\"#bd3786\"],[0.5555555555555556,\"#d8576b\"],[0.6666666666666666,\"#ed7953\"],[0.7777777777777778,\"#fb9f3a\"],[0.8888888888888888,\"#fdca26\"],[1.0,\"#f0f921\"]],\"sequentialminus\":[[0.0,\"#0d0887\"],[0.1111111111111111,\"#46039f\"],[0.2222222222222222,\"#7201a8\"],[0.3333333333333333,\"#9c179e\"],[0.4444444444444444,\"#bd3786\"],[0.5555555555555556,\"#d8576b\"],[0.6666666666666666,\"#ed7953\"],[0.7777777777777778,\"#fb9f3a\"],[0.8888888888888888,\"#fdca26\"],[1.0,\"#f0f921\"]],\"diverging\":[[0,\"#8e0152\"],[0.1,\"#c51b7d\"],[0.2,\"#de77ae\"],[0.3,\"#f1b6da\"],[0.4,\"#fde0ef\"],[0.5,\"#f7f7f7\"],[0.6,\"#e6f5d0\"],[0.7,\"#b8e186\"],[0.8,\"#7fbc41\"],[0.9,\"#4d9221\"],[1,\"#276419\"]]},\"xaxis\":{\"gridcolor\":\"white\",\"linecolor\":\"white\",\"ticks\":\"\",\"title\":{\"standoff\":15},\"zerolinecolor\":\"white\",\"automargin\":true,\"zerolinewidth\":2},\"yaxis\":{\"gridcolor\":\"white\",\"linecolor\":\"white\",\"ticks\":\"\",\"title\":{\"standoff\":15},\"zerolinecolor\":\"white\",\"automargin\":true,\"zerolinewidth\":2},\"scene\":{\"xaxis\":{\"backgroundcolor\":\"#E5ECF6\",\"gridcolor\":\"white\",\"linecolor\":\"white\",\"showbackground\":true,\"ticks\":\"\",\"zerolinecolor\":\"white\",\"gridwidth\":2},\"yaxis\":{\"backgroundcolor\":\"#E5ECF6\",\"gridcolor\":\"white\",\"linecolor\":\"white\",\"showbackground\":true,\"ticks\":\"\",\"zerolinecolor\":\"white\",\"gridwidth\":2},\"zaxis\":{\"backgroundcolor\":\"#E5ECF6\",\"gridcolor\":\"white\",\"linecolor\":\"white\",\"showbackground\":true,\"ticks\":\"\",\"zerolinecolor\":\"white\",\"gridwidth\":2}},\"shapedefaults\":{\"line\":{\"color\":\"#2a3f5f\"}},\"annotationdefaults\":{\"arrowcolor\":\"#2a3f5f\",\"arrowhead\":0,\"arrowwidth\":1},\"geo\":{\"bgcolor\":\"white\",\"landcolor\":\"#E5ECF6\",\"subunitcolor\":\"white\",\"showland\":true,\"showlakes\":true,\"lakecolor\":\"white\"},\"title\":{\"x\":0.05},\"mapbox\":{\"style\":\"light\"}}}},                        {\"responsive\": true}                    ).then(function(){\n",
       "                            \n",
       "var gd = document.getElementById('4830b689-e64d-4603-a3d6-79de23d9b33f');\n",
       "var x = new MutationObserver(function (mutations, observer) {{\n",
       "        var display = window.getComputedStyle(gd).display;\n",
       "        if (!display || display === 'none') {{\n",
       "            console.log([gd, 'removed!']);\n",
       "            Plotly.purge(gd);\n",
       "            observer.disconnect();\n",
       "        }}\n",
       "}});\n",
       "\n",
       "// Listen for the removal of the full notebook cells\n",
       "var notebookContainer = gd.closest('#notebook-container');\n",
       "if (notebookContainer) {{\n",
       "    x.observe(notebookContainer, {childList: true});\n",
       "}}\n",
       "\n",
       "// Listen for the clearing of the current output cell\n",
       "var outputEl = gd.closest('.output');\n",
       "if (outputEl) {{\n",
       "    x.observe(outputEl, {childList: true});\n",
       "}}\n",
       "\n",
       "                        })                };                });            </script>        </div>"
      ]
     },
     "metadata": {},
     "output_type": "display_data"
    }
   ],
   "source": [
    "time_trainf = pd.to_datetime(time_train.flatten()).tolist()\n",
    "time_valf = pd.to_datetime(time_val.flatten()).tolist()\n",
    "time_testf = pd.to_datetime(time_test.flatten()).tolist()\n",
    "dataf = data.flatten().tolist()\n",
    "data_trainf = data_train.flatten().tolist()\n",
    "data_valf = data_val.flatten().tolist()\n",
    "data_testf = data_test.flatten().tolist()\n",
    "fig = go.Figure()\n",
    "fig.add_trace(go.Scatter(x=time_trainf, y=data_trainf, mode='lines', name='Train'))\n",
    "fig.add_trace(go.Scatter(x=time_valf, y=data_valf, mode='lines', name='Validation'))\n",
    "fig.add_trace(go.Scatter(x=time_testf, y=data_testf, mode='lines', name='Test'))\n",
    "fig.show()"
   ]
  },
  {
   "cell_type": "markdown",
   "id": "0382344f",
   "metadata": {},
   "source": [
    "#### Ein-Schritt Vorhersage & Rekursive Mehrschrittvorhersage"
   ]
  },
  {
   "cell_type": "code",
   "execution_count": 38,
   "id": "cc5048df",
   "metadata": {},
   "outputs": [],
   "source": [
    "def create_recurs_multi_data(X, y, time_steps=1):\n",
    "    Xs, ys = [], []\n",
    "    for i in range(len(X) - time_steps):\n",
    "        v = X[i:(i + time_steps)]\n",
    "        Xs.append(v)        \n",
    "        ys.append(y[i + time_steps])\n",
    "    return np.array(Xs), np.array(ys)"
   ]
  },
  {
   "cell_type": "code",
   "execution_count": 39,
   "id": "3455c8db",
   "metadata": {},
   "outputs": [],
   "source": [
    "time_steps = 4\n",
    "Xr_train, yr_train = create_recurs_multi_data(data_train, data_train, time_steps)\n",
    "Xr_val, yr_val = create_recurs_multi_data(data_val, data_val, time_steps)\n",
    "Xr_test, yr_test = create_recurs_multi_data(data_test, data_test, time_steps)"
   ]
  },
  {
   "cell_type": "code",
   "execution_count": 40,
   "id": "dada851d",
   "metadata": {},
   "outputs": [
    {
     "name": "stdout",
     "output_type": "stream",
     "text": [
      "[[0.35258769]\n",
      " [0.38937945]\n",
      " [0.14164827]\n",
      " [0.13576159]]\n",
      "and\n",
      "[0.1486387]\n"
     ]
    }
   ],
   "source": [
    "print(Xr_train[0])\n",
    "print('and')\n",
    "print(yr_train[0])"
   ]
  },
  {
   "cell_type": "markdown",
   "id": "17c211cd",
   "metadata": {},
   "source": [
    "#### Direkte Mehrschrittvorhersage"
   ]
  },
  {
   "cell_type": "code",
   "execution_count": 41,
   "id": "ff9c50ef",
   "metadata": {},
   "outputs": [],
   "source": [
    "def create_direct_multi_data(X, y, time_steps=1, future_steps=24):\n",
    "    Xs, ys = [], []\n",
    "    for i in range(len(X) - time_steps - future_steps + 1):\n",
    "        v = X[i:(i + time_steps)]\n",
    "        Xs.append(v)\n",
    "        future_values = y[i + time_steps : i + time_steps + future_steps]\n",
    "        ys.append(future_values)\n",
    "    return np.array(Xs), np.array(ys)"
   ]
  },
  {
   "cell_type": "code",
   "execution_count": 42,
   "id": "3fe6c75a",
   "metadata": {},
   "outputs": [],
   "source": [
    "time_steps = 4\n",
    "future_steps = 2\n",
    "Xd_train, yd_train = create_direct_multi_data(data_train, data_train, time_steps, future_steps)\n",
    "Xd_val, yd_val = create_direct_multi_data(data_val, data_val, time_steps, future_steps)\n",
    "Xd_test, yd_test = create_direct_multi_data(data_test, data_test, time_steps, future_steps)"
   ]
  },
  {
   "cell_type": "code",
   "execution_count": 43,
   "id": "cd182878",
   "metadata": {},
   "outputs": [
    {
     "name": "stdout",
     "output_type": "stream",
     "text": [
      "[[0.35258769]\n",
      " [0.38937945]\n",
      " [0.14164827]\n",
      " [0.13576159]]\n",
      "and\n",
      "[[0.1486387 ]\n",
      " [0.02532499]]\n"
     ]
    }
   ],
   "source": [
    "print(Xd_train[0])\n",
    "print('and')\n",
    "print(yd_train[0])"
   ]
  },
  {
   "cell_type": "markdown",
   "id": "3f0d92ea",
   "metadata": {},
   "source": [
    "### 2.2 RNNs von Hand"
   ]
  },
  {
   "cell_type": "markdown",
   "id": "e1e84b27",
   "metadata": {},
   "source": [
    "2.2.1 Step by step"
   ]
  },
  {
   "cell_type": "markdown",
   "id": "ddc81d7b",
   "metadata": {},
   "source": [
    "Nehmen wir an, wir haben eine Skala von 0 bis 1, wobei 0 für einen sonnigen Tag steht, 0,5 für einen bewölkten Tag und 1 für einen Regentag.<br>\n",
    "\n",
    "Nehmen wir nun an, wir haben ein rollendes Fenster der Größe 3. Für jedes Fenster soll das RNN versuchen, die Wetterbedingungen des nächsten Tages vorherzusagen. Die Eingabe und Ausgabe des RNN wären Sequenzen von Wetterbedingungen.\n",
    "Bei einer Folge von Wetterbedingungen [0, 0.5, 1, 0, 0.5, 1, 0] und einer Fenstergröße von 3 würden wir die folgenden Eingabe-Ausgabe-Paare erstellen:\n",
    "- Input: [0, 0.5, 1], Target: 0\n",
    "- Input: [0.5, 1, 0], Target: 0.5\n",
    "- Input: [1, 0, 0.5], Target: 1\n",
    "- Input: [0, 0.5, 1], Target: 0 <br>\n",
    "\n",
    "In diesem Beispiel würde das RNN so trainiert, dass es die Wetterbedingungen des nächsten Tages auf der Grundlage der Wetterbedingungen der letzten drei Tage vorhersagt."
   ]
  },
  {
   "cell_type": "markdown",
   "id": "4a5b8dd7",
   "metadata": {},
   "source": [
    "Zur Erinnerung: Die RNN Formeln\n",
    "$$ℎ_𝑡=tanh(𝑊_{ℎℎ} ℎ_{𝑡−1}+𝑊_{𝑥ℎ} 𝑥_𝑡+𝑏_h)$$\n",
    "$$𝑦 ̂=𝑊_{ℎ𝑦} ℎ_𝑡+𝑏_𝑦$$"
   ]
  },
  {
   "cell_type": "markdown",
   "id": "a6f06389",
   "metadata": {},
   "source": [
    "Wir nehmen hier ein ganz einfaches RNN mit 5 hidden units an."
   ]
  },
  {
   "cell_type": "code",
   "execution_count": 44,
   "id": "9904c2b0",
   "metadata": {},
   "outputs": [],
   "source": [
    "input_size = 3\n",
    "hidden_size = 5\n",
    "output_size = 1"
   ]
  },
  {
   "cell_type": "code",
   "execution_count": 45,
   "id": "497e483f",
   "metadata": {},
   "outputs": [],
   "source": [
    "Wxh = np.array([[ 0.1, -0.2,  0.3],\n",
    "                [-0.3,  0.1,  0.2],\n",
    "                [ 0.2,  0.4, -0.1],\n",
    "                [-0.5,  0.3,  0.4],\n",
    "                [ 0.3, -0.4,  0.2]])\n",
    "\n",
    "Whh = np.array([[ 0.1, -0.3,  0.2,  0.1, -0.1],\n",
    "                [ 0.2,  0.1, -0.2,  0.3,  0.1],\n",
    "                [-0.3,  0.4,  0.1, -0.1,  0.2],\n",
    "                [ 0.4, -0.1,  0.2,  0.3,  0.5],\n",
    "                [-0.5,  0.1,  0.3, -0.2,  0.4]])\n",
    "\n",
    "Why = np.array([[-0.1,  0.3, -0.2,  0.4, -0.3]])\n",
    "by = np.array([[0.1]])"
   ]
  },
  {
   "cell_type": "code",
   "execution_count": 46,
   "id": "231d2ee7",
   "metadata": {},
   "outputs": [
    {
     "data": {
      "text/plain": [
       "array([[0.],\n",
       "       [0.],\n",
       "       [0.],\n",
       "       [0.],\n",
       "       [0.]])"
      ]
     },
     "execution_count": 46,
     "metadata": {},
     "output_type": "execute_result"
    }
   ],
   "source": [
    "bh = np.zeros((hidden_size, 1))\n",
    "hidden = np.zeros((hidden_size, 1))\n",
    "hidden"
   ]
  },
  {
   "cell_type": "markdown",
   "id": "05f4d533",
   "metadata": {},
   "source": [
    "Erster Input"
   ]
  },
  {
   "cell_type": "code",
   "execution_count": 47,
   "id": "8a19ce7d",
   "metadata": {},
   "outputs": [
    {
     "data": {
      "text/plain": [
       "(1, 3)"
      ]
     },
     "execution_count": 47,
     "metadata": {},
     "output_type": "execute_result"
    }
   ],
   "source": [
    "x = np.array([[0, 0.5, 1]])\n",
    "x.shape"
   ]
  },
  {
   "cell_type": "markdown",
   "id": "cccfdb17",
   "metadata": {},
   "source": [
    "### Forward Pass"
   ]
  },
  {
   "cell_type": "code",
   "execution_count": 48,
   "id": "990461bf",
   "metadata": {},
   "outputs": [],
   "source": [
    "xs = {}\n",
    "ys = {}\n",
    "hs = {0: hidden}"
   ]
  },
  {
   "cell_type": "code",
   "execution_count": 49,
   "id": "2fcf68c8",
   "metadata": {},
   "outputs": [
    {
     "data": {
      "text/plain": [
       "{1: array([[0. ],\n",
       "        [0.5],\n",
       "        [1. ]])}"
      ]
     },
     "execution_count": 49,
     "metadata": {},
     "output_type": "execute_result"
    }
   ],
   "source": [
    "xs[1] = np.array(x).reshape(input_size, 1)\n",
    "xs"
   ]
  },
  {
   "cell_type": "code",
   "execution_count": 50,
   "id": "45b981e2",
   "metadata": {},
   "outputs": [
    {
     "data": {
      "text/plain": [
       "{0: array([[0.],\n",
       "        [0.],\n",
       "        [0.],\n",
       "        [0.],\n",
       "        [0.]]),\n",
       " 1: array([[0.19737532],\n",
       "        [0.24491866],\n",
       "        [0.09966799],\n",
       "        [0.50052021],\n",
       "        [0.        ]])}"
      ]
     },
     "execution_count": 50,
     "metadata": {},
     "output_type": "execute_result"
    }
   ],
   "source": [
    "hs[1] = np.tanh(np.dot(Wxh, xs[1]) + np.dot(Whh, hs[0]) + bh)\n",
    "hs"
   ]
  },
  {
   "cell_type": "code",
   "execution_count": 51,
   "id": "e1ed2471",
   "metadata": {},
   "outputs": [
    {
     "data": {
      "text/plain": [
       "{1: array([[0.33401255]])}"
      ]
     },
     "execution_count": 51,
     "metadata": {},
     "output_type": "execute_result"
    }
   ],
   "source": [
    "ys[1] = np.dot(Why, hs[1]) + by\n",
    "ys"
   ]
  },
  {
   "cell_type": "code",
   "execution_count": 52,
   "id": "88b6faf9",
   "metadata": {},
   "outputs": [],
   "source": [
    "y = 0"
   ]
  },
  {
   "cell_type": "code",
   "execution_count": 53,
   "id": "62238acb",
   "metadata": {},
   "outputs": [
    {
     "name": "stdout",
     "output_type": "stream",
     "text": [
      "Mean Squared Error: [[0.11156439]]\n"
     ]
    }
   ],
   "source": [
    "mse = ((y - ys[1]) ** 2) / 1\n",
    "print(f\"Mean Squared Error: {mse}\")"
   ]
  },
  {
   "cell_type": "markdown",
   "id": "a8636cfb",
   "metadata": {},
   "source": [
    "### BPTT"
   ]
  },
  {
   "cell_type": "markdown",
   "id": "1f1301ef",
   "metadata": {},
   "source": [
    "Zur Erinnerung: Die RNN Formeln\n",
    "$$ℎ_𝑡=tanh(𝑊_{ℎℎ} ℎ_{𝑡−1}+𝑊_{𝑥ℎ} 𝑥_𝑡+𝑏_h)$$\n",
    "$$𝑦 ̂=𝑊_{ℎ𝑦} ℎ_𝑡+𝑏_𝑦$$\n",
    "Und Mean-Squared-Error als Loss\n",
    "$$L = Σ_{i=1}^{N} (y_i - 𝑦 ̂_i)^2 / N$$"
   ]
  },
  {
   "cell_type": "code",
   "execution_count": 54,
   "id": "93936c78",
   "metadata": {},
   "outputs": [
    {
     "data": {
      "text/plain": [
       "array([[0.6680251]])"
      ]
     },
     "execution_count": 54,
     "metadata": {},
     "output_type": "execute_result"
    }
   ],
   "source": [
    "dLy = 2.0 * (ys[1] - y)\n",
    "dLy"
   ]
  },
  {
   "cell_type": "code",
   "execution_count": 55,
   "id": "35e99bbd",
   "metadata": {},
   "outputs": [
    {
     "data": {
      "text/plain": [
       "array([[0.13185167, 0.16361182, 0.06658072, 0.33436007, 0.        ]])"
      ]
     },
     "execution_count": 55,
     "metadata": {},
     "output_type": "execute_result"
    }
   ],
   "source": [
    "dLWhy = np.dot(dLy, hs[1].T)\n",
    "dLWhy"
   ]
  },
  {
   "cell_type": "code",
   "execution_count": 56,
   "id": "6bbc1df3",
   "metadata": {},
   "outputs": [
    {
     "data": {
      "text/plain": [
       "array([[0.6680251]])"
      ]
     },
     "execution_count": 56,
     "metadata": {},
     "output_type": "execute_result"
    }
   ],
   "source": [
    "dLby = dLy\n",
    "dLby"
   ]
  },
  {
   "cell_type": "code",
   "execution_count": 57,
   "id": "6e55a372",
   "metadata": {},
   "outputs": [
    {
     "name": "stdout",
     "output_type": "stream",
     "text": [
      "dLbh:  [[-0.06420008]\n",
      " [ 0.18838606]\n",
      " [-0.13227783]\n",
      " [ 0.20026845]\n",
      " [-0.20040753]]\n",
      "dLWxh:  [[-0.         -0.03210004 -0.06420008]\n",
      " [ 0.          0.09419303  0.18838606]\n",
      " [-0.         -0.06613891 -0.13227783]\n",
      " [ 0.          0.10013423  0.20026845]\n",
      " [-0.         -0.10020377 -0.20040753]]\n",
      "dLWhh:  [[-0. -0. -0. -0. -0.]\n",
      " [ 0.  0.  0.  0.  0.]\n",
      " [-0. -0. -0. -0. -0.]\n",
      " [ 0.  0.  0.  0.  0.]\n",
      " [-0. -0. -0. -0. -0.]]\n",
      "dLh:  [[ 0.2512517 ]\n",
      " [-0.0548801 ]\n",
      " [-0.08381358]\n",
      " [ 0.16348563]\n",
      " [ 0.01877426]]\n"
     ]
    }
   ],
   "source": [
    "dLh = np.dot(Why.T, dLy)\n",
    "for t in reversed(range(1, len(hs))):\n",
    "    temp = (1 - hs[t] * hs[t]) * dLh\n",
    "    dLbh = temp\n",
    "    dLWxh = np.dot(temp, xs[t].T)\n",
    "    dLWhh = np.dot(temp, hs[t-1].T)\n",
    "    dLh = np.dot(Whh.T, temp)\n",
    "    print(\"dLbh: \",dLbh)\n",
    "    print(\"dLWxh: \", dLWxh)\n",
    "    print(\"dLWhh: \", dLWhh)\n",
    "    print(\"dLh: \", dLh)"
   ]
  },
  {
   "cell_type": "code",
   "execution_count": 58,
   "id": "0b3a091f",
   "metadata": {},
   "outputs": [],
   "source": [
    "learning_rate = 0.01\n",
    "\n",
    "Wxh -= learning_rate * dLWxh\n",
    "Whh -= learning_rate * dLWhh\n",
    "Why -= learning_rate * dLWhy\n",
    "by -= learning_rate * dLby\n",
    "bh -= learning_rate * dLbh"
   ]
  },
  {
   "cell_type": "code",
   "execution_count": 59,
   "id": "b5c0f958",
   "metadata": {},
   "outputs": [
    {
     "data": {
      "text/plain": [
       "array([[ 0.1       , -0.199679  ,  0.300642  ],\n",
       "       [-0.3       ,  0.09905807,  0.19811614],\n",
       "       [ 0.2       ,  0.40066139, -0.09867722],\n",
       "       [-0.5       ,  0.29899866,  0.39799732],\n",
       "       [ 0.3       , -0.39899796,  0.20200408]])"
      ]
     },
     "execution_count": 59,
     "metadata": {},
     "output_type": "execute_result"
    }
   ],
   "source": [
    "Wxh"
   ]
  },
  {
   "cell_type": "code",
   "execution_count": 60,
   "id": "7b017341",
   "metadata": {},
   "outputs": [
    {
     "data": {
      "text/plain": [
       "array([[ 0.1, -0.3,  0.2,  0.1, -0.1],\n",
       "       [ 0.2,  0.1, -0.2,  0.3,  0.1],\n",
       "       [-0.3,  0.4,  0.1, -0.1,  0.2],\n",
       "       [ 0.4, -0.1,  0.2,  0.3,  0.5],\n",
       "       [-0.5,  0.1,  0.3, -0.2,  0.4]])"
      ]
     },
     "execution_count": 60,
     "metadata": {},
     "output_type": "execute_result"
    }
   ],
   "source": [
    "Whh"
   ]
  },
  {
   "cell_type": "code",
   "execution_count": 61,
   "id": "c0b36522",
   "metadata": {},
   "outputs": [
    {
     "data": {
      "text/plain": [
       "array([[-0.10131852,  0.29836388, -0.20066581,  0.3966564 , -0.3       ]])"
      ]
     },
     "execution_count": 61,
     "metadata": {},
     "output_type": "execute_result"
    }
   ],
   "source": [
    "Why"
   ]
  },
  {
   "cell_type": "code",
   "execution_count": 62,
   "id": "b87c57fb",
   "metadata": {},
   "outputs": [
    {
     "data": {
      "text/plain": [
       "array([[0.09331975]])"
      ]
     },
     "execution_count": 62,
     "metadata": {},
     "output_type": "execute_result"
    }
   ],
   "source": [
    "by"
   ]
  },
  {
   "cell_type": "code",
   "execution_count": 63,
   "id": "bf93b048",
   "metadata": {},
   "outputs": [
    {
     "data": {
      "text/plain": [
       "array([[ 0.000642  ],\n",
       "       [-0.00188386],\n",
       "       [ 0.00132278],\n",
       "       [-0.00200268],\n",
       "       [ 0.00200408]])"
      ]
     },
     "execution_count": 63,
     "metadata": {},
     "output_type": "execute_result"
    }
   ],
   "source": [
    "bh"
   ]
  },
  {
   "cell_type": "markdown",
   "id": "a7ef820c",
   "metadata": {},
   "source": [
    "### Zweiter Forward-Pass"
   ]
  },
  {
   "cell_type": "code",
   "execution_count": 64,
   "id": "7e68af19",
   "metadata": {},
   "outputs": [
    {
     "data": {
      "text/plain": [
       "{1: array([[0. ],\n",
       "        [0.5],\n",
       "        [1. ]]),\n",
       " 2: array([[0.5],\n",
       "        [1. ],\n",
       "        [0. ]])}"
      ]
     },
     "execution_count": 64,
     "metadata": {},
     "output_type": "execute_result"
    }
   ],
   "source": [
    "xs[2] = np.array(np.array([[0.5, 1, 0]])).reshape(input_size, 1)\n",
    "xs"
   ]
  },
  {
   "cell_type": "code",
   "execution_count": 65,
   "id": "8f44d4d6",
   "metadata": {},
   "outputs": [
    {
     "data": {
      "text/plain": [
       "{0: array([[0.],\n",
       "        [0.],\n",
       "        [0.],\n",
       "        [0.],\n",
       "        [0.]]),\n",
       " 1: array([[0.19737532],\n",
       "        [0.24491866],\n",
       "        [0.09966799],\n",
       "        [0.50052021],\n",
       "        [0.        ]]),\n",
       " 2: array([[-0.13201442],\n",
       "        [ 0.14042942],\n",
       "        [ 0.46263119],\n",
       "        [ 0.26506085],\n",
       "        [-0.37256078]])}"
      ]
     },
     "execution_count": 65,
     "metadata": {},
     "output_type": "execute_result"
    }
   ],
   "source": [
    "hs[2] = np.tanh(np.dot(Wxh, xs[2]) + np.dot(Whh, hs[1]) + bh)\n",
    "hs"
   ]
  },
  {
   "cell_type": "code",
   "execution_count": 66,
   "id": "954b23cd",
   "metadata": {},
   "outputs": [
    {
     "data": {
      "text/plain": [
       "{1: array([[0.32493144]])}"
      ]
     },
     "execution_count": 66,
     "metadata": {},
     "output_type": "execute_result"
    }
   ],
   "source": [
    "ys[1] = np.dot(Why, hs[1]) + by\n",
    "ys"
   ]
  },
  {
   "cell_type": "code",
   "execution_count": 67,
   "id": "fe69400d",
   "metadata": {},
   "outputs": [],
   "source": [
    "y = 0.5\n",
    "y_hat = 0.31361781"
   ]
  },
  {
   "cell_type": "code",
   "execution_count": 68,
   "id": "ed2545bb",
   "metadata": {},
   "outputs": [
    {
     "name": "stdout",
     "output_type": "stream",
     "text": [
      "Mean Squared Error: 0.034738320749196104\n"
     ]
    }
   ],
   "source": [
    "mse = ((y - y_hat) ** 2) / 1\n",
    "print(f\"Mean Squared Error: {mse}\")"
   ]
  },
  {
   "cell_type": "markdown",
   "id": "6010299c",
   "metadata": {},
   "source": [
    "### Leichte Automatisierung"
   ]
  },
  {
   "cell_type": "code",
   "execution_count": 69,
   "id": "0769ba69",
   "metadata": {},
   "outputs": [],
   "source": [
    "import numpy as np"
   ]
  },
  {
   "cell_type": "code",
   "execution_count": 70,
   "id": "37f955be",
   "metadata": {},
   "outputs": [],
   "source": [
    "def initialize_weights(input_size, hidden_size, output_size):\n",
    "    Wxh = np.random.randn(hidden_size, input_size) * np.sqrt(1. / (input_size + hidden_size))\n",
    "    Whh = np.random.randn(hidden_size, hidden_size) * np.sqrt(1. / (hidden_size + hidden_size))\n",
    "    Why = np.random.randn(output_size, hidden_size) * np.sqrt(1. / (hidden_size + output_size))\n",
    "    bh = np.zeros((hidden_size, 1))\n",
    "    by = np.zeros((output_size, 1))\n",
    "    hidden = np.zeros((hidden_size, 1))\n",
    "    weights = {'Wxh': Wxh, 'Whh': Whh, 'Why': Why, 'bh': bh, 'by': by, 'hidden': hidden}\n",
    "    \n",
    "    return weights"
   ]
  },
  {
   "cell_type": "code",
   "execution_count": 71,
   "id": "8528e76d",
   "metadata": {},
   "outputs": [],
   "source": [
    "def forward_pass(xs, hs_p, Wxh, Whh, Why, bh, by, ts):\n",
    "    hs = np.tanh(np.dot(Wxh, xs) + np.dot(Whh, hs_p) + bh)\n",
    "    ys = np.dot(Why, hs) + by\n",
    "    mse = ((ts - ys) ** 2) / 1\n",
    "    print(f\"Mean Squared Error: {mse}\")\n",
    "    \n",
    "    return ys, hs"
   ]
  },
  {
   "cell_type": "code",
   "execution_count": 72,
   "id": "7fb88011",
   "metadata": {},
   "outputs": [],
   "source": [
    "def bptt(t, ys, xs, ts, hs, Wxh, Whh, Why, bh, by, learning_rate):\n",
    "    dLWxh = np.zeros_like(Wxh)\n",
    "    dLWhh = np.zeros_like(Whh)\n",
    "    dLWhy = np.zeros_like(Why)\n",
    "    dLbh = np.zeros_like(bh)\n",
    "    dLby = np.zeros_like(by)\n",
    "    \n",
    "    dLy = 2.0 * (ys - ts)\n",
    "    dLWhy += np.dot(dLy, hs[t].T)\n",
    "    dLby += dLy\n",
    "    dLh = np.dot(Why.T, dLy)\n",
    "    for t in reversed(range(1, len(hs))):\n",
    "        temp = (1 - hs[t] * hs[t]) * dLh\n",
    "        dLbh += temp\n",
    "        dLWxh += np.dot(temp, xs.T)\n",
    "        dLWhh += np.dot(temp, hs[t-1].T)\n",
    "        dLh = np.dot(Whh.T, temp)\n",
    "        print(\"dLbh: \",dLbh)\n",
    "        print(\"dLWxh: \", dLWxh)\n",
    "        print(\"dLWhh: \", dLWhh)\n",
    "        print(\"dLh: \", dLh)\n",
    "    \n",
    "    Wxh -= learning_rate * dLWxh\n",
    "    Whh -= learning_rate * dLWhh\n",
    "    Why -= learning_rate * dLWhy\n",
    "    bh -= learning_rate * dLbh\n",
    "    by -= learning_rate * dLby\n",
    "    \n",
    "    return Wxh, Whh, Why, bh, by"
   ]
  },
  {
   "cell_type": "code",
   "execution_count": 73,
   "id": "b3fff213",
   "metadata": {},
   "outputs": [],
   "source": [
    "def training(input_sequence, input_size, hidden_size, output_size, learning_rate):\n",
    "    initial_weights = initialize_weights(input_size, hidden_size, output_size)\n",
    "    \n",
    "    inputs = [input_sequence[i:i+input_size] for i in range(len(input_sequence)-input_size)]\n",
    "    inputs = np.array(inputs).reshape(len(inputs), input_size, 1)\n",
    "    targets = input_sequence[input_size:]\n",
    "    targets = np.array(targets).reshape(len(targets),output_size, 1)\n",
    "    \n",
    "    xs = {}\n",
    "    ts = {}\n",
    "    ys = {}\n",
    "    hs = {0: initial_weights['hidden']}\n",
    "    Wxhs = {1: initial_weights['Wxh']}\n",
    "    Whhs = {1: initial_weights['Whh']}\n",
    "    Whys = {1: initial_weights['Why']}\n",
    "    bhs = {1: initial_weights['bh']}\n",
    "    bys = {1: initial_weights['by']}    \n",
    "    for t in range(1, 1+len(inputs)):\n",
    "        xs[t] = inputs[t-1]\n",
    "        ts[t] = targets[t-1]\n",
    "        ys[t], hs[t] = forward_pass(xs[t], hs[t-1], Wxhs[t], Whhs[t], Whys[t], bhs[t], bys[t], ts[t])\n",
    "        Wxhs[t+1], Whhs[t+1], Whys[t+1], bhs[t+1], bys[t+1] = bptt(t, ys[t], xs[t], ts[t], hs, Wxhs[t], Whhs[t], Whys[t], bhs[t], bys[t], learning_rate)"
   ]
  },
  {
   "cell_type": "code",
   "execution_count": 74,
   "id": "70583064",
   "metadata": {},
   "outputs": [],
   "source": [
    "input_size = 3\n",
    "hidden_size = 5\n",
    "output_size = 1"
   ]
  },
  {
   "cell_type": "code",
   "execution_count": 75,
   "id": "19359735",
   "metadata": {},
   "outputs": [],
   "source": [
    "input_sequence = [0, 0.5, 1, 0, 0.5, 1, 0]"
   ]
  },
  {
   "cell_type": "code",
   "execution_count": 76,
   "id": "4e0bc71e",
   "metadata": {},
   "outputs": [],
   "source": [
    "learning_rate = 0.01"
   ]
  },
  {
   "cell_type": "code",
   "execution_count": 77,
   "id": "ece150e8",
   "metadata": {},
   "outputs": [
    {
     "name": "stdout",
     "output_type": "stream",
     "text": [
      "Mean Squared Error: [[0.00063053]]\n",
      "dLbh:  [[ 0.00471343]\n",
      " [-0.00206399]\n",
      " [ 0.00304214]\n",
      " [-0.00791009]\n",
      " [ 0.01721669]]\n",
      "dLWxh:  [[ 0.          0.00235671  0.00471343]\n",
      " [ 0.         -0.00103199 -0.00206399]\n",
      " [ 0.          0.00152107  0.00304214]\n",
      " [ 0.         -0.00395504 -0.00791009]\n",
      " [ 0.          0.00860834  0.01721669]]\n",
      "dLWhh:  [[0. 0. 0. 0. 0.]\n",
      " [0. 0. 0. 0. 0.]\n",
      " [0. 0. 0. 0. 0.]\n",
      " [0. 0. 0. 0. 0.]\n",
      " [0. 0. 0. 0. 0.]]\n",
      "dLh:  [[ 0.01095194]\n",
      " [ 0.01615794]\n",
      " [-0.00012924]\n",
      " [ 0.00336854]\n",
      " [-0.01019784]]\n",
      "Mean Squared Error: [[0.0908381]]\n",
      "dLbh:  [[ 0.05154444]\n",
      " [-0.02772039]\n",
      " [ 0.03662269]\n",
      " [-0.10478716]\n",
      " [ 0.16527922]]\n",
      "dLWxh:  [[ 0.02577222  0.05154444  0.        ]\n",
      " [-0.01386019 -0.02772039  0.        ]\n",
      " [ 0.01831135  0.03662269  0.        ]\n",
      " [-0.05239358 -0.10478716  0.        ]\n",
      " [ 0.08263961  0.16527922  0.        ]]\n",
      "dLWhh:  [[ 0.00952675 -0.01712744  0.013665   -0.01813311 -0.01254758]\n",
      " [-0.00512345  0.00921107 -0.00734898  0.00975191  0.00674804]\n",
      " [ 0.00676883 -0.01216917  0.00970908 -0.0128837  -0.00891514]\n",
      " [-0.01936739  0.0348192  -0.02778023  0.03686366  0.02550857]\n",
      " [ 0.0305479  -0.0549198   0.04381734 -0.05814449 -0.04023429]]\n",
      "dLh:  [[ 0.10849957]\n",
      " [ 0.16316725]\n",
      " [-0.01203178]\n",
      " [ 0.02671866]\n",
      " [-0.10939421]]\n",
      "dLbh:  [[ 0.1563376 ]\n",
      " [ 0.11743103]\n",
      " [ 0.02543655]\n",
      " [-0.08137521]\n",
      " [ 0.06236763]]\n",
      "dLWxh:  [[ 0.0781688   0.1563376   0.        ]\n",
      " [ 0.05871552  0.11743103  0.        ]\n",
      " [ 0.01271828  0.02543655  0.        ]\n",
      " [-0.0406876  -0.08137521  0.        ]\n",
      " [ 0.03118382  0.06236763  0.        ]]\n",
      "dLWhh:  [[ 0.00952675 -0.01712744  0.013665   -0.01813311 -0.01254758]\n",
      " [-0.00512345  0.00921107 -0.00734898  0.00975191  0.00674804]\n",
      " [ 0.00676883 -0.01216917  0.00970908 -0.0128837  -0.00891514]\n",
      " [-0.01936739  0.0348192  -0.02778023  0.03686366  0.02550857]\n",
      " [ 0.0305479  -0.0549198   0.04381734 -0.05814449 -0.04023429]]\n",
      "dLh:  [[-0.0140213 ]\n",
      " [-0.11331769]\n",
      " [ 0.01652318]\n",
      " [ 0.02175455]\n",
      " [ 0.04479179]]\n",
      "Mean Squared Error: [[0.83791977]]\n",
      "dLbh:  [[ 0.17955261]\n",
      " [-0.08140353]\n",
      " [ 0.11894975]\n",
      " [-0.3248036 ]\n",
      " [ 0.62303195]]\n",
      "dLWxh:  [[ 0.17955261  0.          0.08977631]\n",
      " [-0.08140353  0.         -0.04070177]\n",
      " [ 0.11894975  0.          0.05947487]\n",
      " [-0.3248036   0.         -0.1624018 ]\n",
      " [ 0.62303195  0.          0.31151598]]\n",
      "dLWhh:  [[-0.06198699 -0.00563006 -0.04598957 -0.03209502 -0.08938672]\n",
      " [ 0.02810296  0.00255249  0.02085023  0.01455088  0.04052514]\n",
      " [-0.04106505 -0.00372979 -0.0304671  -0.02126226 -0.05921678]\n",
      " [ 0.11213202  0.01018456  0.08319332  0.05805862  0.16169706]\n",
      " [-0.21508946 -0.01953582 -0.15957981 -0.11136691 -0.31016416]]\n",
      "dLh:  [[ 0.40156806]\n",
      " [ 0.59543195]\n",
      " [-0.0191568 ]\n",
      " [ 0.11514246]\n",
      " [-0.38551219]]\n",
      "dLbh:  [[ 0.53326022]\n",
      " [ 0.51344298]\n",
      " [ 0.10104972]\n",
      " [-0.21334013]\n",
      " [ 0.33306316]]\n",
      "dLWxh:  [[ 0.53326022  0.          0.26663011]\n",
      " [ 0.51344298  0.          0.25672149]\n",
      " [ 0.10104972  0.          0.05052486]\n",
      " [-0.21334013  0.         -0.10667006]\n",
      " [ 0.33306316  0.          0.16653158]]\n",
      "dLWhh:  [[ 0.00338738 -0.12316177  0.0477822  -0.15652777 -0.17549055]\n",
      " [ 0.13804607 -0.19510605  0.17855058 -0.19471347 -0.10427966]\n",
      " [-0.04437344  0.00221812 -0.0352126  -0.01496511 -0.05485934]\n",
      " [ 0.13273337 -0.02685308  0.11274352  0.01884627  0.13456326]\n",
      " [-0.26868323  0.07681645 -0.23645373 -0.00935719 -0.23957641]]\n",
      "dLh:  [[-0.00711181]\n",
      " [-0.36238044]\n",
      " [ 0.09740448]\n",
      " [ 0.11148268]\n",
      " [ 0.11341771]]\n",
      "dLbh:  [[ 0.52639135]\n",
      " [ 0.19107416]\n",
      " [ 0.19160825]\n",
      " [-0.11565455]\n",
      " [ 0.43975982]]\n",
      "dLWxh:  [[ 0.52639135  0.          0.26319567]\n",
      " [ 0.19107416  0.          0.09553708]\n",
      " [ 0.19160825  0.          0.09580412]\n",
      " [-0.11565455  0.         -0.05782728]\n",
      " [ 0.43975982  0.          0.21987991]]\n",
      "dLWhh:  [[ 0.00338738 -0.12316177  0.0477822  -0.15652777 -0.17549055]\n",
      " [ 0.13804607 -0.19510605  0.17855058 -0.19471347 -0.10427966]\n",
      " [-0.04437344  0.00221812 -0.0352126  -0.01496511 -0.05485934]\n",
      " [ 0.13273337 -0.02685308  0.11274352  0.01884627  0.13456326]\n",
      " [-0.26868323  0.07681645 -0.23645373 -0.00935719 -0.23957641]]\n",
      "dLh:  [[-0.03719136]\n",
      " [ 0.1083799 ]\n",
      " [ 0.02719159]\n",
      " [ 0.04636693]\n",
      " [ 0.15012991]]\n",
      "Mean Squared Error: [[2.94937736e-05]]\n",
      "dLbh:  [[ 0.00104907]\n",
      " [-0.00043796]\n",
      " [ 0.00074394]\n",
      " [-0.00136931]\n",
      " [ 0.00380629]]\n",
      "dLWxh:  [[ 0.          0.00052454  0.00104907]\n",
      " [ 0.         -0.00021898 -0.00043796]\n",
      " [ 0.          0.00037197  0.00074394]\n",
      " [ 0.         -0.00068465 -0.00136931]\n",
      " [ 0.          0.00190315  0.00380629]]\n",
      "dLWhh:  [[ 1.09793464e-04 -1.81943005e-04 -1.62254828e-04 -8.17250051e-05\n",
      "  -2.85515751e-04]\n",
      " [-4.58364226e-05  7.59573129e-05  6.77379202e-05  3.41184415e-05\n",
      "   1.19196719e-04]\n",
      " [ 7.78594810e-05 -1.29023964e-04 -1.15062193e-04 -5.79548752e-05\n",
      "  -2.02472055e-04]\n",
      " [-1.43308756e-04  2.37482496e-04  2.11784353e-04  1.06672187e-04\n",
      "   3.72671614e-04]\n",
      " [ 3.98357860e-04 -6.60134253e-04 -5.88700676e-04 -2.96518546e-04\n",
      "  -1.03592181e-03]]\n",
      "dLh:  [[ 0.00235086]\n",
      " [ 0.00346808]\n",
      " [ 0.00015118]\n",
      " [ 0.00088669]\n",
      " [-0.00197757]]\n",
      "dLbh:  [[ 0.00337418]\n",
      " [ 0.0029258 ]\n",
      " [ 0.0008915 ]\n",
      " [-0.000488  ]\n",
      " [ 0.0019752 ]]\n",
      "dLWxh:  [[ 0.          0.00168709  0.00337418]\n",
      " [ 0.          0.0014629   0.0029258 ]\n",
      " [ 0.          0.00044575  0.0008915 ]\n",
      " [ 0.         -0.000244   -0.000488  ]\n",
      " [ 0.          0.0009876   0.0019752 ]]\n",
      "dLWhh:  [[-6.92903670e-04 -2.54849152e-04 -7.57794281e-04 -4.97337656e-04\n",
      "  -1.44302425e-03]\n",
      " [-1.20710913e-03 -2.95169875e-05 -7.93836991e-04 -5.67153954e-04\n",
      "  -1.55538635e-03]\n",
      " [ 2.69170643e-05 -1.33650884e-04 -1.52857543e-04 -8.43313402e-05\n",
      "  -2.75932240e-04]\n",
      " [-4.47562643e-04  2.09848190e-04 -1.39485980e-05 -5.08614073e-05\n",
      "  -6.60697797e-05]\n",
      " [ 1.03050599e-03 -6.02718471e-04 -1.19695452e-04  3.07889125e-05\n",
      "  -1.24349069e-04]]\n",
      "dLh:  [[-0.00020088]\n",
      " [-0.00227716]\n",
      " [ 0.00067814]\n",
      " [ 0.0008277 ]\n",
      " [ 0.00107989]]\n",
      "dLbh:  [[0.00319724]\n",
      " [0.00065088]\n",
      " [0.00152516]\n",
      " [0.00031326]\n",
      " [0.00278745]]\n",
      "dLWxh:  [[0.         0.00159862 0.00319724]\n",
      " [0.         0.00032544 0.00065088]\n",
      " [0.         0.00076258 0.00152516]\n",
      " [0.         0.00015663 0.00031326]\n",
      " [0.         0.00139373 0.00278745]]\n",
      "dLWhh:  [[-7.25606516e-04 -1.96055135e-04 -8.04702635e-04 -4.35091465e-04\n",
      "  -1.39995171e-03]\n",
      " [-1.62757283e-03  7.26403474e-04 -1.39694231e-03  2.33151453e-04\n",
      "  -1.00159843e-03]\n",
      " [ 1.44032460e-04 -3.44203954e-04  1.51306022e-05 -3.07247333e-04\n",
      "  -4.30183583e-04]\n",
      " [-2.99469333e-04 -5.63977708e-05  1.98473692e-04 -3.32740378e-04\n",
      "  -2.61121778e-04]\n",
      " [ 1.18063154e-03 -8.72618052e-04  9.56418511e-05 -2.54958207e-04\n",
      "  -3.22077713e-04]]\n",
      "dLh:  [[-0.0002683 ]\n",
      " [ 0.00078092]\n",
      " [ 0.00024555]\n",
      " [ 0.00033447]\n",
      " [ 0.00105755]]\n",
      "dLbh:  [[0.00293811]\n",
      " [0.00134557]\n",
      " [0.00175345]\n",
      " [0.00060634]\n",
      " [0.00378233]]\n",
      "dLWxh:  [[0.         0.00146905 0.00293811]\n",
      " [0.         0.00067279 0.00134557]\n",
      " [0.         0.00087672 0.00175345]\n",
      " [0.         0.00030317 0.00060634]\n",
      " [0.         0.00189116 0.00378233]]\n",
      "dLWhh:  [[-7.25606516e-04 -1.96055135e-04 -8.04702635e-04 -4.35091465e-04\n",
      "  -1.39995171e-03]\n",
      " [-1.62757283e-03  7.26403474e-04 -1.39694231e-03  2.33151453e-04\n",
      "  -1.00159843e-03]\n",
      " [ 1.44032460e-04 -3.44203954e-04  1.51306022e-05 -3.07247333e-04\n",
      "  -4.30183583e-04]\n",
      " [-2.99469333e-04 -5.63977708e-05  1.98473692e-04 -3.32740378e-04\n",
      "  -2.61121778e-04]\n",
      " [ 1.18063154e-03 -8.72618052e-04  9.56418511e-05 -2.54958207e-04\n",
      "  -3.22077713e-04]]\n",
      "dLh:  [[ 0.000526  ]\n",
      " [ 0.0006122 ]\n",
      " [ 0.00041048]\n",
      " [ 0.0003763 ]\n",
      " [-0.00054845]]\n"
     ]
    }
   ],
   "source": [
    "training(input_sequence, input_size, hidden_size, output_size, learning_rate)"
   ]
  },
  {
   "cell_type": "markdown",
   "id": "74e6d1f6",
   "metadata": {},
   "source": [
    "<div class=\"alert alert-info\">\n",
    "    <h5> Aufgabe 2.1) Vorbereitung Daten für Deep Learning Zeitreihenanalyse </h5><br>\n",
    "- Bereite die Stromverbrauchsdaten des Haushalts 8 im Mai 2012 für die Zeitreihenanalyse vor<br>\n",
    "- Visualisiere die Trainings-, Val- und Testdaten sowie die Einteilung mindestens eines Fensters<br>\n",
    "</div>"
   ]
  },
  {
   "cell_type": "code",
   "execution_count": 78,
   "id": "8d9da012",
   "metadata": {},
   "outputs": [],
   "source": [
    "# Dein Code"
   ]
  },
  {
   "cell_type": "markdown",
   "id": "a899a89e",
   "metadata": {},
   "source": [
    "<div class=\"alert alert-info\">\n",
    "    <h5> Aufgabe 2.2) RNNs von Hand </h5><br>\n",
    "- Vergleiche die Rechenschritte unseres einfachen RNN Modells mit deinem theoretischen Verständnis des Modells. Wo gibt es noch Unklarheiten?<br>\n",
    "- Kommentiere in den Code, was wo passiert.<br>\n",
    "</div>"
   ]
  },
  {
   "cell_type": "code",
   "execution_count": 79,
   "id": "b4e64607",
   "metadata": {},
   "outputs": [],
   "source": [
    "# Dein Code"
   ]
  },
  {
   "cell_type": "code",
   "execution_count": 118,
   "id": "10a5928a",
   "metadata": {},
   "outputs": [],
   "source": [
    "import tensorflow as tf\n",
    "from tensorflow.keras.models import Sequential\n",
    "from tensorflow.keras.layers import LSTM, SimpleRNN, Dense, Input"
   ]
  },
  {
   "cell_type": "markdown",
   "id": "4dba90e2",
   "metadata": {},
   "source": [
    "### 2.2 Fortsetzung: RNNs mit Tensorflow"
   ]
  },
  {
   "cell_type": "code",
   "execution_count": 81,
   "id": "a2498e3c",
   "metadata": {},
   "outputs": [],
   "source": [
    "input_size = 3 #window_size\n",
    "hidden_size = 5\n",
    "output_size = 1"
   ]
  },
  {
   "cell_type": "code",
   "execution_count": 82,
   "id": "be2f254f",
   "metadata": {},
   "outputs": [],
   "source": [
    "# Prepare your data\n",
    "sequence = [0, 0.5, 1, 0, 0.5, 1, 0]"
   ]
  },
  {
   "cell_type": "code",
   "execution_count": 83,
   "id": "ffab29f5",
   "metadata": {},
   "outputs": [],
   "source": [
    "X = [sequence[i:i+input_size] for i in range(len(sequence)-input_size)]\n",
    "y = sequence[input_size:]"
   ]
  },
  {
   "cell_type": "code",
   "execution_count": 84,
   "id": "8f4b293e",
   "metadata": {},
   "outputs": [
    {
     "data": {
      "text/plain": [
       "[[0, 0.5, 1], [0.5, 1, 0], [1, 0, 0.5], [0, 0.5, 1]]"
      ]
     },
     "execution_count": 84,
     "metadata": {},
     "output_type": "execute_result"
    }
   ],
   "source": [
    "X"
   ]
  },
  {
   "cell_type": "code",
   "execution_count": 85,
   "id": "efbe65a3",
   "metadata": {},
   "outputs": [],
   "source": [
    "X = tf.reshape(X, (len(X), input_size, 1))  \n",
    "y = tf.reshape(y, (len(y), 1))"
   ]
  },
  {
   "cell_type": "code",
   "execution_count": 86,
   "id": "f3f2bf25",
   "metadata": {},
   "outputs": [
    {
     "data": {
      "text/plain": [
       "<tf.Tensor: shape=(4, 3, 1), dtype=float32, numpy=\n",
       "array([[[0. ],\n",
       "        [0.5],\n",
       "        [1. ]],\n",
       "\n",
       "       [[0.5],\n",
       "        [1. ],\n",
       "        [0. ]],\n",
       "\n",
       "       [[1. ],\n",
       "        [0. ],\n",
       "        [0.5]],\n",
       "\n",
       "       [[0. ],\n",
       "        [0.5],\n",
       "        [1. ]]], dtype=float32)>"
      ]
     },
     "execution_count": 86,
     "metadata": {},
     "output_type": "execute_result"
    }
   ],
   "source": [
    "X"
   ]
  },
  {
   "cell_type": "code",
   "execution_count": 119,
   "id": "a21b471a",
   "metadata": {},
   "outputs": [],
   "source": [
    "# Define the model\n",
    "simple_RNN_model = Sequential([\n",
    "    Input(shape=(input_size, 1)),  # Definiert die Form der Eingabedaten\n",
    "    SimpleRNN(hidden_size),        # SimpleRNN-Schicht mit 5 Neuronen\n",
    "    Dense(output_size)             # Ausgangsschicht mit einem Ausgangswert\n",
    "])"
   ]
  },
  {
   "cell_type": "code",
   "execution_count": 120,
   "id": "a3b1313d",
   "metadata": {},
   "outputs": [],
   "source": [
    "# Compile the model\n",
    "simple_RNN_model.compile(loss='mean_squared_error', optimizer='adam')"
   ]
  },
  {
   "cell_type": "code",
   "execution_count": 121,
   "id": "c82144cc",
   "metadata": {},
   "outputs": [
    {
     "name": "stdout",
     "output_type": "stream",
     "text": [
      "Epoch 1/100\n",
      "\u001b[1m1/1\u001b[0m \u001b[32m━━━━━━━━━━━━━━━━━━━━\u001b[0m\u001b[37m\u001b[0m \u001b[1m1s\u001b[0m 765ms/step - loss: 0.2802\n",
      "Epoch 2/100\n",
      "\u001b[1m1/1\u001b[0m \u001b[32m━━━━━━━━━━━━━━━━━━━━\u001b[0m\u001b[37m\u001b[0m \u001b[1m0s\u001b[0m 8ms/step - loss: 0.2265\n",
      "Epoch 3/100\n",
      "\u001b[1m1/1\u001b[0m \u001b[32m━━━━━━━━━━━━━━━━━━━━\u001b[0m\u001b[37m\u001b[0m \u001b[1m0s\u001b[0m 10ms/step - loss: 0.1824\n",
      "Epoch 4/100\n",
      "\u001b[1m1/1\u001b[0m \u001b[32m━━━━━━━━━━━━━━━━━━━━\u001b[0m\u001b[37m\u001b[0m \u001b[1m0s\u001b[0m 16ms/step - loss: 0.1466\n",
      "Epoch 5/100\n",
      "\u001b[1m1/1\u001b[0m \u001b[32m━━━━━━━━━━━━━━━━━━━━\u001b[0m\u001b[37m\u001b[0m \u001b[1m0s\u001b[0m 17ms/step - loss: 0.1178\n",
      "Epoch 6/100\n",
      "\u001b[1m1/1\u001b[0m \u001b[32m━━━━━━━━━━━━━━━━━━━━\u001b[0m\u001b[37m\u001b[0m \u001b[1m0s\u001b[0m 33ms/step - loss: 0.0943\n",
      "Epoch 7/100\n",
      "\u001b[1m1/1\u001b[0m \u001b[32m━━━━━━━━━━━━━━━━━━━━\u001b[0m\u001b[37m\u001b[0m \u001b[1m0s\u001b[0m 20ms/step - loss: 0.0745\n",
      "Epoch 8/100\n",
      "\u001b[1m1/1\u001b[0m \u001b[32m━━━━━━━━━━━━━━━━━━━━\u001b[0m\u001b[37m\u001b[0m \u001b[1m0s\u001b[0m 17ms/step - loss: 0.0579\n",
      "Epoch 9/100\n",
      "\u001b[1m1/1\u001b[0m \u001b[32m━━━━━━━━━━━━━━━━━━━━\u001b[0m\u001b[37m\u001b[0m \u001b[1m0s\u001b[0m 20ms/step - loss: 0.0440\n",
      "Epoch 10/100\n",
      "\u001b[1m1/1\u001b[0m \u001b[32m━━━━━━━━━━━━━━━━━━━━\u001b[0m\u001b[37m\u001b[0m \u001b[1m0s\u001b[0m 15ms/step - loss: 0.0325\n",
      "Epoch 11/100\n",
      "\u001b[1m1/1\u001b[0m \u001b[32m━━━━━━━━━━━━━━━━━━━━\u001b[0m\u001b[37m\u001b[0m \u001b[1m0s\u001b[0m 18ms/step - loss: 0.0233\n",
      "Epoch 12/100\n",
      "\u001b[1m1/1\u001b[0m \u001b[32m━━━━━━━━━━━━━━━━━━━━\u001b[0m\u001b[37m\u001b[0m \u001b[1m0s\u001b[0m 19ms/step - loss: 0.0163\n",
      "Epoch 13/100\n",
      "\u001b[1m1/1\u001b[0m \u001b[32m━━━━━━━━━━━━━━━━━━━━\u001b[0m\u001b[37m\u001b[0m \u001b[1m0s\u001b[0m 18ms/step - loss: 0.0116\n",
      "Epoch 14/100\n",
      "\u001b[1m1/1\u001b[0m \u001b[32m━━━━━━━━━━━━━━━━━━━━\u001b[0m\u001b[37m\u001b[0m \u001b[1m0s\u001b[0m 16ms/step - loss: 0.0089\n",
      "Epoch 15/100\n",
      "\u001b[1m1/1\u001b[0m \u001b[32m━━━━━━━━━━━━━━━━━━━━\u001b[0m\u001b[37m\u001b[0m \u001b[1m0s\u001b[0m 20ms/step - loss: 0.0080\n",
      "Epoch 16/100\n",
      "\u001b[1m1/1\u001b[0m \u001b[32m━━━━━━━━━━━━━━━━━━━━\u001b[0m\u001b[37m\u001b[0m \u001b[1m0s\u001b[0m 17ms/step - loss: 0.0084\n",
      "Epoch 17/100\n",
      "\u001b[1m1/1\u001b[0m \u001b[32m━━━━━━━━━━━━━━━━━━━━\u001b[0m\u001b[37m\u001b[0m \u001b[1m0s\u001b[0m 26ms/step - loss: 0.0097\n",
      "Epoch 18/100\n",
      "\u001b[1m1/1\u001b[0m \u001b[32m━━━━━━━━━━━━━━━━━━━━\u001b[0m\u001b[37m\u001b[0m \u001b[1m0s\u001b[0m 19ms/step - loss: 0.0113\n",
      "Epoch 19/100\n",
      "\u001b[1m1/1\u001b[0m \u001b[32m━━━━━━━━━━━━━━━━━━━━\u001b[0m\u001b[37m\u001b[0m \u001b[1m0s\u001b[0m 37ms/step - loss: 0.0128\n",
      "Epoch 20/100\n",
      "\u001b[1m1/1\u001b[0m \u001b[32m━━━━━━━━━━━━━━━━━━━━\u001b[0m\u001b[37m\u001b[0m \u001b[1m0s\u001b[0m 66ms/step - loss: 0.0138\n",
      "Epoch 21/100\n",
      "\u001b[1m1/1\u001b[0m \u001b[32m━━━━━━━━━━━━━━━━━━━━\u001b[0m\u001b[37m\u001b[0m \u001b[1m0s\u001b[0m 14ms/step - loss: 0.0142\n",
      "Epoch 22/100\n",
      "\u001b[1m1/1\u001b[0m \u001b[32m━━━━━━━━━━━━━━━━━━━━\u001b[0m\u001b[37m\u001b[0m \u001b[1m0s\u001b[0m 19ms/step - loss: 0.0139\n",
      "Epoch 23/100\n",
      "\u001b[1m1/1\u001b[0m \u001b[32m━━━━━━━━━━━━━━━━━━━━\u001b[0m\u001b[37m\u001b[0m \u001b[1m0s\u001b[0m 23ms/step - loss: 0.0130\n",
      "Epoch 24/100\n",
      "\u001b[1m1/1\u001b[0m \u001b[32m━━━━━━━━━━━━━━━━━━━━\u001b[0m\u001b[37m\u001b[0m \u001b[1m0s\u001b[0m 18ms/step - loss: 0.0117\n",
      "Epoch 25/100\n",
      "\u001b[1m1/1\u001b[0m \u001b[32m━━━━━━━━━━━━━━━━━━━━\u001b[0m\u001b[37m\u001b[0m \u001b[1m0s\u001b[0m 17ms/step - loss: 0.0101\n",
      "Epoch 26/100\n",
      "\u001b[1m1/1\u001b[0m \u001b[32m━━━━━━━━━━━━━━━━━━━━\u001b[0m\u001b[37m\u001b[0m \u001b[1m0s\u001b[0m 21ms/step - loss: 0.0085\n",
      "Epoch 27/100\n",
      "\u001b[1m1/1\u001b[0m \u001b[32m━━━━━━━━━━━━━━━━━━━━\u001b[0m\u001b[37m\u001b[0m \u001b[1m0s\u001b[0m 15ms/step - loss: 0.0068\n",
      "Epoch 28/100\n",
      "\u001b[1m1/1\u001b[0m \u001b[32m━━━━━━━━━━━━━━━━━━━━\u001b[0m\u001b[37m\u001b[0m \u001b[1m0s\u001b[0m 23ms/step - loss: 0.0053\n",
      "Epoch 29/100\n",
      "\u001b[1m1/1\u001b[0m \u001b[32m━━━━━━━━━━━━━━━━━━━━\u001b[0m\u001b[37m\u001b[0m \u001b[1m0s\u001b[0m 22ms/step - loss: 0.0040\n",
      "Epoch 30/100\n",
      "\u001b[1m1/1\u001b[0m \u001b[32m━━━━━━━━━━━━━━━━━━━━\u001b[0m\u001b[37m\u001b[0m \u001b[1m0s\u001b[0m 18ms/step - loss: 0.0028\n",
      "Epoch 31/100\n",
      "\u001b[1m1/1\u001b[0m \u001b[32m━━━━━━━━━━━━━━━━━━━━\u001b[0m\u001b[37m\u001b[0m \u001b[1m0s\u001b[0m 18ms/step - loss: 0.0018\n",
      "Epoch 32/100\n",
      "\u001b[1m1/1\u001b[0m \u001b[32m━━━━━━━━━━━━━━━━━━━━\u001b[0m\u001b[37m\u001b[0m \u001b[1m0s\u001b[0m 14ms/step - loss: 0.0011\n",
      "Epoch 33/100\n",
      "\u001b[1m1/1\u001b[0m \u001b[32m━━━━━━━━━━━━━━━━━━━━\u001b[0m\u001b[37m\u001b[0m \u001b[1m0s\u001b[0m 22ms/step - loss: 5.7987e-04\n",
      "Epoch 34/100\n",
      "\u001b[1m1/1\u001b[0m \u001b[32m━━━━━━━━━━━━━━━━━━━━\u001b[0m\u001b[37m\u001b[0m \u001b[1m0s\u001b[0m 12ms/step - loss: 3.0178e-04\n",
      "Epoch 35/100\n",
      "\u001b[1m1/1\u001b[0m \u001b[32m━━━━━━━━━━━━━━━━━━━━\u001b[0m\u001b[37m\u001b[0m \u001b[1m0s\u001b[0m 18ms/step - loss: 2.3859e-04\n",
      "Epoch 36/100\n",
      "\u001b[1m1/1\u001b[0m \u001b[32m━━━━━━━━━━━━━━━━━━━━\u001b[0m\u001b[37m\u001b[0m \u001b[1m0s\u001b[0m 18ms/step - loss: 3.5555e-04\n",
      "Epoch 37/100\n",
      "\u001b[1m1/1\u001b[0m \u001b[32m━━━━━━━━━━━━━━━━━━━━\u001b[0m\u001b[37m\u001b[0m \u001b[1m0s\u001b[0m 17ms/step - loss: 6.0136e-04\n",
      "Epoch 38/100\n",
      "\u001b[1m1/1\u001b[0m \u001b[32m━━━━━━━━━━━━━━━━━━━━\u001b[0m\u001b[37m\u001b[0m \u001b[1m0s\u001b[0m 18ms/step - loss: 9.1490e-04\n",
      "Epoch 39/100\n",
      "\u001b[1m1/1\u001b[0m \u001b[32m━━━━━━━━━━━━━━━━━━━━\u001b[0m\u001b[37m\u001b[0m \u001b[1m0s\u001b[0m 16ms/step - loss: 0.0012\n",
      "Epoch 40/100\n",
      "\u001b[1m1/1\u001b[0m \u001b[32m━━━━━━━━━━━━━━━━━━━━\u001b[0m\u001b[37m\u001b[0m \u001b[1m0s\u001b[0m 19ms/step - loss: 0.0015\n",
      "Epoch 41/100\n",
      "\u001b[1m1/1\u001b[0m \u001b[32m━━━━━━━━━━━━━━━━━━━━\u001b[0m\u001b[37m\u001b[0m \u001b[1m0s\u001b[0m 18ms/step - loss: 0.0017\n",
      "Epoch 42/100\n",
      "\u001b[1m1/1\u001b[0m \u001b[32m━━━━━━━━━━━━━━━━━━━━\u001b[0m\u001b[37m\u001b[0m \u001b[1m0s\u001b[0m 17ms/step - loss: 0.0018\n",
      "Epoch 43/100\n",
      "\u001b[1m1/1\u001b[0m \u001b[32m━━━━━━━━━━━━━━━━━━━━\u001b[0m\u001b[37m\u001b[0m \u001b[1m0s\u001b[0m 12ms/step - loss: 0.0018\n",
      "Epoch 44/100\n",
      "\u001b[1m1/1\u001b[0m \u001b[32m━━━━━━━━━━━━━━━━━━━━\u001b[0m\u001b[37m\u001b[0m \u001b[1m0s\u001b[0m 23ms/step - loss: 0.0018\n",
      "Epoch 45/100\n",
      "\u001b[1m1/1\u001b[0m \u001b[32m━━━━━━━━━━━━━━━━━━━━\u001b[0m\u001b[37m\u001b[0m \u001b[1m0s\u001b[0m 24ms/step - loss: 0.0016\n",
      "Epoch 46/100\n",
      "\u001b[1m1/1\u001b[0m \u001b[32m━━━━━━━━━━━━━━━━━━━━\u001b[0m\u001b[37m\u001b[0m \u001b[1m0s\u001b[0m 17ms/step - loss: 0.0015\n",
      "Epoch 47/100\n",
      "\u001b[1m1/1\u001b[0m \u001b[32m━━━━━━━━━━━━━━━━━━━━\u001b[0m\u001b[37m\u001b[0m \u001b[1m0s\u001b[0m 18ms/step - loss: 0.0013\n",
      "Epoch 48/100\n",
      "\u001b[1m1/1\u001b[0m \u001b[32m━━━━━━━━━━━━━━━━━━━━\u001b[0m\u001b[37m\u001b[0m \u001b[1m0s\u001b[0m 15ms/step - loss: 0.0011\n",
      "Epoch 49/100\n",
      "\u001b[1m1/1\u001b[0m \u001b[32m━━━━━━━━━━━━━━━━━━━━\u001b[0m\u001b[37m\u001b[0m \u001b[1m0s\u001b[0m 26ms/step - loss: 8.6033e-04\n",
      "Epoch 50/100\n",
      "\u001b[1m1/1\u001b[0m \u001b[32m━━━━━━━━━━━━━━━━━━━━\u001b[0m\u001b[37m\u001b[0m \u001b[1m0s\u001b[0m 24ms/step - loss: 6.5670e-04\n",
      "Epoch 51/100\n",
      "\u001b[1m1/1\u001b[0m \u001b[32m━━━━━━━━━━━━━━━━━━━━\u001b[0m\u001b[37m\u001b[0m \u001b[1m0s\u001b[0m 17ms/step - loss: 4.7068e-04\n",
      "Epoch 52/100\n",
      "\u001b[1m1/1\u001b[0m \u001b[32m━━━━━━━━━━━━━━━━━━━━\u001b[0m\u001b[37m\u001b[0m \u001b[1m0s\u001b[0m 17ms/step - loss: 3.1304e-04\n",
      "Epoch 53/100\n",
      "\u001b[1m1/1\u001b[0m \u001b[32m━━━━━━━━━━━━━━━━━━━━\u001b[0m\u001b[37m\u001b[0m \u001b[1m0s\u001b[0m 18ms/step - loss: 1.9238e-04\n",
      "Epoch 54/100\n",
      "\u001b[1m1/1\u001b[0m \u001b[32m━━━━━━━━━━━━━━━━━━━━\u001b[0m\u001b[37m\u001b[0m \u001b[1m0s\u001b[0m 25ms/step - loss: 1.1283e-04\n",
      "Epoch 55/100\n",
      "\u001b[1m1/1\u001b[0m \u001b[32m━━━━━━━━━━━━━━━━━━━━\u001b[0m\u001b[37m\u001b[0m \u001b[1m0s\u001b[0m 43ms/step - loss: 7.2913e-05\n",
      "Epoch 56/100\n",
      "\u001b[1m1/1\u001b[0m \u001b[32m━━━━━━━━━━━━━━━━━━━━\u001b[0m\u001b[37m\u001b[0m \u001b[1m0s\u001b[0m 24ms/step - loss: 6.5829e-05\n",
      "Epoch 57/100\n",
      "\u001b[1m1/1\u001b[0m \u001b[32m━━━━━━━━━━━━━━━━━━━━\u001b[0m\u001b[37m\u001b[0m \u001b[1m0s\u001b[0m 17ms/step - loss: 8.1325e-05\n",
      "Epoch 58/100\n",
      "\u001b[1m1/1\u001b[0m \u001b[32m━━━━━━━━━━━━━━━━━━━━\u001b[0m\u001b[37m\u001b[0m \u001b[1m0s\u001b[0m 23ms/step - loss: 1.0832e-04\n",
      "Epoch 59/100\n",
      "\u001b[1m1/1\u001b[0m \u001b[32m━━━━━━━━━━━━━━━━━━━━\u001b[0m\u001b[37m\u001b[0m \u001b[1m0s\u001b[0m 15ms/step - loss: 1.3736e-04\n",
      "Epoch 60/100\n",
      "\u001b[1m1/1\u001b[0m \u001b[32m━━━━━━━━━━━━━━━━━━━━\u001b[0m\u001b[37m\u001b[0m \u001b[1m0s\u001b[0m 18ms/step - loss: 1.6199e-04\n",
      "Epoch 61/100\n",
      "\u001b[1m1/1\u001b[0m \u001b[32m━━━━━━━━━━━━━━━━━━━━\u001b[0m\u001b[37m\u001b[0m \u001b[1m0s\u001b[0m 15ms/step - loss: 1.7901e-04\n",
      "Epoch 62/100\n",
      "\u001b[1m1/1\u001b[0m \u001b[32m━━━━━━━━━━━━━━━━━━━━\u001b[0m\u001b[37m\u001b[0m \u001b[1m0s\u001b[0m 27ms/step - loss: 1.8753e-04\n",
      "Epoch 63/100\n",
      "\u001b[1m1/1\u001b[0m \u001b[32m━━━━━━━━━━━━━━━━━━━━\u001b[0m\u001b[37m\u001b[0m \u001b[1m0s\u001b[0m 16ms/step - loss: 1.8789e-04\n",
      "Epoch 64/100\n",
      "\u001b[1m1/1\u001b[0m \u001b[32m━━━━━━━━━━━━━━━━━━━━\u001b[0m\u001b[37m\u001b[0m \u001b[1m0s\u001b[0m 9ms/step - loss: 1.8071e-04\n",
      "Epoch 65/100\n",
      "\u001b[1m1/1\u001b[0m \u001b[32m━━━━━━━━━━━━━━━━━━━━\u001b[0m\u001b[37m\u001b[0m \u001b[1m0s\u001b[0m 18ms/step - loss: 1.6660e-04\n",
      "Epoch 66/100\n",
      "\u001b[1m1/1\u001b[0m \u001b[32m━━━━━━━━━━━━━━━━━━━━\u001b[0m\u001b[37m\u001b[0m \u001b[1m0s\u001b[0m 27ms/step - loss: 1.4647e-04\n",
      "Epoch 67/100\n",
      "\u001b[1m1/1\u001b[0m \u001b[32m━━━━━━━━━━━━━━━━━━━━\u001b[0m\u001b[37m\u001b[0m \u001b[1m0s\u001b[0m 16ms/step - loss: 1.2189e-04\n",
      "Epoch 68/100\n",
      "\u001b[1m1/1\u001b[0m \u001b[32m━━━━━━━━━━━━━━━━━━━━\u001b[0m\u001b[37m\u001b[0m \u001b[1m0s\u001b[0m 18ms/step - loss: 9.5286e-05\n",
      "Epoch 69/100\n",
      "\u001b[1m1/1\u001b[0m \u001b[32m━━━━━━━━━━━━━━━━━━━━\u001b[0m\u001b[37m\u001b[0m \u001b[1m0s\u001b[0m 20ms/step - loss: 6.9656e-05\n",
      "Epoch 70/100\n",
      "\u001b[1m1/1\u001b[0m \u001b[32m━━━━━━━━━━━━━━━━━━━━\u001b[0m\u001b[37m\u001b[0m \u001b[1m0s\u001b[0m 17ms/step - loss: 4.7881e-05\n",
      "Epoch 71/100\n",
      "\u001b[1m1/1\u001b[0m \u001b[32m━━━━━━━━━━━━━━━━━━━━\u001b[0m\u001b[37m\u001b[0m \u001b[1m0s\u001b[0m 19ms/step - loss: 3.1993e-05\n",
      "Epoch 72/100\n",
      "\u001b[1m1/1\u001b[0m \u001b[32m━━━━━━━━━━━━━━━━━━━━\u001b[0m\u001b[37m\u001b[0m \u001b[1m0s\u001b[0m 11ms/step - loss: 2.2703e-05\n",
      "Epoch 73/100\n",
      "\u001b[1m1/1\u001b[0m \u001b[32m━━━━━━━━━━━━━━━━━━━━\u001b[0m\u001b[37m\u001b[0m \u001b[1m0s\u001b[0m 17ms/step - loss: 1.9386e-05\n",
      "Epoch 74/100\n",
      "\u001b[1m1/1\u001b[0m \u001b[32m━━━━━━━━━━━━━━━━━━━━\u001b[0m\u001b[37m\u001b[0m \u001b[1m0s\u001b[0m 23ms/step - loss: 2.0496e-05\n",
      "Epoch 75/100\n",
      "\u001b[1m1/1\u001b[0m \u001b[32m━━━━━━━━━━━━━━━━━━━━\u001b[0m\u001b[37m\u001b[0m \u001b[1m0s\u001b[0m 18ms/step - loss: 2.4184e-05\n",
      "Epoch 76/100\n",
      "\u001b[1m1/1\u001b[0m \u001b[32m━━━━━━━━━━━━━━━━━━━━\u001b[0m\u001b[37m\u001b[0m \u001b[1m0s\u001b[0m 18ms/step - loss: 2.8825e-05\n",
      "Epoch 77/100\n",
      "\u001b[1m1/1\u001b[0m \u001b[32m━━━━━━━━━━━━━━━━━━━━\u001b[0m\u001b[37m\u001b[0m \u001b[1m0s\u001b[0m 18ms/step - loss: 3.3290e-05\n",
      "Epoch 78/100\n",
      "\u001b[1m1/1\u001b[0m \u001b[32m━━━━━━━━━━━━━━━━━━━━\u001b[0m\u001b[37m\u001b[0m \u001b[1m0s\u001b[0m 18ms/step - loss: 3.6925e-05\n",
      "Epoch 79/100\n",
      "\u001b[1m1/1\u001b[0m \u001b[32m━━━━━━━━━━━━━━━━━━━━\u001b[0m\u001b[37m\u001b[0m \u001b[1m0s\u001b[0m 19ms/step - loss: 3.9349e-05\n",
      "Epoch 80/100\n",
      "\u001b[1m1/1\u001b[0m \u001b[32m━━━━━━━━━━━━━━━━━━━━\u001b[0m\u001b[37m\u001b[0m \u001b[1m0s\u001b[0m 17ms/step - loss: 4.0276e-05\n",
      "Epoch 81/100\n",
      "\u001b[1m1/1\u001b[0m \u001b[32m━━━━━━━━━━━━━━━━━━━━\u001b[0m\u001b[37m\u001b[0m \u001b[1m0s\u001b[0m 19ms/step - loss: 3.9453e-05\n",
      "Epoch 82/100\n",
      "\u001b[1m1/1\u001b[0m \u001b[32m━━━━━━━━━━━━━━━━━━━━\u001b[0m\u001b[37m\u001b[0m \u001b[1m0s\u001b[0m 22ms/step - loss: 3.6745e-05\n",
      "Epoch 83/100\n",
      "\u001b[1m1/1\u001b[0m \u001b[32m━━━━━━━━━━━━━━━━━━━━\u001b[0m\u001b[37m\u001b[0m \u001b[1m0s\u001b[0m 19ms/step - loss: 3.2269e-05\n",
      "Epoch 84/100\n",
      "\u001b[1m1/1\u001b[0m \u001b[32m━━━━━━━━━━━━━━━━━━━━\u001b[0m\u001b[37m\u001b[0m \u001b[1m0s\u001b[0m 17ms/step - loss: 2.6473e-05\n",
      "Epoch 85/100\n",
      "\u001b[1m1/1\u001b[0m \u001b[32m━━━━━━━━━━━━━━━━━━━━\u001b[0m\u001b[37m\u001b[0m \u001b[1m0s\u001b[0m 31ms/step - loss: 2.0079e-05\n",
      "Epoch 86/100\n",
      "\u001b[1m1/1\u001b[0m \u001b[32m━━━━━━━━━━━━━━━━━━━━\u001b[0m\u001b[37m\u001b[0m \u001b[1m0s\u001b[0m 17ms/step - loss: 1.3905e-05\n",
      "Epoch 87/100\n",
      "\u001b[1m1/1\u001b[0m \u001b[32m━━━━━━━━━━━━━━━━━━━━\u001b[0m\u001b[37m\u001b[0m \u001b[1m0s\u001b[0m 22ms/step - loss: 8.6402e-06\n",
      "Epoch 88/100\n",
      "\u001b[1m1/1\u001b[0m \u001b[32m━━━━━━━━━━━━━━━━━━━━\u001b[0m\u001b[37m\u001b[0m \u001b[1m0s\u001b[0m 16ms/step - loss: 4.6934e-06\n",
      "Epoch 89/100\n",
      "\u001b[1m1/1\u001b[0m \u001b[32m━━━━━━━━━━━━━━━━━━━━\u001b[0m\u001b[37m\u001b[0m \u001b[1m0s\u001b[0m 20ms/step - loss: 2.1504e-06\n",
      "Epoch 90/100\n",
      "\u001b[1m1/1\u001b[0m \u001b[32m━━━━━━━━━━━━━━━━━━━━\u001b[0m\u001b[37m\u001b[0m \u001b[1m0s\u001b[0m 18ms/step - loss: 8.5450e-07\n",
      "Epoch 91/100\n",
      "\u001b[1m1/1\u001b[0m \u001b[32m━━━━━━━━━━━━━━━━━━━━\u001b[0m\u001b[37m\u001b[0m \u001b[1m0s\u001b[0m 24ms/step - loss: 5.3538e-07\n",
      "Epoch 92/100\n",
      "\u001b[1m1/1\u001b[0m \u001b[32m━━━━━━━━━━━━━━━━━━━━\u001b[0m\u001b[37m\u001b[0m \u001b[1m0s\u001b[0m 18ms/step - loss: 9.2195e-07\n",
      "Epoch 93/100\n",
      "\u001b[1m1/1\u001b[0m \u001b[32m━━━━━━━━━━━━━━━━━━━━\u001b[0m\u001b[37m\u001b[0m \u001b[1m0s\u001b[0m 16ms/step - loss: 1.7876e-06\n",
      "Epoch 94/100\n",
      "\u001b[1m1/1\u001b[0m \u001b[32m━━━━━━━━━━━━━━━━━━━━\u001b[0m\u001b[37m\u001b[0m \u001b[1m0s\u001b[0m 23ms/step - loss: 2.9374e-06\n",
      "Epoch 95/100\n",
      "\u001b[1m1/1\u001b[0m \u001b[32m━━━━━━━━━━━━━━━━━━━━\u001b[0m\u001b[37m\u001b[0m \u001b[1m0s\u001b[0m 19ms/step - loss: 4.1743e-06\n",
      "Epoch 96/100\n",
      "\u001b[1m1/1\u001b[0m \u001b[32m━━━━━━━━━━━━━━━━━━━━\u001b[0m\u001b[37m\u001b[0m \u001b[1m0s\u001b[0m 15ms/step - loss: 5.2831e-06\n",
      "Epoch 97/100\n",
      "\u001b[1m1/1\u001b[0m \u001b[32m━━━━━━━━━━━━━━━━━━━━\u001b[0m\u001b[37m\u001b[0m \u001b[1m0s\u001b[0m 15ms/step - loss: 6.0605e-06\n",
      "Epoch 98/100\n",
      "\u001b[1m1/1\u001b[0m \u001b[32m━━━━━━━━━━━━━━━━━━━━\u001b[0m\u001b[37m\u001b[0m \u001b[1m0s\u001b[0m 16ms/step - loss: 6.3668e-06\n",
      "Epoch 99/100\n",
      "\u001b[1m1/1\u001b[0m \u001b[32m━━━━━━━━━━━━━━━━━━━━\u001b[0m\u001b[37m\u001b[0m \u001b[1m0s\u001b[0m 17ms/step - loss: 6.1682e-06\n",
      "Epoch 100/100\n",
      "\u001b[1m1/1\u001b[0m \u001b[32m━━━━━━━━━━━━━━━━━━━━\u001b[0m\u001b[37m\u001b[0m \u001b[1m0s\u001b[0m 17ms/step - loss: 5.5480e-06\n"
     ]
    },
    {
     "data": {
      "text/plain": [
       "<keras.src.callbacks.history.History at 0x274be4f9e20>"
      ]
     },
     "execution_count": 121,
     "metadata": {},
     "output_type": "execute_result"
    }
   ],
   "source": [
    "# Train the model\n",
    "simple_RNN_model.fit(X, y, epochs=100)  # 'epochs' is the number of times the training process will iterate over the entire dataset"
   ]
  },
  {
   "cell_type": "code",
   "execution_count": 122,
   "id": "55eeac9d",
   "metadata": {},
   "outputs": [
    {
     "name": "stdout",
     "output_type": "stream",
     "text": [
      "\u001b[1m1/1\u001b[0m \u001b[32m━━━━━━━━━━━━━━━━━━━━\u001b[0m\u001b[37m\u001b[0m \u001b[1m0s\u001b[0m 80ms/step\n",
      "Input:\n",
      "[[0. ]\n",
      " [0.5]\n",
      " [1. ]]\n",
      "Target: [0.], Prediction: [-0.00231224]\n",
      "Input:\n",
      "[[0.5]\n",
      " [1. ]\n",
      " [0. ]]\n",
      "Target: [0.5], Prediction: [0.50115484]\n",
      "Input:\n",
      "[[1. ]\n",
      " [0. ]\n",
      " [0.5]]\n",
      "Target: [1.], Prediction: [1.0025759]\n",
      "Input:\n",
      "[[0. ]\n",
      " [0.5]\n",
      " [1. ]]\n",
      "Target: [0.], Prediction: [-0.00231224]\n"
     ]
    }
   ],
   "source": [
    "# Make predictions on the input data\n",
    "simple_RNN_predictions = simple_RNN_model.predict(X)\n",
    "\n",
    "# Print the results\n",
    "for i, prediction in enumerate(simple_RNN_predictions):\n",
    "    print(f\"Input:\")\n",
    "    print(f\"{X[i]}\")\n",
    "    print(f\"Target: {y[i]}, Prediction: {prediction}\")"
   ]
  },
  {
   "cell_type": "markdown",
   "id": "c4ae2cf0",
   "metadata": {},
   "source": [
    "### Jetzt mit interessanteren Daten"
   ]
  },
  {
   "cell_type": "code",
   "execution_count": 123,
   "id": "664b4c56",
   "metadata": {},
   "outputs": [
    {
     "data": {
      "text/html": [
       "<div>\n",
       "<style scoped>\n",
       "    .dataframe tbody tr th:only-of-type {\n",
       "        vertical-align: middle;\n",
       "    }\n",
       "\n",
       "    .dataframe tbody tr th {\n",
       "        vertical-align: top;\n",
       "    }\n",
       "\n",
       "    .dataframe thead th {\n",
       "        text-align: right;\n",
       "    }\n",
       "</style>\n",
       "<table border=\"1\" class=\"dataframe\">\n",
       "  <thead>\n",
       "    <tr style=\"text-align: right;\">\n",
       "      <th></th>\n",
       "      <th>Strom</th>\n",
       "    </tr>\n",
       "    <tr>\n",
       "      <th>Zeit</th>\n",
       "      <th></th>\n",
       "    </tr>\n",
       "  </thead>\n",
       "  <tbody>\n",
       "    <tr>\n",
       "      <th>2012-05-01 00:00:00</th>\n",
       "      <td>834.0</td>\n",
       "    </tr>\n",
       "    <tr>\n",
       "      <th>2012-05-01 01:00:00</th>\n",
       "      <td>824.0</td>\n",
       "    </tr>\n",
       "    <tr>\n",
       "      <th>2012-05-01 02:00:00</th>\n",
       "      <td>681.0</td>\n",
       "    </tr>\n",
       "    <tr>\n",
       "      <th>2012-05-01 03:00:00</th>\n",
       "      <td>530.0</td>\n",
       "    </tr>\n",
       "    <tr>\n",
       "      <th>2012-05-01 04:00:00</th>\n",
       "      <td>672.0</td>\n",
       "    </tr>\n",
       "  </tbody>\n",
       "</table>\n",
       "</div>"
      ],
      "text/plain": [
       "                     Strom\n",
       "Zeit                      \n",
       "2012-05-01 00:00:00  834.0\n",
       "2012-05-01 01:00:00  824.0\n",
       "2012-05-01 02:00:00  681.0\n",
       "2012-05-01 03:00:00  530.0\n",
       "2012-05-01 04:00:00  672.0"
      ]
     },
     "execution_count": 123,
     "metadata": {},
     "output_type": "execute_result"
    }
   ],
   "source": [
    "em = pd.read_csv(\"em_HH8.csv\", index_col=0)\n",
    "em['Zeit'] = pd.to_datetime(em['Zeit'])\n",
    "em['Zeit'].freq = 'H'\n",
    "em.set_index('Zeit', inplace=True)\n",
    "em.head()"
   ]
  },
  {
   "cell_type": "code",
   "execution_count": 124,
   "id": "18e579cd",
   "metadata": {},
   "outputs": [
    {
     "data": {
      "text/plain": [
       "array([[0.38339022],\n",
       "       [0.37201365],\n",
       "       [0.20932878],\n",
       "       [0.03754266],\n",
       "       [0.19908987]])"
      ]
     },
     "execution_count": 124,
     "metadata": {},
     "output_type": "execute_result"
    }
   ],
   "source": [
    "scaler = MinMaxScaler()\n",
    "scaler.fit(em)\n",
    "ems = scaler.transform(em)\n",
    "ems[:5]"
   ]
  },
  {
   "cell_type": "code",
   "execution_count": 125,
   "id": "b618df74",
   "metadata": {},
   "outputs": [],
   "source": [
    "data = ems"
   ]
  },
  {
   "cell_type": "code",
   "execution_count": 126,
   "id": "826f5616",
   "metadata": {},
   "outputs": [
    {
     "data": {
      "text/plain": [
       "array([['2012-05-01T00:00:00.000000000'],\n",
       "       ['2012-05-01T01:00:00.000000000'],\n",
       "       ['2012-05-01T02:00:00.000000000'],\n",
       "       ['2012-05-01T03:00:00.000000000'],\n",
       "       ['2012-05-01T04:00:00.000000000']], dtype='datetime64[ns]')"
      ]
     },
     "execution_count": 126,
     "metadata": {},
     "output_type": "execute_result"
    }
   ],
   "source": [
    "time = em.index.values.reshape(-1, 1)\n",
    "time[:5]"
   ]
  },
  {
   "cell_type": "code",
   "execution_count": 127,
   "id": "4587b0c2",
   "metadata": {},
   "outputs": [],
   "source": [
    "train_size = int(len(data) * 0.6)\n",
    "val_size = int(len(data) * 0.2)\n",
    "test_size = int(len(data) * 0.2)"
   ]
  },
  {
   "cell_type": "code",
   "execution_count": 128,
   "id": "42c1b121",
   "metadata": {},
   "outputs": [
    {
     "data": {
      "text/plain": [
       "array([[0.38339022],\n",
       "       [0.37201365],\n",
       "       [0.20932878],\n",
       "       [0.03754266],\n",
       "       [0.19908987]])"
      ]
     },
     "execution_count": 128,
     "metadata": {},
     "output_type": "execute_result"
    }
   ],
   "source": [
    "data[:5]"
   ]
  },
  {
   "cell_type": "code",
   "execution_count": 129,
   "id": "6667b4e5",
   "metadata": {},
   "outputs": [],
   "source": [
    "data_train, data_val, data_test = data[0:train_size], data[train_size:train_size+val_size], data[train_size+val_size:]"
   ]
  },
  {
   "cell_type": "code",
   "execution_count": 130,
   "id": "f527a266",
   "metadata": {},
   "outputs": [],
   "source": [
    "time_train = time[:train_size]\n",
    "time_val = time[train_size:train_size+val_size]\n",
    "time_test = time[train_size+val_size:]"
   ]
  },
  {
   "cell_type": "code",
   "execution_count": 131,
   "id": "6ac9c2b9",
   "metadata": {},
   "outputs": [
    {
     "data": {
      "application/vnd.plotly.v1+json": {
       "config": {
        "plotlyServerURL": "https://plot.ly"
       },
       "data": [
        {
         "mode": "lines",
         "name": "Train",
         "type": "scatter",
         "x": [
          "2012-05-01T00:00:00",
          "2012-05-01T01:00:00",
          "2012-05-01T02:00:00",
          "2012-05-01T03:00:00",
          "2012-05-01T04:00:00",
          "2012-05-01T05:00:00",
          "2012-05-01T06:00:00",
          "2012-05-01T07:00:00",
          "2012-05-01T08:00:00",
          "2012-05-01T09:00:00",
          "2012-05-01T10:00:00",
          "2012-05-01T11:00:00",
          "2012-05-01T12:00:00",
          "2012-05-01T13:00:00",
          "2012-05-01T14:00:00",
          "2012-05-01T15:00:00",
          "2012-05-01T16:00:00",
          "2012-05-01T17:00:00",
          "2012-05-01T18:00:00",
          "2012-05-01T19:00:00",
          "2012-05-01T20:00:00",
          "2012-05-01T21:00:00",
          "2012-05-01T22:00:00",
          "2012-05-01T23:00:00",
          "2012-05-02T00:00:00",
          "2012-05-02T01:00:00",
          "2012-05-02T02:00:00",
          "2012-05-02T03:00:00",
          "2012-05-02T04:00:00",
          "2012-05-02T05:00:00",
          "2012-05-02T06:00:00",
          "2012-05-02T07:00:00",
          "2012-05-02T08:00:00",
          "2012-05-02T09:00:00",
          "2012-05-02T10:00:00",
          "2012-05-02T11:00:00",
          "2012-05-02T12:00:00",
          "2012-05-02T13:00:00",
          "2012-05-02T14:00:00",
          "2012-05-02T15:00:00",
          "2012-05-02T16:00:00",
          "2012-05-02T17:00:00",
          "2012-05-02T18:00:00",
          "2012-05-02T19:00:00",
          "2012-05-02T20:00:00",
          "2012-05-02T21:00:00",
          "2012-05-02T22:00:00",
          "2012-05-02T23:00:00",
          "2012-05-03T00:00:00",
          "2012-05-03T01:00:00",
          "2012-05-03T02:00:00",
          "2012-05-03T03:00:00",
          "2012-05-03T04:00:00",
          "2012-05-03T05:00:00",
          "2012-05-03T06:00:00",
          "2012-05-03T07:00:00",
          "2012-05-03T08:00:00",
          "2012-05-03T09:00:00",
          "2012-05-03T10:00:00",
          "2012-05-03T11:00:00",
          "2012-05-03T12:00:00",
          "2012-05-03T13:00:00",
          "2012-05-03T14:00:00",
          "2012-05-03T15:00:00",
          "2012-05-03T16:00:00",
          "2012-05-03T17:00:00",
          "2012-05-03T18:00:00",
          "2012-05-03T19:00:00",
          "2012-05-03T20:00:00",
          "2012-05-03T21:00:00",
          "2012-05-03T22:00:00",
          "2012-05-03T23:00:00",
          "2012-05-04T00:00:00",
          "2012-05-04T01:00:00",
          "2012-05-04T02:00:00",
          "2012-05-04T03:00:00",
          "2012-05-04T04:00:00",
          "2012-05-04T05:00:00",
          "2012-05-04T06:00:00",
          "2012-05-04T07:00:00",
          "2012-05-04T08:00:00",
          "2012-05-04T09:00:00",
          "2012-05-04T10:00:00",
          "2012-05-04T11:00:00",
          "2012-05-04T12:00:00",
          "2012-05-04T13:00:00",
          "2012-05-04T14:00:00",
          "2012-05-04T15:00:00",
          "2012-05-04T16:00:00",
          "2012-05-04T17:00:00",
          "2012-05-04T18:00:00",
          "2012-05-04T19:00:00",
          "2012-05-04T20:00:00",
          "2012-05-04T21:00:00",
          "2012-05-04T22:00:00",
          "2012-05-04T23:00:00",
          "2012-05-05T00:00:00",
          "2012-05-05T01:00:00",
          "2012-05-05T02:00:00",
          "2012-05-05T03:00:00",
          "2012-05-05T04:00:00",
          "2012-05-05T05:00:00",
          "2012-05-05T06:00:00",
          "2012-05-05T07:00:00",
          "2012-05-05T08:00:00",
          "2012-05-05T09:00:00",
          "2012-05-05T10:00:00",
          "2012-05-05T11:00:00",
          "2012-05-05T12:00:00",
          "2012-05-05T13:00:00",
          "2012-05-05T14:00:00",
          "2012-05-05T15:00:00",
          "2012-05-05T16:00:00",
          "2012-05-05T17:00:00",
          "2012-05-05T18:00:00",
          "2012-05-05T19:00:00",
          "2012-05-05T20:00:00",
          "2012-05-05T21:00:00",
          "2012-05-05T22:00:00",
          "2012-05-05T23:00:00",
          "2012-05-06T00:00:00",
          "2012-05-06T01:00:00",
          "2012-05-06T02:00:00",
          "2012-05-06T03:00:00",
          "2012-05-06T04:00:00",
          "2012-05-06T05:00:00",
          "2012-05-06T06:00:00",
          "2012-05-06T07:00:00",
          "2012-05-06T08:00:00",
          "2012-05-06T09:00:00",
          "2012-05-06T10:00:00",
          "2012-05-06T11:00:00",
          "2012-05-06T12:00:00",
          "2012-05-06T13:00:00",
          "2012-05-06T14:00:00",
          "2012-05-06T15:00:00",
          "2012-05-06T16:00:00",
          "2012-05-06T17:00:00",
          "2012-05-06T18:00:00",
          "2012-05-06T19:00:00",
          "2012-05-06T20:00:00",
          "2012-05-06T21:00:00",
          "2012-05-06T22:00:00",
          "2012-05-06T23:00:00",
          "2012-05-07T00:00:00",
          "2012-05-07T01:00:00",
          "2012-05-07T02:00:00",
          "2012-05-07T03:00:00",
          "2012-05-07T04:00:00",
          "2012-05-07T05:00:00",
          "2012-05-07T06:00:00",
          "2012-05-07T07:00:00",
          "2012-05-07T08:00:00",
          "2012-05-07T09:00:00",
          "2012-05-07T10:00:00",
          "2012-05-07T11:00:00",
          "2012-05-07T12:00:00",
          "2012-05-07T13:00:00",
          "2012-05-07T14:00:00",
          "2012-05-07T15:00:00",
          "2012-05-07T16:00:00",
          "2012-05-07T17:00:00",
          "2012-05-07T18:00:00",
          "2012-05-07T19:00:00",
          "2012-05-07T20:00:00",
          "2012-05-07T21:00:00",
          "2012-05-07T22:00:00",
          "2012-05-07T23:00:00",
          "2012-05-08T00:00:00",
          "2012-05-08T01:00:00",
          "2012-05-08T02:00:00",
          "2012-05-08T03:00:00",
          "2012-05-08T04:00:00",
          "2012-05-08T05:00:00",
          "2012-05-08T06:00:00",
          "2012-05-08T07:00:00",
          "2012-05-08T08:00:00",
          "2012-05-08T09:00:00",
          "2012-05-08T10:00:00",
          "2012-05-08T11:00:00",
          "2012-05-08T12:00:00",
          "2012-05-08T13:00:00",
          "2012-05-08T14:00:00",
          "2012-05-08T15:00:00",
          "2012-05-08T16:00:00",
          "2012-05-08T17:00:00",
          "2012-05-08T18:00:00",
          "2012-05-08T19:00:00",
          "2012-05-08T20:00:00",
          "2012-05-08T21:00:00",
          "2012-05-08T22:00:00",
          "2012-05-08T23:00:00",
          "2012-05-09T00:00:00",
          "2012-05-09T01:00:00",
          "2012-05-09T02:00:00",
          "2012-05-09T03:00:00",
          "2012-05-09T04:00:00",
          "2012-05-09T05:00:00",
          "2012-05-09T06:00:00",
          "2012-05-09T07:00:00",
          "2012-05-09T08:00:00",
          "2012-05-09T09:00:00",
          "2012-05-09T10:00:00",
          "2012-05-09T11:00:00",
          "2012-05-09T12:00:00",
          "2012-05-09T13:00:00",
          "2012-05-09T14:00:00",
          "2012-05-09T15:00:00",
          "2012-05-09T16:00:00",
          "2012-05-09T17:00:00",
          "2012-05-09T18:00:00",
          "2012-05-09T19:00:00",
          "2012-05-09T20:00:00",
          "2012-05-09T21:00:00",
          "2012-05-09T22:00:00",
          "2012-05-09T23:00:00",
          "2012-05-10T00:00:00",
          "2012-05-10T01:00:00",
          "2012-05-10T02:00:00",
          "2012-05-10T03:00:00",
          "2012-05-10T04:00:00",
          "2012-05-10T05:00:00",
          "2012-05-10T06:00:00",
          "2012-05-10T07:00:00",
          "2012-05-10T08:00:00",
          "2012-05-10T09:00:00",
          "2012-05-10T10:00:00",
          "2012-05-10T11:00:00",
          "2012-05-10T12:00:00",
          "2012-05-10T13:00:00",
          "2012-05-10T14:00:00",
          "2012-05-10T15:00:00",
          "2012-05-10T16:00:00",
          "2012-05-10T17:00:00",
          "2012-05-10T18:00:00",
          "2012-05-10T19:00:00",
          "2012-05-10T20:00:00",
          "2012-05-10T21:00:00",
          "2012-05-10T22:00:00",
          "2012-05-10T23:00:00",
          "2012-05-11T00:00:00",
          "2012-05-11T01:00:00",
          "2012-05-11T02:00:00",
          "2012-05-11T03:00:00",
          "2012-05-11T04:00:00",
          "2012-05-11T05:00:00",
          "2012-05-11T06:00:00",
          "2012-05-11T07:00:00",
          "2012-05-11T08:00:00",
          "2012-05-11T09:00:00",
          "2012-05-11T10:00:00",
          "2012-05-11T11:00:00",
          "2012-05-11T12:00:00",
          "2012-05-11T13:00:00",
          "2012-05-11T14:00:00",
          "2012-05-11T15:00:00",
          "2012-05-11T16:00:00",
          "2012-05-11T17:00:00",
          "2012-05-11T18:00:00",
          "2012-05-11T19:00:00",
          "2012-05-11T20:00:00",
          "2012-05-11T21:00:00",
          "2012-05-11T22:00:00",
          "2012-05-11T23:00:00",
          "2012-05-12T00:00:00",
          "2012-05-12T01:00:00",
          "2012-05-12T02:00:00",
          "2012-05-12T03:00:00",
          "2012-05-12T04:00:00",
          "2012-05-12T05:00:00",
          "2012-05-12T06:00:00",
          "2012-05-12T07:00:00",
          "2012-05-12T08:00:00",
          "2012-05-12T09:00:00",
          "2012-05-12T10:00:00",
          "2012-05-12T11:00:00",
          "2012-05-12T12:00:00",
          "2012-05-12T13:00:00",
          "2012-05-12T14:00:00",
          "2012-05-12T15:00:00",
          "2012-05-12T16:00:00",
          "2012-05-12T17:00:00",
          "2012-05-12T18:00:00",
          "2012-05-12T19:00:00",
          "2012-05-12T20:00:00",
          "2012-05-12T21:00:00",
          "2012-05-12T22:00:00",
          "2012-05-12T23:00:00",
          "2012-05-13T00:00:00",
          "2012-05-13T01:00:00",
          "2012-05-13T02:00:00",
          "2012-05-13T03:00:00",
          "2012-05-13T04:00:00",
          "2012-05-13T05:00:00",
          "2012-05-13T06:00:00",
          "2012-05-13T07:00:00",
          "2012-05-13T08:00:00",
          "2012-05-13T09:00:00",
          "2012-05-13T10:00:00",
          "2012-05-13T11:00:00",
          "2012-05-13T12:00:00",
          "2012-05-13T13:00:00",
          "2012-05-13T14:00:00",
          "2012-05-13T15:00:00",
          "2012-05-13T16:00:00",
          "2012-05-13T17:00:00",
          "2012-05-13T18:00:00",
          "2012-05-13T19:00:00",
          "2012-05-13T20:00:00",
          "2012-05-13T21:00:00",
          "2012-05-13T22:00:00",
          "2012-05-13T23:00:00",
          "2012-05-14T00:00:00",
          "2012-05-14T01:00:00",
          "2012-05-14T02:00:00",
          "2012-05-14T03:00:00",
          "2012-05-14T04:00:00",
          "2012-05-14T05:00:00",
          "2012-05-14T06:00:00",
          "2012-05-14T07:00:00",
          "2012-05-14T08:00:00",
          "2012-05-14T09:00:00",
          "2012-05-14T10:00:00",
          "2012-05-14T11:00:00",
          "2012-05-14T12:00:00",
          "2012-05-14T13:00:00",
          "2012-05-14T14:00:00",
          "2012-05-14T15:00:00",
          "2012-05-14T16:00:00",
          "2012-05-14T17:00:00",
          "2012-05-14T18:00:00",
          "2012-05-14T19:00:00",
          "2012-05-14T20:00:00",
          "2012-05-14T21:00:00",
          "2012-05-14T22:00:00",
          "2012-05-14T23:00:00",
          "2012-05-15T00:00:00",
          "2012-05-15T01:00:00",
          "2012-05-15T02:00:00",
          "2012-05-15T03:00:00",
          "2012-05-15T04:00:00",
          "2012-05-15T05:00:00",
          "2012-05-15T06:00:00",
          "2012-05-15T07:00:00",
          "2012-05-15T08:00:00",
          "2012-05-15T09:00:00",
          "2012-05-15T10:00:00",
          "2012-05-15T11:00:00",
          "2012-05-15T12:00:00",
          "2012-05-15T13:00:00",
          "2012-05-15T14:00:00",
          "2012-05-15T15:00:00",
          "2012-05-15T16:00:00",
          "2012-05-15T17:00:00",
          "2012-05-15T18:00:00",
          "2012-05-15T19:00:00",
          "2012-05-15T20:00:00",
          "2012-05-15T21:00:00",
          "2012-05-15T22:00:00",
          "2012-05-15T23:00:00",
          "2012-05-16T00:00:00",
          "2012-05-16T01:00:00",
          "2012-05-16T02:00:00",
          "2012-05-16T03:00:00",
          "2012-05-16T04:00:00",
          "2012-05-16T05:00:00",
          "2012-05-16T06:00:00",
          "2012-05-16T07:00:00",
          "2012-05-16T08:00:00",
          "2012-05-16T09:00:00",
          "2012-05-16T10:00:00",
          "2012-05-16T11:00:00",
          "2012-05-16T12:00:00",
          "2012-05-16T13:00:00",
          "2012-05-16T14:00:00",
          "2012-05-16T15:00:00",
          "2012-05-16T16:00:00",
          "2012-05-16T17:00:00",
          "2012-05-16T18:00:00",
          "2012-05-16T19:00:00",
          "2012-05-16T20:00:00",
          "2012-05-16T21:00:00",
          "2012-05-16T22:00:00",
          "2012-05-16T23:00:00",
          "2012-05-17T00:00:00",
          "2012-05-17T01:00:00",
          "2012-05-17T02:00:00",
          "2012-05-17T03:00:00",
          "2012-05-17T04:00:00",
          "2012-05-17T05:00:00",
          "2012-05-17T06:00:00",
          "2012-05-17T07:00:00",
          "2012-05-17T08:00:00",
          "2012-05-17T09:00:00",
          "2012-05-17T10:00:00",
          "2012-05-17T11:00:00",
          "2012-05-17T12:00:00",
          "2012-05-17T13:00:00",
          "2012-05-17T14:00:00",
          "2012-05-17T15:00:00",
          "2012-05-17T16:00:00",
          "2012-05-17T17:00:00",
          "2012-05-17T18:00:00",
          "2012-05-17T19:00:00",
          "2012-05-17T20:00:00",
          "2012-05-17T21:00:00",
          "2012-05-17T22:00:00",
          "2012-05-17T23:00:00",
          "2012-05-18T00:00:00",
          "2012-05-18T01:00:00",
          "2012-05-18T02:00:00",
          "2012-05-18T03:00:00",
          "2012-05-18T04:00:00",
          "2012-05-18T05:00:00",
          "2012-05-18T06:00:00",
          "2012-05-18T07:00:00",
          "2012-05-18T08:00:00",
          "2012-05-18T09:00:00",
          "2012-05-18T10:00:00",
          "2012-05-18T11:00:00",
          "2012-05-18T12:00:00",
          "2012-05-18T13:00:00",
          "2012-05-18T14:00:00",
          "2012-05-18T15:00:00",
          "2012-05-18T16:00:00",
          "2012-05-18T17:00:00",
          "2012-05-18T18:00:00",
          "2012-05-18T19:00:00",
          "2012-05-18T20:00:00",
          "2012-05-18T21:00:00",
          "2012-05-18T22:00:00",
          "2012-05-18T23:00:00",
          "2012-05-19T00:00:00",
          "2012-05-19T01:00:00",
          "2012-05-19T02:00:00",
          "2012-05-19T03:00:00",
          "2012-05-19T04:00:00",
          "2012-05-19T05:00:00",
          "2012-05-19T06:00:00",
          "2012-05-19T07:00:00",
          "2012-05-19T08:00:00",
          "2012-05-19T09:00:00",
          "2012-05-19T10:00:00",
          "2012-05-19T11:00:00",
          "2012-05-19T12:00:00",
          "2012-05-19T13:00:00"
         ],
         "y": [
          0.38339021615472124,
          0.3720136518771331,
          0.20932878270762234,
          0.03754266211604096,
          0.19908987485779295,
          0.15699658703071673,
          0.10466439135381123,
          0.14220705346985218,
          0.16382252559726962,
          0.3185437997724687,
          0.4448236632536974,
          0.4937428896473265,
          0.6814562002275312,
          0.4778156996587032,
          0.6018202502844142,
          0.43913538111490336,
          0.4448236632536974,
          0.45278725824800914,
          0.5017064846416383,
          0.5711035267349261,
          0.7007963594994312,
          0.8691695108077361,
          0.6894197952218429,
          0.5324232081911263,
          0.2764505119453925,
          0.2901023890784983,
          0.23321956769055752,
          0.029579067121729308,
          0.20136518771331058,
          0.16040955631399323,
          0.11149032992036412,
          0.2992036405005688,
          0.3720136518771331,
          0.6473265073947668,
          0.9271899886234357,
          0.9465301478953355,
          0.820250284414107,
          0.7588168373151308,
          0.6825938566552902,
          0.708759954493743,
          0.5335608646188851,
          0.5017064846416383,
          0.720136518771331,
          0.8236632536973835,
          0.7155858930602957,
          0.7781569965870306,
          0.7554038680318543,
          0.7349260523321958,
          0.45620022753128564,
          0.36405005688282144,
          0.2400455062571104,
          0.05005688282138798,
          0.22980659840728102,
          0.10352673492605236,
          0.18316268486916953,
          0.26848691695108085,
          0.27189988623435724,
          0.5369738339021616,
          0.6416382252559728,
          0.8543799772468715,
          0.8464163822525598,
          0.7007963594994312,
          0.5585893060295791,
          0.5199089874857793,
          0.5631399317406144,
          0.5745164960182024,
          0.6587030716723549,
          0.7781569965870306,
          0.8236632536973835,
          0.7736063708759954,
          0.6507394766780433,
          0.5711035267349261,
          0.521046643913538,
          0.39021615472127413,
          0.267349260523322,
          0.0921501706484642,
          0.24118316268486917,
          0.23435722411831628,
          0.1808873720136519,
          0.2957906712172924,
          0.4664391353811149,
          0.5858930602957907,
          0.6632536973833901,
          0.9112627986348122,
          0.8805460750853241,
          0.8589306029579068,
          0.8122866894197952,
          0.8077360637087599,
          0.6609783845278726,
          0.6769055745164959,
          0.7155858930602957,
          0.9999999999999999,
          0.9692832764505118,
          0.7974971558589307,
          0.6973833902161547,
          0.5790671217292377,
          0.4141069397042093,
          0.3686006825938567,
          0.24914675767918093,
          0.08759954493742894,
          0.21501706484641636,
          0.17178612059158138,
          0.13424345847554042,
          0.27531285551763374,
          0.42207053469852107,
          0.6780432309442549,
          0.6166097838452788,
          0.6666666666666666,
          0.6313993174061433,
          0.6575654152445961,
          0.7576791808873721,
          0.6359499431171786,
          0.6439135381114903,
          0.6279863481228668,
          0.4675767918088737,
          0.6461888509670081,
          0.7497155858930603,
          0.7053469852104665,
          0.6359499431171786,
          0.6894197952218429,
          0.6700796359499431,
          0.4630261660978384,
          0.323094425483504,
          0.0921501706484642,
          0.23321956769055752,
          0.2036405005688282,
          0.1877133105802048,
          0.24118316268486917,
          0.38680318543799774,
          0.3720136518771331,
          0.521046643913538,
          0.8077360637087599,
          0.8191126279863482,
          0.6507394766780433,
          0.40273037542662116,
          0.31399317406143346,
          0.279863481228669,
          0.33333333333333337,
          0.3447098976109215,
          0.5381114903299203,
          0.5631399317406144,
          0.7974971558589307,
          0.6552901023890786,
          0.49829351535836175,
          0.4630261660978384,
          0.29124004550625715,
          0.2036405005688282,
          0,
          0.1843003412969284,
          0.15244596131968147,
          0.13424345847554042,
          0.279863481228669,
          0.3754266211604096,
          0.5813424345847554,
          0.7007963594994312,
          0.7155858930602957,
          0.7133105802047782,
          0.6473265073947668,
          0.6097838452787258,
          0.6439135381114903,
          0.5745164960182024,
          0.4675767918088737,
          0.5984072810011377,
          0.7940841865756542,
          0.8282138794084187,
          0.7042093287827077,
          0.7588168373151308,
          0.6313993174061433,
          0.4209328782707622,
          0.2832764505119454,
          0.21501706484641636,
          0.07622298065984079,
          0.26166097838452784,
          0.18316268486916953,
          0.14448236632536982,
          0.24914675767918093,
          0.39704209328782714,
          0.5699658703071672,
          0.6882821387940842,
          0.8077360637087599,
          0.9999999999999999,
          0.7804323094425484,
          0.720136518771331,
          0.6313993174061433,
          0.5745164960182024,
          0.6131968145620023,
          0.7849829351535836,
          0.962457337883959,
          0.8577929465301478,
          0.7929465301478954,
          0.8043230944254834,
          0.6393629124004551,
          0.43230944254835035,
          0.2639362912400455,
          0.1911262798634813,
          0.019340159271899915,
          0.24118316268486917,
          0.19567690557451656,
          0.24800910125142206,
          0.29465301478953354,
          0.4698521046643914,
          0.6473265073947668,
          0.7121729237770192,
          0.7588168373151308,
          0.7736063708759954,
          0.732650739476678,
          0.6018202502844142,
          0.5631399317406144,
          0.6018202502844142,
          0.6439135381114903,
          0.6518771331058021,
          0.7622298065984073,
          0.7690557451649601,
          0.7770193401592719,
          0.838452787258248,
          0.7212741751990898,
          0.4516496018202504,
          0.35722411831626855,
          0.2536973833902162,
          0.06825938566552903,
          0.27189988623435724,
          0.21843003412969286,
          0.22184300341296925,
          0.3094425483503982,
          0.45847554038680316,
          0.6075085324232082,
          0.6621160409556314,
          0.7918088737201364,
          0.7701934015927191,
          0.6860068259385667,
          0.6848691695108077,
          0.6894197952218429,
          0.708759954493743,
          0.6359499431171786,
          0.6552901023890786,
          0.7770193401592719,
          0.6734926052332196,
          0.8009101251422069,
          0.720136518771331,
          0.7007963594994312,
          0.508532423208191,
          0.3742889647326507,
          0.3026166097838453,
          0.0887372013651877,
          0.2866894197952219,
          0.2366325369738339,
          0.2104664391353811,
          0.36405005688282144,
          0.4482366325369739,
          0.7428896473265073,
          0.8168373151308305,
          0.9180887372013652,
          0.7827076222980659,
          0.7360637087599545,
          0.5130830489192263,
          0.5745164960182024,
          0.590443686006826,
          0.5597269624573379,
          0.6666666666666666,
          0.838452787258248,
          0.8156996587030717,
          0.8111490329920364,
          0.8657565415244596,
          0.7667804323094426,
          0.6814562002275312,
          0.5062571103526735,
          0.37656427758816835,
          0.20932878270762234,
          0.3447098976109215,
          0.33788395904436863,
          0.2104664391353811,
          0.3094425483503982,
          0.5130830489192263,
          0.7474402730375426,
          0.8043230944254834,
          0.7554038680318543,
          0.8270762229806597,
          0.7963594994311717,
          0.8122866894197952,
          0.7576791808873721,
          0.708759954493743,
          0.8156996587030717,
          0.7474402730375426,
          0.7189988623435722,
          0.7815699658703071,
          0.7292377701934015,
          0.7155858930602957,
          0.6245733788395905,
          0.6484641638225256,
          0.47895335608646195,
          0.3253697383390216,
          0.11945392491467577,
          0.26848691695108085,
          0.2366325369738339,
          0.24118316268486917,
          0.2787258248009101,
          0.2832764505119454,
          0.4072810011376564,
          0.6279863481228668,
          0.6734926052332196,
          0.7428896473265073,
          0.48236632536973845,
          0.3424345847554039,
          0.41296928327645055,
          0.3981797497155859,
          0.43230944254835035,
          0.5119453924914675,
          0.5585893060295791,
          0.621160409556314,
          0.7849829351535836,
          0.7053469852104665,
          0.5472127417519909,
          0.4300341296928327,
          0.3287827076222981,
          0.17974971558589303,
          0.029579067121729308,
          0.2571103526734926,
          0.18657565415244604,
          0.2070534698521047,
          0.3117178612059158,
          0.30147895335608643,
          0.5324232081911263,
          0.7133105802047782,
          0.8885096700796359,
          0.8054607508532422,
          0.7656427758816836,
          0.5824800910125142,
          0.6507394766780433,
          0.5517633674630261,
          0.43230944254835035,
          0.497155858930603,
          0.5051194539249148,
          0.5699658703071672,
          0.6313993174061433,
          0.7542662116040956,
          0.6348122866894198,
          0.4175199089874858,
          0.32992036405005687,
          0.23777019340159278,
          0.10352673492605236,
          0.29806598407281004,
          0.22525597269624575,
          0.22184300341296925,
          0.33674630261660976,
          0.378839590443686,
          0.6313993174061433,
          0.7849829351535836,
          0.7622298065984073,
          0.7463026166097838,
          0.6200227531285553,
          0.4857792946530147,
          0.49032992036405,
          0.5142207053469853,
          0.6439135381114903,
          0.6359499431171786,
          0.831626848691695,
          0.7622298065984073,
          0.7963594994311717,
          0.8282138794084187,
          0.6587030716723549,
          0.4596131968145619,
          0.3321956769055745,
          0.26848691695108085,
          0.1376564277588168,
          0.279863481228669,
          0.1376564277588168,
          0.23321956769055752,
          0.3526734926052333,
          0.45506257110352666,
          0.5358361774744028,
          0.7576791808873721,
          0.7622298065984073,
          0.850967007963595,
          0.7963594994311717,
          0.7428896473265073,
          0.831626848691695,
          0.7633674630261661,
          0.7542662116040956,
          0.7736063708759954,
          0.8088737201365187,
          0.7895335608646189,
          0.7997724687144482,
          0.7440273037542663,
          0.6188850967007963,
          0.4744027303754267,
          0.3686006825938567,
          0.3151308304891923,
          0.13879408418657568,
          0.30716723549488056,
          0.29806598407281004,
          0.2525597269624573,
          0.3219567690557452,
          0.4778156996587032,
          0.6734926052332196,
          0.7155858930602957,
          0.6939704209328782,
          0.7849829351535836,
          0.7349260523321958,
          0.5711035267349261,
          0.6052332195676905,
          0.47554038680318544,
          0.5130830489192263,
          0.6348122866894198,
          0.7212741751990898,
          0.5779294653014789,
          0.5585893060295791,
          0.6473265073947668,
          0.6575654152445961,
          0.521046643913538,
          0.3947667804323095,
          0.26166097838452784,
          0.11149032992036412,
          0.2992036405005688,
          0.26848691695108085,
          0.24118316268486917,
          0.2992036405005688,
          0.49032992036405,
          0.6473265073947668,
          0.8270762229806597,
          0.7929465301478954,
          0.8543799772468715,
          0.8577929465301478,
          0.6780432309442549,
          0.5699658703071672,
          0.6097838452787258,
          0.6507394766780433,
          0.6564277588168373,
          0.8088737201365187,
          0.7736063708759954,
          0.6962457337883959,
          0.6700796359499431,
          0.5779294653014789,
          0.521046643913538,
          0.40955631399317405,
          0.28441410693970426,
          0.05233219567690561,
          0.23321956769055752,
          0.2036405005688282,
          0.15927189988623436,
          0.24459613196814567,
          0.39362912400455063,
          0.5972696245733787,
          0.5779294653014789,
          0.61547212741752,
          0.6621160409556314,
          0.590443686006826
         ]
        },
        {
         "mode": "lines",
         "name": "Validation",
         "type": "scatter",
         "x": [
          "2012-05-19T14:00:00",
          "2012-05-19T15:00:00",
          "2012-05-19T16:00:00",
          "2012-05-19T17:00:00",
          "2012-05-19T18:00:00",
          "2012-05-19T19:00:00",
          "2012-05-19T20:00:00",
          "2012-05-19T21:00:00",
          "2012-05-19T22:00:00",
          "2012-05-19T23:00:00",
          "2012-05-20T00:00:00",
          "2012-05-20T01:00:00",
          "2012-05-20T02:00:00",
          "2012-05-20T03:00:00",
          "2012-05-20T04:00:00",
          "2012-05-20T05:00:00",
          "2012-05-20T06:00:00",
          "2012-05-20T07:00:00",
          "2012-05-20T08:00:00",
          "2012-05-20T09:00:00",
          "2012-05-20T10:00:00",
          "2012-05-20T11:00:00",
          "2012-05-20T12:00:00",
          "2012-05-20T13:00:00",
          "2012-05-20T14:00:00",
          "2012-05-20T15:00:00",
          "2012-05-20T16:00:00",
          "2012-05-20T17:00:00",
          "2012-05-20T18:00:00",
          "2012-05-20T19:00:00",
          "2012-05-20T20:00:00",
          "2012-05-20T21:00:00",
          "2012-05-20T22:00:00",
          "2012-05-20T23:00:00",
          "2012-05-21T00:00:00",
          "2012-05-21T01:00:00",
          "2012-05-21T02:00:00",
          "2012-05-21T03:00:00",
          "2012-05-21T04:00:00",
          "2012-05-21T05:00:00",
          "2012-05-21T06:00:00",
          "2012-05-21T07:00:00",
          "2012-05-21T08:00:00",
          "2012-05-21T09:00:00",
          "2012-05-21T10:00:00",
          "2012-05-21T11:00:00",
          "2012-05-21T12:00:00",
          "2012-05-21T13:00:00",
          "2012-05-21T14:00:00",
          "2012-05-21T15:00:00",
          "2012-05-21T16:00:00",
          "2012-05-21T17:00:00",
          "2012-05-21T18:00:00",
          "2012-05-21T19:00:00",
          "2012-05-21T20:00:00",
          "2012-05-21T21:00:00",
          "2012-05-21T22:00:00",
          "2012-05-21T23:00:00",
          "2012-05-22T00:00:00",
          "2012-05-22T01:00:00",
          "2012-05-22T02:00:00",
          "2012-05-22T03:00:00",
          "2012-05-22T04:00:00",
          "2012-05-22T05:00:00",
          "2012-05-22T06:00:00",
          "2012-05-22T07:00:00",
          "2012-05-22T08:00:00",
          "2012-05-22T09:00:00",
          "2012-05-22T10:00:00",
          "2012-05-22T11:00:00",
          "2012-05-22T12:00:00",
          "2012-05-22T13:00:00",
          "2012-05-22T14:00:00",
          "2012-05-22T15:00:00",
          "2012-05-22T16:00:00",
          "2012-05-22T17:00:00",
          "2012-05-22T18:00:00",
          "2012-05-22T19:00:00",
          "2012-05-22T20:00:00",
          "2012-05-22T21:00:00",
          "2012-05-22T22:00:00",
          "2012-05-22T23:00:00",
          "2012-05-23T00:00:00",
          "2012-05-23T01:00:00",
          "2012-05-23T02:00:00",
          "2012-05-23T03:00:00",
          "2012-05-23T04:00:00",
          "2012-05-23T05:00:00",
          "2012-05-23T06:00:00",
          "2012-05-23T07:00:00",
          "2012-05-23T08:00:00",
          "2012-05-23T09:00:00",
          "2012-05-23T10:00:00",
          "2012-05-23T11:00:00",
          "2012-05-23T12:00:00",
          "2012-05-23T13:00:00",
          "2012-05-23T14:00:00",
          "2012-05-23T15:00:00",
          "2012-05-23T16:00:00",
          "2012-05-23T17:00:00",
          "2012-05-23T18:00:00",
          "2012-05-23T19:00:00",
          "2012-05-23T20:00:00",
          "2012-05-23T21:00:00",
          "2012-05-23T22:00:00",
          "2012-05-23T23:00:00",
          "2012-05-24T00:00:00",
          "2012-05-24T01:00:00",
          "2012-05-24T02:00:00",
          "2012-05-24T03:00:00",
          "2012-05-24T04:00:00",
          "2012-05-24T05:00:00",
          "2012-05-24T06:00:00",
          "2012-05-24T07:00:00",
          "2012-05-24T08:00:00",
          "2012-05-24T09:00:00",
          "2012-05-24T10:00:00",
          "2012-05-24T11:00:00",
          "2012-05-24T12:00:00",
          "2012-05-24T13:00:00",
          "2012-05-24T14:00:00",
          "2012-05-24T15:00:00",
          "2012-05-24T16:00:00",
          "2012-05-24T17:00:00",
          "2012-05-24T18:00:00",
          "2012-05-24T19:00:00",
          "2012-05-24T20:00:00",
          "2012-05-24T21:00:00",
          "2012-05-24T22:00:00",
          "2012-05-24T23:00:00",
          "2012-05-25T00:00:00",
          "2012-05-25T01:00:00",
          "2012-05-25T02:00:00",
          "2012-05-25T03:00:00",
          "2012-05-25T04:00:00",
          "2012-05-25T05:00:00",
          "2012-05-25T06:00:00",
          "2012-05-25T07:00:00",
          "2012-05-25T08:00:00",
          "2012-05-25T09:00:00",
          "2012-05-25T10:00:00",
          "2012-05-25T11:00:00",
          "2012-05-25T12:00:00",
          "2012-05-25T13:00:00",
          "2012-05-25T14:00:00",
          "2012-05-25T15:00:00",
          "2012-05-25T16:00:00",
          "2012-05-25T17:00:00"
         ],
         "y": [
          0.7053469852104665,
          0.6006825938566552,
          0.5278725824800911,
          0.5858930602957907,
          0.5597269624573379,
          0.5711035267349261,
          0.6734926052332196,
          0.6279863481228668,
          0.5585893060295791,
          0.5472127417519909,
          0.5574516496018201,
          0.42548350398179746,
          0.26507394766780434,
          0.14220705346985218,
          0.19226393629124006,
          0.2138794084186576,
          0.15244596131968147,
          0.16382252559726962,
          0.2866894197952219,
          0.4436860068259386,
          0.5005688282138795,
          0.5756541524459614,
          0.5972696245733787,
          0.5597269624573379,
          0.4334470989761092,
          0.38339021615472124,
          0.37997724687144485,
          0.3560864618885097,
          0.4209328782707622,
          0.5051194539249148,
          0.5665529010238909,
          0.6598407281001138,
          0.590443686006826,
          0.49032992036405,
          0.3720136518771331,
          0.3026166097838453,
          0.17178612059158138,
          0.023890784982935176,
          0.22184300341296925,
          0.16723549488054612,
          0.1217292377701934,
          0.1843003412969284,
          0.3253697383390216,
          0.3651877133105802,
          0.6894197952218429,
          0.7281001137656428,
          0.7895335608646189,
          0.6769055745164959,
          0.5881683731513082,
          0.6006825938566552,
          0.6052332195676905,
          0.7133105802047782,
          0.590443686006826,
          0.6621160409556314,
          0.7463026166097838,
          0.5790671217292377,
          0.6746302616609784,
          0.521046643913538,
          0.42889647326507396,
          0.341296928327645,
          0.22298065984072812,
          0.1251422070534699,
          0.23435722411831628,
          0.24914675767918093,
          0.16040955631399323,
          0.2070534698521047,
          0.4106939704209329,
          0.5745164960182024,
          0.6848691695108077,
          0.7349260523321958,
          0.7815699658703071,
          0.6632536973833901,
          0.626848691695108,
          0.5563139931740614,
          0.5472127417519909,
          0.5551763367463026,
          0.5665529010238909,
          0.7360637087599545,
          0.6313993174061433,
          0.6916951080773607,
          0.7417519908987485,
          0.5665529010238909,
          0.4175199089874858,
          0.3185437997724687,
          0.21160409556313997,
          0.04664391353811148,
          0.2605233219567691,
          0.23208191126279865,
          0.1843003412969284,
          0.18316268486916953,
          0.3424345847554039,
          0.6712172923777019,
          0.8350398179749715,
          0.7781569965870306,
          0.7235494880546075,
          0.7963594994311717,
          0.6313993174061433,
          0.5813424345847554,
          0.5517633674630261,
          0.6860068259385667,
          0.6666666666666666,
          0.8771331058020478,
          0.8782707622298066,
          0.7690557451649601,
          0.8009101251422069,
          0.6962457337883959,
          0.4937428896473265,
          0.42207053469852107,
          0.267349260523322,
          0.12059158134243464,
          0.3026166097838453,
          0.27531285551763374,
          0.16837315130830488,
          0.3219567690557452,
          0.40955631399317405,
          0.6313993174061433,
          0.726962457337884,
          0.6507394766780433,
          0.831626848691695,
          0.6587030716723549,
          0.6860068259385667,
          0.7155858930602957,
          0.6587030716723549,
          0.6996587030716724,
          0.6507394766780433,
          0.7235494880546075,
          0.6825938566552902,
          0.7360637087599545,
          0.739476678043231,
          0.7053469852104665,
          0.5358361774744028,
          0.4596131968145619,
          0.29806598407281004,
          0.1376564277588168,
          0.33674630261660976,
          0.3026166097838453,
          0.22298065984072812,
          0.33333333333333337,
          0.5119453924914675,
          0.6814562002275312,
          0.7121729237770192,
          0.6382252559726963,
          0.6666666666666666,
          0.6746302616609784,
          0.5870307167235495,
          0.5335608646188851,
          0.5779294653014789,
          0.6006825938566552
         ]
        },
        {
         "mode": "lines",
         "name": "Test",
         "type": "scatter",
         "x": [
          "2012-05-25T18:00:00",
          "2012-05-25T19:00:00",
          "2012-05-25T20:00:00",
          "2012-05-25T21:00:00",
          "2012-05-25T22:00:00",
          "2012-05-25T23:00:00",
          "2012-05-26T00:00:00",
          "2012-05-26T01:00:00",
          "2012-05-26T02:00:00",
          "2012-05-26T03:00:00",
          "2012-05-26T04:00:00",
          "2012-05-26T05:00:00",
          "2012-05-26T06:00:00",
          "2012-05-26T07:00:00",
          "2012-05-26T08:00:00",
          "2012-05-26T09:00:00",
          "2012-05-26T10:00:00",
          "2012-05-26T11:00:00",
          "2012-05-26T12:00:00",
          "2012-05-26T13:00:00",
          "2012-05-26T14:00:00",
          "2012-05-26T15:00:00",
          "2012-05-26T16:00:00",
          "2012-05-26T17:00:00",
          "2012-05-26T18:00:00",
          "2012-05-26T19:00:00",
          "2012-05-26T20:00:00",
          "2012-05-26T21:00:00",
          "2012-05-26T22:00:00",
          "2012-05-26T23:00:00",
          "2012-05-27T00:00:00",
          "2012-05-27T01:00:00",
          "2012-05-27T02:00:00",
          "2012-05-27T03:00:00",
          "2012-05-27T04:00:00",
          "2012-05-27T05:00:00",
          "2012-05-27T06:00:00",
          "2012-05-27T07:00:00",
          "2012-05-27T08:00:00",
          "2012-05-27T09:00:00",
          "2012-05-27T10:00:00",
          "2012-05-27T11:00:00",
          "2012-05-27T12:00:00",
          "2012-05-27T13:00:00",
          "2012-05-27T14:00:00",
          "2012-05-27T15:00:00",
          "2012-05-27T16:00:00",
          "2012-05-27T17:00:00",
          "2012-05-27T18:00:00",
          "2012-05-27T19:00:00",
          "2012-05-27T20:00:00",
          "2012-05-27T21:00:00",
          "2012-05-27T22:00:00",
          "2012-05-27T23:00:00",
          "2012-05-28T00:00:00",
          "2012-05-28T01:00:00",
          "2012-05-28T02:00:00",
          "2012-05-28T03:00:00",
          "2012-05-28T04:00:00",
          "2012-05-28T05:00:00",
          "2012-05-28T06:00:00",
          "2012-05-28T07:00:00",
          "2012-05-28T08:00:00",
          "2012-05-28T09:00:00",
          "2012-05-28T10:00:00",
          "2012-05-28T11:00:00",
          "2012-05-28T12:00:00",
          "2012-05-28T13:00:00",
          "2012-05-28T14:00:00",
          "2012-05-28T15:00:00",
          "2012-05-28T16:00:00",
          "2012-05-28T17:00:00",
          "2012-05-28T18:00:00",
          "2012-05-28T19:00:00",
          "2012-05-28T20:00:00",
          "2012-05-28T21:00:00",
          "2012-05-28T22:00:00",
          "2012-05-28T23:00:00",
          "2012-05-29T00:00:00",
          "2012-05-29T01:00:00",
          "2012-05-29T02:00:00",
          "2012-05-29T03:00:00",
          "2012-05-29T04:00:00",
          "2012-05-29T05:00:00",
          "2012-05-29T06:00:00",
          "2012-05-29T07:00:00",
          "2012-05-29T08:00:00",
          "2012-05-29T09:00:00",
          "2012-05-29T10:00:00",
          "2012-05-29T11:00:00",
          "2012-05-29T12:00:00",
          "2012-05-29T13:00:00",
          "2012-05-29T14:00:00",
          "2012-05-29T15:00:00",
          "2012-05-29T16:00:00",
          "2012-05-29T17:00:00",
          "2012-05-29T18:00:00",
          "2012-05-29T19:00:00",
          "2012-05-29T20:00:00",
          "2012-05-29T21:00:00",
          "2012-05-29T22:00:00",
          "2012-05-29T23:00:00",
          "2012-05-30T00:00:00",
          "2012-05-30T01:00:00",
          "2012-05-30T02:00:00",
          "2012-05-30T03:00:00",
          "2012-05-30T04:00:00",
          "2012-05-30T05:00:00",
          "2012-05-30T06:00:00",
          "2012-05-30T07:00:00",
          "2012-05-30T08:00:00",
          "2012-05-30T09:00:00",
          "2012-05-30T10:00:00",
          "2012-05-30T11:00:00",
          "2012-05-30T12:00:00",
          "2012-05-30T13:00:00",
          "2012-05-30T14:00:00",
          "2012-05-30T15:00:00",
          "2012-05-30T16:00:00",
          "2012-05-30T17:00:00",
          "2012-05-30T18:00:00",
          "2012-05-30T19:00:00",
          "2012-05-30T20:00:00",
          "2012-05-30T21:00:00",
          "2012-05-30T22:00:00",
          "2012-05-30T23:00:00",
          "2012-05-31T00:00:00",
          "2012-05-31T01:00:00",
          "2012-05-31T02:00:00",
          "2012-05-31T03:00:00",
          "2012-05-31T04:00:00",
          "2012-05-31T05:00:00",
          "2012-05-31T06:00:00",
          "2012-05-31T07:00:00",
          "2012-05-31T08:00:00",
          "2012-05-31T09:00:00",
          "2012-05-31T10:00:00",
          "2012-05-31T11:00:00",
          "2012-05-31T12:00:00",
          "2012-05-31T13:00:00",
          "2012-05-31T14:00:00",
          "2012-05-31T15:00:00",
          "2012-05-31T16:00:00",
          "2012-05-31T17:00:00",
          "2012-05-31T18:00:00",
          "2012-05-31T19:00:00",
          "2012-05-31T20:00:00",
          "2012-05-31T21:00:00",
          "2012-05-31T22:00:00",
          "2012-05-31T23:00:00"
         ],
         "y": [
          0.5745164960182024,
          0.6973833902161547,
          0.7235494880546075,
          0.7246871444823663,
          0.820250284414107,
          0.6860068259385667,
          0.61547212741752,
          0.49032992036405,
          0.33788395904436863,
          0.27531285551763374,
          0.2832764505119454,
          0.2366325369738339,
          0.1285551763367463,
          0.18885096700796367,
          0.3720136518771331,
          0.6234357224118315,
          0.7895335608646189,
          0.7554038680318543,
          0.7861205915813424,
          0.6814562002275312,
          0.739476678043231,
          0.6814562002275312,
          0.5984072810011377,
          0.6279863481228668,
          0.4778156996587032,
          0.590443686006826,
          0.738339021615472,
          0.6769055745164959,
          0.6131968145620023,
          0.6006825938566552,
          0.5119453924914675,
          0.38680318543799774,
          0.26848691695108085,
          0.1877133105802048,
          0.22866894197952226,
          0.2104664391353811,
          0.13424345847554042,
          0.17633674630261664,
          0.31058020477815707,
          0.37087599544937433,
          0.4630261660978384,
          0.5790671217292377,
          0.5255972696245733,
          0.4175199089874858,
          0.3560864618885097,
          0.35381114903299204,
          0.341296928327645,
          0.40273037542662116,
          0.39362912400455063,
          0.4277588168373151,
          0.50967007963595,
          0.5699658703071672,
          0.6746302616609784,
          0.5335608646188851,
          0.3754266211604096,
          0.2787258248009101,
          0.1877133105802048,
          0.014789533560864654,
          0.1911262798634813,
          0.15358361774744034,
          0.13651877133105805,
          0.23435722411831628,
          0.32992036405005687,
          0.44937428896473264,
          0.6700796359499431,
          0.7007963594994312,
          0.6860068259385667,
          0.5938566552901025,
          0.40273037542662116,
          0.42889647326507396,
          0.5392491467576791,
          0.5483503981797496,
          0.5290102389078498,
          0.7155858930602957,
          0.7804323094425484,
          0.6621160409556314,
          0.7542662116040956,
          0.6393629124004551,
          0.4084186575654153,
          0.34015927189988626,
          0.2730375426621161,
          0.09670079635949946,
          0.2571103526734926,
          0.24573378839590443,
          0.1911262798634813,
          0.279863481228669,
          0.5472127417519909,
          0.6473265073947668,
          0.7349260523321958,
          0.6905574516496019,
          0.8395904436860068,
          0.7155858930602957,
          0.6131968145620023,
          0.6166097838452788,
          0.521046643913538,
          0.5949943117178612,
          0.6973833902161547,
          0.8532423208191126,
          0.6860068259385667,
          0.7349260523321958,
          0.7588168373151308,
          0.6700796359499431,
          0.50967007963595,
          0.3253697383390216,
          0.20250284414106945,
          0.056882821387940874,
          0.279863481228669,
          0.24459613196814567,
          0.22184300341296925,
          0.23777019340159278,
          0.4334470989761092,
          0.6291240045506258,
          0.621160409556314,
          0.7360637087599545,
          0.7542662116040956,
          0.6621160409556314,
          0.5824800910125142,
          0.5472127417519909,
          0.5779294653014789,
          0.621160409556314,
          0.6496018202502843,
          0.8464163822525598,
          0.8498293515358363,
          0.7690557451649601,
          0.7428896473265073,
          0.6780432309442549,
          0.4414106939704209,
          0.3879408418657565,
          0.3060295790671217,
          0.1217292377701934,
          0.3026166097838453,
          0.27189988623435724,
          0.2707622298065985,
          0.32992036405005687,
          0.5255972696245733,
          0.7315130830489193,
          0.7667804323094426,
          0.831626848691695,
          0.8771331058020478,
          0.8657565415244596,
          0.7883959044368601,
          0.8270762229806597,
          0.7622298065984073,
          0.708759954493743,
          0.7235494880546075,
          0.9340159271899887,
          0.938566552901024,
          0.6973833902161547,
          0.739476678043231,
          0.7508532423208191
         ]
        }
       ],
       "layout": {
        "autosize": true,
        "template": {
         "data": {
          "bar": [
           {
            "error_x": {
             "color": "#2a3f5f"
            },
            "error_y": {
             "color": "#2a3f5f"
            },
            "marker": {
             "line": {
              "color": "#E5ECF6",
              "width": 0.5
             },
             "pattern": {
              "fillmode": "overlay",
              "size": 10,
              "solidity": 0.2
             }
            },
            "type": "bar"
           }
          ],
          "barpolar": [
           {
            "marker": {
             "line": {
              "color": "#E5ECF6",
              "width": 0.5
             },
             "pattern": {
              "fillmode": "overlay",
              "size": 10,
              "solidity": 0.2
             }
            },
            "type": "barpolar"
           }
          ],
          "carpet": [
           {
            "aaxis": {
             "endlinecolor": "#2a3f5f",
             "gridcolor": "white",
             "linecolor": "white",
             "minorgridcolor": "white",
             "startlinecolor": "#2a3f5f"
            },
            "baxis": {
             "endlinecolor": "#2a3f5f",
             "gridcolor": "white",
             "linecolor": "white",
             "minorgridcolor": "white",
             "startlinecolor": "#2a3f5f"
            },
            "type": "carpet"
           }
          ],
          "choropleth": [
           {
            "colorbar": {
             "outlinewidth": 0,
             "ticks": ""
            },
            "type": "choropleth"
           }
          ],
          "contour": [
           {
            "colorbar": {
             "outlinewidth": 0,
             "ticks": ""
            },
            "colorscale": [
             [
              0,
              "#0d0887"
             ],
             [
              0.1111111111111111,
              "#46039f"
             ],
             [
              0.2222222222222222,
              "#7201a8"
             ],
             [
              0.3333333333333333,
              "#9c179e"
             ],
             [
              0.4444444444444444,
              "#bd3786"
             ],
             [
              0.5555555555555556,
              "#d8576b"
             ],
             [
              0.6666666666666666,
              "#ed7953"
             ],
             [
              0.7777777777777778,
              "#fb9f3a"
             ],
             [
              0.8888888888888888,
              "#fdca26"
             ],
             [
              1,
              "#f0f921"
             ]
            ],
            "type": "contour"
           }
          ],
          "contourcarpet": [
           {
            "colorbar": {
             "outlinewidth": 0,
             "ticks": ""
            },
            "type": "contourcarpet"
           }
          ],
          "heatmap": [
           {
            "colorbar": {
             "outlinewidth": 0,
             "ticks": ""
            },
            "colorscale": [
             [
              0,
              "#0d0887"
             ],
             [
              0.1111111111111111,
              "#46039f"
             ],
             [
              0.2222222222222222,
              "#7201a8"
             ],
             [
              0.3333333333333333,
              "#9c179e"
             ],
             [
              0.4444444444444444,
              "#bd3786"
             ],
             [
              0.5555555555555556,
              "#d8576b"
             ],
             [
              0.6666666666666666,
              "#ed7953"
             ],
             [
              0.7777777777777778,
              "#fb9f3a"
             ],
             [
              0.8888888888888888,
              "#fdca26"
             ],
             [
              1,
              "#f0f921"
             ]
            ],
            "type": "heatmap"
           }
          ],
          "heatmapgl": [
           {
            "colorbar": {
             "outlinewidth": 0,
             "ticks": ""
            },
            "colorscale": [
             [
              0,
              "#0d0887"
             ],
             [
              0.1111111111111111,
              "#46039f"
             ],
             [
              0.2222222222222222,
              "#7201a8"
             ],
             [
              0.3333333333333333,
              "#9c179e"
             ],
             [
              0.4444444444444444,
              "#bd3786"
             ],
             [
              0.5555555555555556,
              "#d8576b"
             ],
             [
              0.6666666666666666,
              "#ed7953"
             ],
             [
              0.7777777777777778,
              "#fb9f3a"
             ],
             [
              0.8888888888888888,
              "#fdca26"
             ],
             [
              1,
              "#f0f921"
             ]
            ],
            "type": "heatmapgl"
           }
          ],
          "histogram": [
           {
            "marker": {
             "pattern": {
              "fillmode": "overlay",
              "size": 10,
              "solidity": 0.2
             }
            },
            "type": "histogram"
           }
          ],
          "histogram2d": [
           {
            "colorbar": {
             "outlinewidth": 0,
             "ticks": ""
            },
            "colorscale": [
             [
              0,
              "#0d0887"
             ],
             [
              0.1111111111111111,
              "#46039f"
             ],
             [
              0.2222222222222222,
              "#7201a8"
             ],
             [
              0.3333333333333333,
              "#9c179e"
             ],
             [
              0.4444444444444444,
              "#bd3786"
             ],
             [
              0.5555555555555556,
              "#d8576b"
             ],
             [
              0.6666666666666666,
              "#ed7953"
             ],
             [
              0.7777777777777778,
              "#fb9f3a"
             ],
             [
              0.8888888888888888,
              "#fdca26"
             ],
             [
              1,
              "#f0f921"
             ]
            ],
            "type": "histogram2d"
           }
          ],
          "histogram2dcontour": [
           {
            "colorbar": {
             "outlinewidth": 0,
             "ticks": ""
            },
            "colorscale": [
             [
              0,
              "#0d0887"
             ],
             [
              0.1111111111111111,
              "#46039f"
             ],
             [
              0.2222222222222222,
              "#7201a8"
             ],
             [
              0.3333333333333333,
              "#9c179e"
             ],
             [
              0.4444444444444444,
              "#bd3786"
             ],
             [
              0.5555555555555556,
              "#d8576b"
             ],
             [
              0.6666666666666666,
              "#ed7953"
             ],
             [
              0.7777777777777778,
              "#fb9f3a"
             ],
             [
              0.8888888888888888,
              "#fdca26"
             ],
             [
              1,
              "#f0f921"
             ]
            ],
            "type": "histogram2dcontour"
           }
          ],
          "mesh3d": [
           {
            "colorbar": {
             "outlinewidth": 0,
             "ticks": ""
            },
            "type": "mesh3d"
           }
          ],
          "parcoords": [
           {
            "line": {
             "colorbar": {
              "outlinewidth": 0,
              "ticks": ""
             }
            },
            "type": "parcoords"
           }
          ],
          "pie": [
           {
            "automargin": true,
            "type": "pie"
           }
          ],
          "scatter": [
           {
            "fillpattern": {
             "fillmode": "overlay",
             "size": 10,
             "solidity": 0.2
            },
            "type": "scatter"
           }
          ],
          "scatter3d": [
           {
            "line": {
             "colorbar": {
              "outlinewidth": 0,
              "ticks": ""
             }
            },
            "marker": {
             "colorbar": {
              "outlinewidth": 0,
              "ticks": ""
             }
            },
            "type": "scatter3d"
           }
          ],
          "scattercarpet": [
           {
            "marker": {
             "colorbar": {
              "outlinewidth": 0,
              "ticks": ""
             }
            },
            "type": "scattercarpet"
           }
          ],
          "scattergeo": [
           {
            "marker": {
             "colorbar": {
              "outlinewidth": 0,
              "ticks": ""
             }
            },
            "type": "scattergeo"
           }
          ],
          "scattergl": [
           {
            "marker": {
             "colorbar": {
              "outlinewidth": 0,
              "ticks": ""
             }
            },
            "type": "scattergl"
           }
          ],
          "scattermapbox": [
           {
            "marker": {
             "colorbar": {
              "outlinewidth": 0,
              "ticks": ""
             }
            },
            "type": "scattermapbox"
           }
          ],
          "scatterpolar": [
           {
            "marker": {
             "colorbar": {
              "outlinewidth": 0,
              "ticks": ""
             }
            },
            "type": "scatterpolar"
           }
          ],
          "scatterpolargl": [
           {
            "marker": {
             "colorbar": {
              "outlinewidth": 0,
              "ticks": ""
             }
            },
            "type": "scatterpolargl"
           }
          ],
          "scatterternary": [
           {
            "marker": {
             "colorbar": {
              "outlinewidth": 0,
              "ticks": ""
             }
            },
            "type": "scatterternary"
           }
          ],
          "surface": [
           {
            "colorbar": {
             "outlinewidth": 0,
             "ticks": ""
            },
            "colorscale": [
             [
              0,
              "#0d0887"
             ],
             [
              0.1111111111111111,
              "#46039f"
             ],
             [
              0.2222222222222222,
              "#7201a8"
             ],
             [
              0.3333333333333333,
              "#9c179e"
             ],
             [
              0.4444444444444444,
              "#bd3786"
             ],
             [
              0.5555555555555556,
              "#d8576b"
             ],
             [
              0.6666666666666666,
              "#ed7953"
             ],
             [
              0.7777777777777778,
              "#fb9f3a"
             ],
             [
              0.8888888888888888,
              "#fdca26"
             ],
             [
              1,
              "#f0f921"
             ]
            ],
            "type": "surface"
           }
          ],
          "table": [
           {
            "cells": {
             "fill": {
              "color": "#EBF0F8"
             },
             "line": {
              "color": "white"
             }
            },
            "header": {
             "fill": {
              "color": "#C8D4E3"
             },
             "line": {
              "color": "white"
             }
            },
            "type": "table"
           }
          ]
         },
         "layout": {
          "annotationdefaults": {
           "arrowcolor": "#2a3f5f",
           "arrowhead": 0,
           "arrowwidth": 1
          },
          "autotypenumbers": "strict",
          "coloraxis": {
           "colorbar": {
            "outlinewidth": 0,
            "ticks": ""
           }
          },
          "colorscale": {
           "diverging": [
            [
             0,
             "#8e0152"
            ],
            [
             0.1,
             "#c51b7d"
            ],
            [
             0.2,
             "#de77ae"
            ],
            [
             0.3,
             "#f1b6da"
            ],
            [
             0.4,
             "#fde0ef"
            ],
            [
             0.5,
             "#f7f7f7"
            ],
            [
             0.6,
             "#e6f5d0"
            ],
            [
             0.7,
             "#b8e186"
            ],
            [
             0.8,
             "#7fbc41"
            ],
            [
             0.9,
             "#4d9221"
            ],
            [
             1,
             "#276419"
            ]
           ],
           "sequential": [
            [
             0,
             "#0d0887"
            ],
            [
             0.1111111111111111,
             "#46039f"
            ],
            [
             0.2222222222222222,
             "#7201a8"
            ],
            [
             0.3333333333333333,
             "#9c179e"
            ],
            [
             0.4444444444444444,
             "#bd3786"
            ],
            [
             0.5555555555555556,
             "#d8576b"
            ],
            [
             0.6666666666666666,
             "#ed7953"
            ],
            [
             0.7777777777777778,
             "#fb9f3a"
            ],
            [
             0.8888888888888888,
             "#fdca26"
            ],
            [
             1,
             "#f0f921"
            ]
           ],
           "sequentialminus": [
            [
             0,
             "#0d0887"
            ],
            [
             0.1111111111111111,
             "#46039f"
            ],
            [
             0.2222222222222222,
             "#7201a8"
            ],
            [
             0.3333333333333333,
             "#9c179e"
            ],
            [
             0.4444444444444444,
             "#bd3786"
            ],
            [
             0.5555555555555556,
             "#d8576b"
            ],
            [
             0.6666666666666666,
             "#ed7953"
            ],
            [
             0.7777777777777778,
             "#fb9f3a"
            ],
            [
             0.8888888888888888,
             "#fdca26"
            ],
            [
             1,
             "#f0f921"
            ]
           ]
          },
          "colorway": [
           "#636efa",
           "#EF553B",
           "#00cc96",
           "#ab63fa",
           "#FFA15A",
           "#19d3f3",
           "#FF6692",
           "#B6E880",
           "#FF97FF",
           "#FECB52"
          ],
          "font": {
           "color": "#2a3f5f"
          },
          "geo": {
           "bgcolor": "white",
           "lakecolor": "white",
           "landcolor": "#E5ECF6",
           "showlakes": true,
           "showland": true,
           "subunitcolor": "white"
          },
          "hoverlabel": {
           "align": "left"
          },
          "hovermode": "closest",
          "mapbox": {
           "style": "light"
          },
          "paper_bgcolor": "white",
          "plot_bgcolor": "#E5ECF6",
          "polar": {
           "angularaxis": {
            "gridcolor": "white",
            "linecolor": "white",
            "ticks": ""
           },
           "bgcolor": "#E5ECF6",
           "radialaxis": {
            "gridcolor": "white",
            "linecolor": "white",
            "ticks": ""
           }
          },
          "scene": {
           "xaxis": {
            "backgroundcolor": "#E5ECF6",
            "gridcolor": "white",
            "gridwidth": 2,
            "linecolor": "white",
            "showbackground": true,
            "ticks": "",
            "zerolinecolor": "white"
           },
           "yaxis": {
            "backgroundcolor": "#E5ECF6",
            "gridcolor": "white",
            "gridwidth": 2,
            "linecolor": "white",
            "showbackground": true,
            "ticks": "",
            "zerolinecolor": "white"
           },
           "zaxis": {
            "backgroundcolor": "#E5ECF6",
            "gridcolor": "white",
            "gridwidth": 2,
            "linecolor": "white",
            "showbackground": true,
            "ticks": "",
            "zerolinecolor": "white"
           }
          },
          "shapedefaults": {
           "line": {
            "color": "#2a3f5f"
           }
          },
          "ternary": {
           "aaxis": {
            "gridcolor": "white",
            "linecolor": "white",
            "ticks": ""
           },
           "baxis": {
            "gridcolor": "white",
            "linecolor": "white",
            "ticks": ""
           },
           "bgcolor": "#E5ECF6",
           "caxis": {
            "gridcolor": "white",
            "linecolor": "white",
            "ticks": ""
           }
          },
          "title": {
           "x": 0.05
          },
          "xaxis": {
           "automargin": true,
           "gridcolor": "white",
           "linecolor": "white",
           "ticks": "",
           "title": {
            "standoff": 15
           },
           "zerolinecolor": "white",
           "zerolinewidth": 2
          },
          "yaxis": {
           "automargin": true,
           "gridcolor": "white",
           "linecolor": "white",
           "ticks": "",
           "title": {
            "standoff": 15
           },
           "zerolinecolor": "white",
           "zerolinewidth": 2
          }
         }
        },
        "xaxis": {
         "autorange": true,
         "range": [
          "2012-05-01",
          "2012-05-31 23:00"
         ],
         "type": "date"
        },
        "yaxis": {
         "autorange": true,
         "range": [
          -0.05555555555555555,
          1.0555555555555554
         ],
         "type": "linear"
        }
       }
      },
      "image/png": "[encoded data removed]",
      "text/html": [
       "<div>                            <div id=\"081e9149-b47c-4731-9dde-d71807d3b5dc\" class=\"plotly-graph-div\" style=\"height:525px; width:100%;\"></div>            <script type=\"text/javascript\">                require([\"plotly\"], function(Plotly) {                    window.PLOTLYENV=window.PLOTLYENV || {};                                    if (document.getElementById(\"081e9149-b47c-4731-9dde-d71807d3b5dc\")) {                    Plotly.newPlot(                        \"081e9149-b47c-4731-9dde-d71807d3b5dc\",                        [{\"mode\":\"lines\",\"name\":\"Train\",\"x\":[\"2012-05-01T00:00:00\",\"2012-05-01T01:00:00\",\"2012-05-01T02:00:00\",\"2012-05-01T03:00:00\",\"2012-05-01T04:00:00\",\"2012-05-01T05:00:00\",\"2012-05-01T06:00:00\",\"2012-05-01T07:00:00\",\"2012-05-01T08:00:00\",\"2012-05-01T09:00:00\",\"2012-05-01T10:00:00\",\"2012-05-01T11:00:00\",\"2012-05-01T12:00:00\",\"2012-05-01T13:00:00\",\"2012-05-01T14:00:00\",\"2012-05-01T15:00:00\",\"2012-05-01T16:00:00\",\"2012-05-01T17:00:00\",\"2012-05-01T18:00:00\",\"2012-05-01T19:00:00\",\"2012-05-01T20:00:00\",\"2012-05-01T21:00:00\",\"2012-05-01T22:00:00\",\"2012-05-01T23:00:00\",\"2012-05-02T00:00:00\",\"2012-05-02T01:00:00\",\"2012-05-02T02:00:00\",\"2012-05-02T03:00:00\",\"2012-05-02T04:00:00\",\"2012-05-02T05:00:00\",\"2012-05-02T06:00:00\",\"2012-05-02T07:00:00\",\"2012-05-02T08:00:00\",\"2012-05-02T09:00:00\",\"2012-05-02T10:00:00\",\"2012-05-02T11:00:00\",\"2012-05-02T12:00:00\",\"2012-05-02T13:00:00\",\"2012-05-02T14:00:00\",\"2012-05-02T15:00:00\",\"2012-05-02T16:00:00\",\"2012-05-02T17:00:00\",\"2012-05-02T18:00:00\",\"2012-05-02T19:00:00\",\"2012-05-02T20:00:00\",\"2012-05-02T21:00:00\",\"2012-05-02T22:00:00\",\"2012-05-02T23:00:00\",\"2012-05-03T00:00:00\",\"2012-05-03T01:00:00\",\"2012-05-03T02:00:00\",\"2012-05-03T03:00:00\",\"2012-05-03T04:00:00\",\"2012-05-03T05:00:00\",\"2012-05-03T06:00:00\",\"2012-05-03T07:00:00\",\"2012-05-03T08:00:00\",\"2012-05-03T09:00:00\",\"2012-05-03T10:00:00\",\"2012-05-03T11:00:00\",\"2012-05-03T12:00:00\",\"2012-05-03T13:00:00\",\"2012-05-03T14:00:00\",\"2012-05-03T15:00:00\",\"2012-05-03T16:00:00\",\"2012-05-03T17:00:00\",\"2012-05-03T18:00:00\",\"2012-05-03T19:00:00\",\"2012-05-03T20:00:00\",\"2012-05-03T21:00:00\",\"2012-05-03T22:00:00\",\"2012-05-03T23:00:00\",\"2012-05-04T00:00:00\",\"2012-05-04T01:00:00\",\"2012-05-04T02:00:00\",\"2012-05-04T03:00:00\",\"2012-05-04T04:00:00\",\"2012-05-04T05:00:00\",\"2012-05-04T06:00:00\",\"2012-05-04T07:00:00\",\"2012-05-04T08:00:00\",\"2012-05-04T09:00:00\",\"2012-05-04T10:00:00\",\"2012-05-04T11:00:00\",\"2012-05-04T12:00:00\",\"2012-05-04T13:00:00\",\"2012-05-04T14:00:00\",\"2012-05-04T15:00:00\",\"2012-05-04T16:00:00\",\"2012-05-04T17:00:00\",\"2012-05-04T18:00:00\",\"2012-05-04T19:00:00\",\"2012-05-04T20:00:00\",\"2012-05-04T21:00:00\",\"2012-05-04T22:00:00\",\"2012-05-04T23:00:00\",\"2012-05-05T00:00:00\",\"2012-05-05T01:00:00\",\"2012-05-05T02:00:00\",\"2012-05-05T03:00:00\",\"2012-05-05T04:00:00\",\"2012-05-05T05:00:00\",\"2012-05-05T06:00:00\",\"2012-05-05T07:00:00\",\"2012-05-05T08:00:00\",\"2012-05-05T09:00:00\",\"2012-05-05T10:00:00\",\"2012-05-05T11:00:00\",\"2012-05-05T12:00:00\",\"2012-05-05T13:00:00\",\"2012-05-05T14:00:00\",\"2012-05-05T15:00:00\",\"2012-05-05T16:00:00\",\"2012-05-05T17:00:00\",\"2012-05-05T18:00:00\",\"2012-05-05T19:00:00\",\"2012-05-05T20:00:00\",\"2012-05-05T21:00:00\",\"2012-05-05T22:00:00\",\"2012-05-05T23:00:00\",\"2012-05-06T00:00:00\",\"2012-05-06T01:00:00\",\"2012-05-06T02:00:00\",\"2012-05-06T03:00:00\",\"2012-05-06T04:00:00\",\"2012-05-06T05:00:00\",\"2012-05-06T06:00:00\",\"2012-05-06T07:00:00\",\"2012-05-06T08:00:00\",\"2012-05-06T09:00:00\",\"2012-05-06T10:00:00\",\"2012-05-06T11:00:00\",\"2012-05-06T12:00:00\",\"2012-05-06T13:00:00\",\"2012-05-06T14:00:00\",\"2012-05-06T15:00:00\",\"2012-05-06T16:00:00\",\"2012-05-06T17:00:00\",\"2012-05-06T18:00:00\",\"2012-05-06T19:00:00\",\"2012-05-06T20:00:00\",\"2012-05-06T21:00:00\",\"2012-05-06T22:00:00\",\"2012-05-06T23:00:00\",\"2012-05-07T00:00:00\",\"2012-05-07T01:00:00\",\"2012-05-07T02:00:00\",\"2012-05-07T03:00:00\",\"2012-05-07T04:00:00\",\"2012-05-07T05:00:00\",\"2012-05-07T06:00:00\",\"2012-05-07T07:00:00\",\"2012-05-07T08:00:00\",\"2012-05-07T09:00:00\",\"2012-05-07T10:00:00\",\"2012-05-07T11:00:00\",\"2012-05-07T12:00:00\",\"2012-05-07T13:00:00\",\"2012-05-07T14:00:00\",\"2012-05-07T15:00:00\",\"2012-05-07T16:00:00\",\"2012-05-07T17:00:00\",\"2012-05-07T18:00:00\",\"2012-05-07T19:00:00\",\"2012-05-07T20:00:00\",\"2012-05-07T21:00:00\",\"2012-05-07T22:00:00\",\"2012-05-07T23:00:00\",\"2012-05-08T00:00:00\",\"2012-05-08T01:00:00\",\"2012-05-08T02:00:00\",\"2012-05-08T03:00:00\",\"2012-05-08T04:00:00\",\"2012-05-08T05:00:00\",\"2012-05-08T06:00:00\",\"2012-05-08T07:00:00\",\"2012-05-08T08:00:00\",\"2012-05-08T09:00:00\",\"2012-05-08T10:00:00\",\"2012-05-08T11:00:00\",\"2012-05-08T12:00:00\",\"2012-05-08T13:00:00\",\"2012-05-08T14:00:00\",\"2012-05-08T15:00:00\",\"2012-05-08T16:00:00\",\"2012-05-08T17:00:00\",\"2012-05-08T18:00:00\",\"2012-05-08T19:00:00\",\"2012-05-08T20:00:00\",\"2012-05-08T21:00:00\",\"2012-05-08T22:00:00\",\"2012-05-08T23:00:00\",\"2012-05-09T00:00:00\",\"2012-05-09T01:00:00\",\"2012-05-09T02:00:00\",\"2012-05-09T03:00:00\",\"2012-05-09T04:00:00\",\"2012-05-09T05:00:00\",\"2012-05-09T06:00:00\",\"2012-05-09T07:00:00\",\"2012-05-09T08:00:00\",\"2012-05-09T09:00:00\",\"2012-05-09T10:00:00\",\"2012-05-09T11:00:00\",\"2012-05-09T12:00:00\",\"2012-05-09T13:00:00\",\"2012-05-09T14:00:00\",\"2012-05-09T15:00:00\",\"2012-05-09T16:00:00\",\"2012-05-09T17:00:00\",\"2012-05-09T18:00:00\",\"2012-05-09T19:00:00\",\"2012-05-09T20:00:00\",\"2012-05-09T21:00:00\",\"2012-05-09T22:00:00\",\"2012-05-09T23:00:00\",\"2012-05-10T00:00:00\",\"2012-05-10T01:00:00\",\"2012-05-10T02:00:00\",\"2012-05-10T03:00:00\",\"2012-05-10T04:00:00\",\"2012-05-10T05:00:00\",\"2012-05-10T06:00:00\",\"2012-05-10T07:00:00\",\"2012-05-10T08:00:00\",\"2012-05-10T09:00:00\",\"2012-05-10T10:00:00\",\"2012-05-10T11:00:00\",\"2012-05-10T12:00:00\",\"2012-05-10T13:00:00\",\"2012-05-10T14:00:00\",\"2012-05-10T15:00:00\",\"2012-05-10T16:00:00\",\"2012-05-10T17:00:00\",\"2012-05-10T18:00:00\",\"2012-05-10T19:00:00\",\"2012-05-10T20:00:00\",\"2012-05-10T21:00:00\",\"2012-05-10T22:00:00\",\"2012-05-10T23:00:00\",\"2012-05-11T00:00:00\",\"2012-05-11T01:00:00\",\"2012-05-11T02:00:00\",\"2012-05-11T03:00:00\",\"2012-05-11T04:00:00\",\"2012-05-11T05:00:00\",\"2012-05-11T06:00:00\",\"2012-05-11T07:00:00\",\"2012-05-11T08:00:00\",\"2012-05-11T09:00:00\",\"2012-05-11T10:00:00\",\"2012-05-11T11:00:00\",\"2012-05-11T12:00:00\",\"2012-05-11T13:00:00\",\"2012-05-11T14:00:00\",\"2012-05-11T15:00:00\",\"2012-05-11T16:00:00\",\"2012-05-11T17:00:00\",\"2012-05-11T18:00:00\",\"2012-05-11T19:00:00\",\"2012-05-11T20:00:00\",\"2012-05-11T21:00:00\",\"2012-05-11T22:00:00\",\"2012-05-11T23:00:00\",\"2012-05-12T00:00:00\",\"2012-05-12T01:00:00\",\"2012-05-12T02:00:00\",\"2012-05-12T03:00:00\",\"2012-05-12T04:00:00\",\"2012-05-12T05:00:00\",\"2012-05-12T06:00:00\",\"2012-05-12T07:00:00\",\"2012-05-12T08:00:00\",\"2012-05-12T09:00:00\",\"2012-05-12T10:00:00\",\"2012-05-12T11:00:00\",\"2012-05-12T12:00:00\",\"2012-05-12T13:00:00\",\"2012-05-12T14:00:00\",\"2012-05-12T15:00:00\",\"2012-05-12T16:00:00\",\"2012-05-12T17:00:00\",\"2012-05-12T18:00:00\",\"2012-05-12T19:00:00\",\"2012-05-12T20:00:00\",\"2012-05-12T21:00:00\",\"2012-05-12T22:00:00\",\"2012-05-12T23:00:00\",\"2012-05-13T00:00:00\",\"2012-05-13T01:00:00\",\"2012-05-13T02:00:00\",\"2012-05-13T03:00:00\",\"2012-05-13T04:00:00\",\"2012-05-13T05:00:00\",\"2012-05-13T06:00:00\",\"2012-05-13T07:00:00\",\"2012-05-13T08:00:00\",\"2012-05-13T09:00:00\",\"2012-05-13T10:00:00\",\"2012-05-13T11:00:00\",\"2012-05-13T12:00:00\",\"2012-05-13T13:00:00\",\"2012-05-13T14:00:00\",\"2012-05-13T15:00:00\",\"2012-05-13T16:00:00\",\"2012-05-13T17:00:00\",\"2012-05-13T18:00:00\",\"2012-05-13T19:00:00\",\"2012-05-13T20:00:00\",\"2012-05-13T21:00:00\",\"2012-05-13T22:00:00\",\"2012-05-13T23:00:00\",\"2012-05-14T00:00:00\",\"2012-05-14T01:00:00\",\"2012-05-14T02:00:00\",\"2012-05-14T03:00:00\",\"2012-05-14T04:00:00\",\"2012-05-14T05:00:00\",\"2012-05-14T06:00:00\",\"2012-05-14T07:00:00\",\"2012-05-14T08:00:00\",\"2012-05-14T09:00:00\",\"2012-05-14T10:00:00\",\"2012-05-14T11:00:00\",\"2012-05-14T12:00:00\",\"2012-05-14T13:00:00\",\"2012-05-14T14:00:00\",\"2012-05-14T15:00:00\",\"2012-05-14T16:00:00\",\"2012-05-14T17:00:00\",\"2012-05-14T18:00:00\",\"2012-05-14T19:00:00\",\"2012-05-14T20:00:00\",\"2012-05-14T21:00:00\",\"2012-05-14T22:00:00\",\"2012-05-14T23:00:00\",\"2012-05-15T00:00:00\",\"2012-05-15T01:00:00\",\"2012-05-15T02:00:00\",\"2012-05-15T03:00:00\",\"2012-05-15T04:00:00\",\"2012-05-15T05:00:00\",\"2012-05-15T06:00:00\",\"2012-05-15T07:00:00\",\"2012-05-15T08:00:00\",\"2012-05-15T09:00:00\",\"2012-05-15T10:00:00\",\"2012-05-15T11:00:00\",\"2012-05-15T12:00:00\",\"2012-05-15T13:00:00\",\"2012-05-15T14:00:00\",\"2012-05-15T15:00:00\",\"2012-05-15T16:00:00\",\"2012-05-15T17:00:00\",\"2012-05-15T18:00:00\",\"2012-05-15T19:00:00\",\"2012-05-15T20:00:00\",\"2012-05-15T21:00:00\",\"2012-05-15T22:00:00\",\"2012-05-15T23:00:00\",\"2012-05-16T00:00:00\",\"2012-05-16T01:00:00\",\"2012-05-16T02:00:00\",\"2012-05-16T03:00:00\",\"2012-05-16T04:00:00\",\"2012-05-16T05:00:00\",\"2012-05-16T06:00:00\",\"2012-05-16T07:00:00\",\"2012-05-16T08:00:00\",\"2012-05-16T09:00:00\",\"2012-05-16T10:00:00\",\"2012-05-16T11:00:00\",\"2012-05-16T12:00:00\",\"2012-05-16T13:00:00\",\"2012-05-16T14:00:00\",\"2012-05-16T15:00:00\",\"2012-05-16T16:00:00\",\"2012-05-16T17:00:00\",\"2012-05-16T18:00:00\",\"2012-05-16T19:00:00\",\"2012-05-16T20:00:00\",\"2012-05-16T21:00:00\",\"2012-05-16T22:00:00\",\"2012-05-16T23:00:00\",\"2012-05-17T00:00:00\",\"2012-05-17T01:00:00\",\"2012-05-17T02:00:00\",\"2012-05-17T03:00:00\",\"2012-05-17T04:00:00\",\"2012-05-17T05:00:00\",\"2012-05-17T06:00:00\",\"2012-05-17T07:00:00\",\"2012-05-17T08:00:00\",\"2012-05-17T09:00:00\",\"2012-05-17T10:00:00\",\"2012-05-17T11:00:00\",\"2012-05-17T12:00:00\",\"2012-05-17T13:00:00\",\"2012-05-17T14:00:00\",\"2012-05-17T15:00:00\",\"2012-05-17T16:00:00\",\"2012-05-17T17:00:00\",\"2012-05-17T18:00:00\",\"2012-05-17T19:00:00\",\"2012-05-17T20:00:00\",\"2012-05-17T21:00:00\",\"2012-05-17T22:00:00\",\"2012-05-17T23:00:00\",\"2012-05-18T00:00:00\",\"2012-05-18T01:00:00\",\"2012-05-18T02:00:00\",\"2012-05-18T03:00:00\",\"2012-05-18T04:00:00\",\"2012-05-18T05:00:00\",\"2012-05-18T06:00:00\",\"2012-05-18T07:00:00\",\"2012-05-18T08:00:00\",\"2012-05-18T09:00:00\",\"2012-05-18T10:00:00\",\"2012-05-18T11:00:00\",\"2012-05-18T12:00:00\",\"2012-05-18T13:00:00\",\"2012-05-18T14:00:00\",\"2012-05-18T15:00:00\",\"2012-05-18T16:00:00\",\"2012-05-18T17:00:00\",\"2012-05-18T18:00:00\",\"2012-05-18T19:00:00\",\"2012-05-18T20:00:00\",\"2012-05-18T21:00:00\",\"2012-05-18T22:00:00\",\"2012-05-18T23:00:00\",\"2012-05-19T00:00:00\",\"2012-05-19T01:00:00\",\"2012-05-19T02:00:00\",\"2012-05-19T03:00:00\",\"2012-05-19T04:00:00\",\"2012-05-19T05:00:00\",\"2012-05-19T06:00:00\",\"2012-05-19T07:00:00\",\"2012-05-19T08:00:00\",\"2012-05-19T09:00:00\",\"2012-05-19T10:00:00\",\"2012-05-19T11:00:00\",\"2012-05-19T12:00:00\",\"2012-05-19T13:00:00\"],\"y\":[0.38339021615472124,0.3720136518771331,0.20932878270762234,0.03754266211604096,0.19908987485779295,0.15699658703071673,0.10466439135381123,0.14220705346985218,0.16382252559726962,0.3185437997724687,0.4448236632536974,0.4937428896473265,0.6814562002275312,0.4778156996587032,0.6018202502844142,0.43913538111490336,0.4448236632536974,0.45278725824800914,0.5017064846416383,0.5711035267349261,0.7007963594994312,0.8691695108077361,0.6894197952218429,0.5324232081911263,0.2764505119453925,0.2901023890784983,0.23321956769055752,0.029579067121729308,0.20136518771331058,0.16040955631399323,0.11149032992036412,0.2992036405005688,0.3720136518771331,0.6473265073947668,0.9271899886234357,0.9465301478953355,0.820250284414107,0.7588168373151308,0.6825938566552902,0.708759954493743,0.5335608646188851,0.5017064846416383,0.720136518771331,0.8236632536973835,0.7155858930602957,0.7781569965870306,0.7554038680318543,0.7349260523321958,0.45620022753128564,0.36405005688282144,0.2400455062571104,0.05005688282138798,0.22980659840728102,0.10352673492605236,0.18316268486916953,0.26848691695108085,0.27189988623435724,0.5369738339021616,0.6416382252559728,0.8543799772468715,0.8464163822525598,0.7007963594994312,0.5585893060295791,0.5199089874857793,0.5631399317406144,0.5745164960182024,0.6587030716723549,0.7781569965870306,0.8236632536973835,0.7736063708759954,0.6507394766780433,0.5711035267349261,0.521046643913538,0.39021615472127413,0.267349260523322,0.0921501706484642,0.24118316268486917,0.23435722411831628,0.1808873720136519,0.2957906712172924,0.4664391353811149,0.5858930602957907,0.6632536973833901,0.9112627986348122,0.8805460750853241,0.8589306029579068,0.8122866894197952,0.8077360637087599,0.6609783845278726,0.6769055745164959,0.7155858930602957,0.9999999999999999,0.9692832764505118,0.7974971558589307,0.6973833902161547,0.5790671217292377,0.4141069397042093,0.3686006825938567,0.24914675767918093,0.08759954493742894,0.21501706484641636,0.17178612059158138,0.13424345847554042,0.27531285551763374,0.42207053469852107,0.6780432309442549,0.6166097838452788,0.6666666666666666,0.6313993174061433,0.6575654152445961,0.7576791808873721,0.6359499431171786,0.6439135381114903,0.6279863481228668,0.4675767918088737,0.6461888509670081,0.7497155858930603,0.7053469852104665,0.6359499431171786,0.6894197952218429,0.6700796359499431,0.4630261660978384,0.323094425483504,0.0921501706484642,0.23321956769055752,0.2036405005688282,0.1877133105802048,0.24118316268486917,0.38680318543799774,0.3720136518771331,0.521046643913538,0.8077360637087599,0.8191126279863482,0.6507394766780433,0.40273037542662116,0.31399317406143346,0.279863481228669,0.33333333333333337,0.3447098976109215,0.5381114903299203,0.5631399317406144,0.7974971558589307,0.6552901023890786,0.49829351535836175,0.4630261660978384,0.29124004550625715,0.2036405005688282,0.0,0.1843003412969284,0.15244596131968147,0.13424345847554042,0.279863481228669,0.3754266211604096,0.5813424345847554,0.7007963594994312,0.7155858930602957,0.7133105802047782,0.6473265073947668,0.6097838452787258,0.6439135381114903,0.5745164960182024,0.4675767918088737,0.5984072810011377,0.7940841865756542,0.8282138794084187,0.7042093287827077,0.7588168373151308,0.6313993174061433,0.4209328782707622,0.2832764505119454,0.21501706484641636,0.07622298065984079,0.26166097838452784,0.18316268486916953,0.14448236632536982,0.24914675767918093,0.39704209328782714,0.5699658703071672,0.6882821387940842,0.8077360637087599,0.9999999999999999,0.7804323094425484,0.720136518771331,0.6313993174061433,0.5745164960182024,0.6131968145620023,0.7849829351535836,0.962457337883959,0.8577929465301478,0.7929465301478954,0.8043230944254834,0.6393629124004551,0.43230944254835035,0.2639362912400455,0.1911262798634813,0.019340159271899915,0.24118316268486917,0.19567690557451656,0.24800910125142206,0.29465301478953354,0.4698521046643914,0.6473265073947668,0.7121729237770192,0.7588168373151308,0.7736063708759954,0.732650739476678,0.6018202502844142,0.5631399317406144,0.6018202502844142,0.6439135381114903,0.6518771331058021,0.7622298065984073,0.7690557451649601,0.7770193401592719,0.838452787258248,0.7212741751990898,0.4516496018202504,0.35722411831626855,0.2536973833902162,0.06825938566552903,0.27189988623435724,0.21843003412969286,0.22184300341296925,0.3094425483503982,0.45847554038680316,0.6075085324232082,0.6621160409556314,0.7918088737201364,0.7701934015927191,0.6860068259385667,0.6848691695108077,0.6894197952218429,0.708759954493743,0.6359499431171786,0.6552901023890786,0.7770193401592719,0.6734926052332196,0.8009101251422069,0.720136518771331,0.7007963594994312,0.508532423208191,0.3742889647326507,0.3026166097838453,0.0887372013651877,0.2866894197952219,0.2366325369738339,0.2104664391353811,0.36405005688282144,0.4482366325369739,0.7428896473265073,0.8168373151308305,0.9180887372013652,0.7827076222980659,0.7360637087599545,0.5130830489192263,0.5745164960182024,0.590443686006826,0.5597269624573379,0.6666666666666666,0.838452787258248,0.8156996587030717,0.8111490329920364,0.8657565415244596,0.7667804323094426,0.6814562002275312,0.5062571103526735,0.37656427758816835,0.20932878270762234,0.3447098976109215,0.33788395904436863,0.2104664391353811,0.3094425483503982,0.5130830489192263,0.7474402730375426,0.8043230944254834,0.7554038680318543,0.8270762229806597,0.7963594994311717,0.8122866894197952,0.7576791808873721,0.708759954493743,0.8156996587030717,0.7474402730375426,0.7189988623435722,0.7815699658703071,0.7292377701934015,0.7155858930602957,0.6245733788395905,0.6484641638225256,0.47895335608646195,0.3253697383390216,0.11945392491467577,0.26848691695108085,0.2366325369738339,0.24118316268486917,0.2787258248009101,0.2832764505119454,0.4072810011376564,0.6279863481228668,0.6734926052332196,0.7428896473265073,0.48236632536973845,0.3424345847554039,0.41296928327645055,0.3981797497155859,0.43230944254835035,0.5119453924914675,0.5585893060295791,0.621160409556314,0.7849829351535836,0.7053469852104665,0.5472127417519909,0.4300341296928327,0.3287827076222981,0.17974971558589303,0.029579067121729308,0.2571103526734926,0.18657565415244604,0.2070534698521047,0.3117178612059158,0.30147895335608643,0.5324232081911263,0.7133105802047782,0.8885096700796359,0.8054607508532422,0.7656427758816836,0.5824800910125142,0.6507394766780433,0.5517633674630261,0.43230944254835035,0.497155858930603,0.5051194539249148,0.5699658703071672,0.6313993174061433,0.7542662116040956,0.6348122866894198,0.4175199089874858,0.32992036405005687,0.23777019340159278,0.10352673492605236,0.29806598407281004,0.22525597269624575,0.22184300341296925,0.33674630261660976,0.378839590443686,0.6313993174061433,0.7849829351535836,0.7622298065984073,0.7463026166097838,0.6200227531285553,0.4857792946530147,0.49032992036405,0.5142207053469853,0.6439135381114903,0.6359499431171786,0.831626848691695,0.7622298065984073,0.7963594994311717,0.8282138794084187,0.6587030716723549,0.4596131968145619,0.3321956769055745,0.26848691695108085,0.1376564277588168,0.279863481228669,0.1376564277588168,0.23321956769055752,0.3526734926052333,0.45506257110352666,0.5358361774744028,0.7576791808873721,0.7622298065984073,0.850967007963595,0.7963594994311717,0.7428896473265073,0.831626848691695,0.7633674630261661,0.7542662116040956,0.7736063708759954,0.8088737201365187,0.7895335608646189,0.7997724687144482,0.7440273037542663,0.6188850967007963,0.4744027303754267,0.3686006825938567,0.3151308304891923,0.13879408418657568,0.30716723549488056,0.29806598407281004,0.2525597269624573,0.3219567690557452,0.4778156996587032,0.6734926052332196,0.7155858930602957,0.6939704209328782,0.7849829351535836,0.7349260523321958,0.5711035267349261,0.6052332195676905,0.47554038680318544,0.5130830489192263,0.6348122866894198,0.7212741751990898,0.5779294653014789,0.5585893060295791,0.6473265073947668,0.6575654152445961,0.521046643913538,0.3947667804323095,0.26166097838452784,0.11149032992036412,0.2992036405005688,0.26848691695108085,0.24118316268486917,0.2992036405005688,0.49032992036405,0.6473265073947668,0.8270762229806597,0.7929465301478954,0.8543799772468715,0.8577929465301478,0.6780432309442549,0.5699658703071672,0.6097838452787258,0.6507394766780433,0.6564277588168373,0.8088737201365187,0.7736063708759954,0.6962457337883959,0.6700796359499431,0.5779294653014789,0.521046643913538,0.40955631399317405,0.28441410693970426,0.05233219567690561,0.23321956769055752,0.2036405005688282,0.15927189988623436,0.24459613196814567,0.39362912400455063,0.5972696245733787,0.5779294653014789,0.61547212741752,0.6621160409556314,0.590443686006826],\"type\":\"scatter\"},{\"mode\":\"lines\",\"name\":\"Validation\",\"x\":[\"2012-05-19T14:00:00\",\"2012-05-19T15:00:00\",\"2012-05-19T16:00:00\",\"2012-05-19T17:00:00\",\"2012-05-19T18:00:00\",\"2012-05-19T19:00:00\",\"2012-05-19T20:00:00\",\"2012-05-19T21:00:00\",\"2012-05-19T22:00:00\",\"2012-05-19T23:00:00\",\"2012-05-20T00:00:00\",\"2012-05-20T01:00:00\",\"2012-05-20T02:00:00\",\"2012-05-20T03:00:00\",\"2012-05-20T04:00:00\",\"2012-05-20T05:00:00\",\"2012-05-20T06:00:00\",\"2012-05-20T07:00:00\",\"2012-05-20T08:00:00\",\"2012-05-20T09:00:00\",\"2012-05-20T10:00:00\",\"2012-05-20T11:00:00\",\"2012-05-20T12:00:00\",\"2012-05-20T13:00:00\",\"2012-05-20T14:00:00\",\"2012-05-20T15:00:00\",\"2012-05-20T16:00:00\",\"2012-05-20T17:00:00\",\"2012-05-20T18:00:00\",\"2012-05-20T19:00:00\",\"2012-05-20T20:00:00\",\"2012-05-20T21:00:00\",\"2012-05-20T22:00:00\",\"2012-05-20T23:00:00\",\"2012-05-21T00:00:00\",\"2012-05-21T01:00:00\",\"2012-05-21T02:00:00\",\"2012-05-21T03:00:00\",\"2012-05-21T04:00:00\",\"2012-05-21T05:00:00\",\"2012-05-21T06:00:00\",\"2012-05-21T07:00:00\",\"2012-05-21T08:00:00\",\"2012-05-21T09:00:00\",\"2012-05-21T10:00:00\",\"2012-05-21T11:00:00\",\"2012-05-21T12:00:00\",\"2012-05-21T13:00:00\",\"2012-05-21T14:00:00\",\"2012-05-21T15:00:00\",\"2012-05-21T16:00:00\",\"2012-05-21T17:00:00\",\"2012-05-21T18:00:00\",\"2012-05-21T19:00:00\",\"2012-05-21T20:00:00\",\"2012-05-21T21:00:00\",\"2012-05-21T22:00:00\",\"2012-05-21T23:00:00\",\"2012-05-22T00:00:00\",\"2012-05-22T01:00:00\",\"2012-05-22T02:00:00\",\"2012-05-22T03:00:00\",\"2012-05-22T04:00:00\",\"2012-05-22T05:00:00\",\"2012-05-22T06:00:00\",\"2012-05-22T07:00:00\",\"2012-05-22T08:00:00\",\"2012-05-22T09:00:00\",\"2012-05-22T10:00:00\",\"2012-05-22T11:00:00\",\"2012-05-22T12:00:00\",\"2012-05-22T13:00:00\",\"2012-05-22T14:00:00\",\"2012-05-22T15:00:00\",\"2012-05-22T16:00:00\",\"2012-05-22T17:00:00\",\"2012-05-22T18:00:00\",\"2012-05-22T19:00:00\",\"2012-05-22T20:00:00\",\"2012-05-22T21:00:00\",\"2012-05-22T22:00:00\",\"2012-05-22T23:00:00\",\"2012-05-23T00:00:00\",\"2012-05-23T01:00:00\",\"2012-05-23T02:00:00\",\"2012-05-23T03:00:00\",\"2012-05-23T04:00:00\",\"2012-05-23T05:00:00\",\"2012-05-23T06:00:00\",\"2012-05-23T07:00:00\",\"2012-05-23T08:00:00\",\"2012-05-23T09:00:00\",\"2012-05-23T10:00:00\",\"2012-05-23T11:00:00\",\"2012-05-23T12:00:00\",\"2012-05-23T13:00:00\",\"2012-05-23T14:00:00\",\"2012-05-23T15:00:00\",\"2012-05-23T16:00:00\",\"2012-05-23T17:00:00\",\"2012-05-23T18:00:00\",\"2012-05-23T19:00:00\",\"2012-05-23T20:00:00\",\"2012-05-23T21:00:00\",\"2012-05-23T22:00:00\",\"2012-05-23T23:00:00\",\"2012-05-24T00:00:00\",\"2012-05-24T01:00:00\",\"2012-05-24T02:00:00\",\"2012-05-24T03:00:00\",\"2012-05-24T04:00:00\",\"2012-05-24T05:00:00\",\"2012-05-24T06:00:00\",\"2012-05-24T07:00:00\",\"2012-05-24T08:00:00\",\"2012-05-24T09:00:00\",\"2012-05-24T10:00:00\",\"2012-05-24T11:00:00\",\"2012-05-24T12:00:00\",\"2012-05-24T13:00:00\",\"2012-05-24T14:00:00\",\"2012-05-24T15:00:00\",\"2012-05-24T16:00:00\",\"2012-05-24T17:00:00\",\"2012-05-24T18:00:00\",\"2012-05-24T19:00:00\",\"2012-05-24T20:00:00\",\"2012-05-24T21:00:00\",\"2012-05-24T22:00:00\",\"2012-05-24T23:00:00\",\"2012-05-25T00:00:00\",\"2012-05-25T01:00:00\",\"2012-05-25T02:00:00\",\"2012-05-25T03:00:00\",\"2012-05-25T04:00:00\",\"2012-05-25T05:00:00\",\"2012-05-25T06:00:00\",\"2012-05-25T07:00:00\",\"2012-05-25T08:00:00\",\"2012-05-25T09:00:00\",\"2012-05-25T10:00:00\",\"2012-05-25T11:00:00\",\"2012-05-25T12:00:00\",\"2012-05-25T13:00:00\",\"2012-05-25T14:00:00\",\"2012-05-25T15:00:00\",\"2012-05-25T16:00:00\",\"2012-05-25T17:00:00\"],\"y\":[0.7053469852104665,0.6006825938566552,0.5278725824800911,0.5858930602957907,0.5597269624573379,0.5711035267349261,0.6734926052332196,0.6279863481228668,0.5585893060295791,0.5472127417519909,0.5574516496018201,0.42548350398179746,0.26507394766780434,0.14220705346985218,0.19226393629124006,0.2138794084186576,0.15244596131968147,0.16382252559726962,0.2866894197952219,0.4436860068259386,0.5005688282138795,0.5756541524459614,0.5972696245733787,0.5597269624573379,0.4334470989761092,0.38339021615472124,0.37997724687144485,0.3560864618885097,0.4209328782707622,0.5051194539249148,0.5665529010238909,0.6598407281001138,0.590443686006826,0.49032992036405,0.3720136518771331,0.3026166097838453,0.17178612059158138,0.023890784982935176,0.22184300341296925,0.16723549488054612,0.1217292377701934,0.1843003412969284,0.3253697383390216,0.3651877133105802,0.6894197952218429,0.7281001137656428,0.7895335608646189,0.6769055745164959,0.5881683731513082,0.6006825938566552,0.6052332195676905,0.7133105802047782,0.590443686006826,0.6621160409556314,0.7463026166097838,0.5790671217292377,0.6746302616609784,0.521046643913538,0.42889647326507396,0.341296928327645,0.22298065984072812,0.1251422070534699,0.23435722411831628,0.24914675767918093,0.16040955631399323,0.2070534698521047,0.4106939704209329,0.5745164960182024,0.6848691695108077,0.7349260523321958,0.7815699658703071,0.6632536973833901,0.626848691695108,0.5563139931740614,0.5472127417519909,0.5551763367463026,0.5665529010238909,0.7360637087599545,0.6313993174061433,0.6916951080773607,0.7417519908987485,0.5665529010238909,0.4175199089874858,0.3185437997724687,0.21160409556313997,0.04664391353811148,0.2605233219567691,0.23208191126279865,0.1843003412969284,0.18316268486916953,0.3424345847554039,0.6712172923777019,0.8350398179749715,0.7781569965870306,0.7235494880546075,0.7963594994311717,0.6313993174061433,0.5813424345847554,0.5517633674630261,0.6860068259385667,0.6666666666666666,0.8771331058020478,0.8782707622298066,0.7690557451649601,0.8009101251422069,0.6962457337883959,0.4937428896473265,0.42207053469852107,0.267349260523322,0.12059158134243464,0.3026166097838453,0.27531285551763374,0.16837315130830488,0.3219567690557452,0.40955631399317405,0.6313993174061433,0.726962457337884,0.6507394766780433,0.831626848691695,0.6587030716723549,0.6860068259385667,0.7155858930602957,0.6587030716723549,0.6996587030716724,0.6507394766780433,0.7235494880546075,0.6825938566552902,0.7360637087599545,0.739476678043231,0.7053469852104665,0.5358361774744028,0.4596131968145619,0.29806598407281004,0.1376564277588168,0.33674630261660976,0.3026166097838453,0.22298065984072812,0.33333333333333337,0.5119453924914675,0.6814562002275312,0.7121729237770192,0.6382252559726963,0.6666666666666666,0.6746302616609784,0.5870307167235495,0.5335608646188851,0.5779294653014789,0.6006825938566552],\"type\":\"scatter\"},{\"mode\":\"lines\",\"name\":\"Test\",\"x\":[\"2012-05-25T18:00:00\",\"2012-05-25T19:00:00\",\"2012-05-25T20:00:00\",\"2012-05-25T21:00:00\",\"2012-05-25T22:00:00\",\"2012-05-25T23:00:00\",\"2012-05-26T00:00:00\",\"2012-05-26T01:00:00\",\"2012-05-26T02:00:00\",\"2012-05-26T03:00:00\",\"2012-05-26T04:00:00\",\"2012-05-26T05:00:00\",\"2012-05-26T06:00:00\",\"2012-05-26T07:00:00\",\"2012-05-26T08:00:00\",\"2012-05-26T09:00:00\",\"2012-05-26T10:00:00\",\"2012-05-26T11:00:00\",\"2012-05-26T12:00:00\",\"2012-05-26T13:00:00\",\"2012-05-26T14:00:00\",\"2012-05-26T15:00:00\",\"2012-05-26T16:00:00\",\"2012-05-26T17:00:00\",\"2012-05-26T18:00:00\",\"2012-05-26T19:00:00\",\"2012-05-26T20:00:00\",\"2012-05-26T21:00:00\",\"2012-05-26T22:00:00\",\"2012-05-26T23:00:00\",\"2012-05-27T00:00:00\",\"2012-05-27T01:00:00\",\"2012-05-27T02:00:00\",\"2012-05-27T03:00:00\",\"2012-05-27T04:00:00\",\"2012-05-27T05:00:00\",\"2012-05-27T06:00:00\",\"2012-05-27T07:00:00\",\"2012-05-27T08:00:00\",\"2012-05-27T09:00:00\",\"2012-05-27T10:00:00\",\"2012-05-27T11:00:00\",\"2012-05-27T12:00:00\",\"2012-05-27T13:00:00\",\"2012-05-27T14:00:00\",\"2012-05-27T15:00:00\",\"2012-05-27T16:00:00\",\"2012-05-27T17:00:00\",\"2012-05-27T18:00:00\",\"2012-05-27T19:00:00\",\"2012-05-27T20:00:00\",\"2012-05-27T21:00:00\",\"2012-05-27T22:00:00\",\"2012-05-27T23:00:00\",\"2012-05-28T00:00:00\",\"2012-05-28T01:00:00\",\"2012-05-28T02:00:00\",\"2012-05-28T03:00:00\",\"2012-05-28T04:00:00\",\"2012-05-28T05:00:00\",\"2012-05-28T06:00:00\",\"2012-05-28T07:00:00\",\"2012-05-28T08:00:00\",\"2012-05-28T09:00:00\",\"2012-05-28T10:00:00\",\"2012-05-28T11:00:00\",\"2012-05-28T12:00:00\",\"2012-05-28T13:00:00\",\"2012-05-28T14:00:00\",\"2012-05-28T15:00:00\",\"2012-05-28T16:00:00\",\"2012-05-28T17:00:00\",\"2012-05-28T18:00:00\",\"2012-05-28T19:00:00\",\"2012-05-28T20:00:00\",\"2012-05-28T21:00:00\",\"2012-05-28T22:00:00\",\"2012-05-28T23:00:00\",\"2012-05-29T00:00:00\",\"2012-05-29T01:00:00\",\"2012-05-29T02:00:00\",\"2012-05-29T03:00:00\",\"2012-05-29T04:00:00\",\"2012-05-29T05:00:00\",\"2012-05-29T06:00:00\",\"2012-05-29T07:00:00\",\"2012-05-29T08:00:00\",\"2012-05-29T09:00:00\",\"2012-05-29T10:00:00\",\"2012-05-29T11:00:00\",\"2012-05-29T12:00:00\",\"2012-05-29T13:00:00\",\"2012-05-29T14:00:00\",\"2012-05-29T15:00:00\",\"2012-05-29T16:00:00\",\"2012-05-29T17:00:00\",\"2012-05-29T18:00:00\",\"2012-05-29T19:00:00\",\"2012-05-29T20:00:00\",\"2012-05-29T21:00:00\",\"2012-05-29T22:00:00\",\"2012-05-29T23:00:00\",\"2012-05-30T00:00:00\",\"2012-05-30T01:00:00\",\"2012-05-30T02:00:00\",\"2012-05-30T03:00:00\",\"2012-05-30T04:00:00\",\"2012-05-30T05:00:00\",\"2012-05-30T06:00:00\",\"2012-05-30T07:00:00\",\"2012-05-30T08:00:00\",\"2012-05-30T09:00:00\",\"2012-05-30T10:00:00\",\"2012-05-30T11:00:00\",\"2012-05-30T12:00:00\",\"2012-05-30T13:00:00\",\"2012-05-30T14:00:00\",\"2012-05-30T15:00:00\",\"2012-05-30T16:00:00\",\"2012-05-30T17:00:00\",\"2012-05-30T18:00:00\",\"2012-05-30T19:00:00\",\"2012-05-30T20:00:00\",\"2012-05-30T21:00:00\",\"2012-05-30T22:00:00\",\"2012-05-30T23:00:00\",\"2012-05-31T00:00:00\",\"2012-05-31T01:00:00\",\"2012-05-31T02:00:00\",\"2012-05-31T03:00:00\",\"2012-05-31T04:00:00\",\"2012-05-31T05:00:00\",\"2012-05-31T06:00:00\",\"2012-05-31T07:00:00\",\"2012-05-31T08:00:00\",\"2012-05-31T09:00:00\",\"2012-05-31T10:00:00\",\"2012-05-31T11:00:00\",\"2012-05-31T12:00:00\",\"2012-05-31T13:00:00\",\"2012-05-31T14:00:00\",\"2012-05-31T15:00:00\",\"2012-05-31T16:00:00\",\"2012-05-31T17:00:00\",\"2012-05-31T18:00:00\",\"2012-05-31T19:00:00\",\"2012-05-31T20:00:00\",\"2012-05-31T21:00:00\",\"2012-05-31T22:00:00\",\"2012-05-31T23:00:00\"],\"y\":[0.5745164960182024,0.6973833902161547,0.7235494880546075,0.7246871444823663,0.820250284414107,0.6860068259385667,0.61547212741752,0.49032992036405,0.33788395904436863,0.27531285551763374,0.2832764505119454,0.2366325369738339,0.1285551763367463,0.18885096700796367,0.3720136518771331,0.6234357224118315,0.7895335608646189,0.7554038680318543,0.7861205915813424,0.6814562002275312,0.739476678043231,0.6814562002275312,0.5984072810011377,0.6279863481228668,0.4778156996587032,0.590443686006826,0.738339021615472,0.6769055745164959,0.6131968145620023,0.6006825938566552,0.5119453924914675,0.38680318543799774,0.26848691695108085,0.1877133105802048,0.22866894197952226,0.2104664391353811,0.13424345847554042,0.17633674630261664,0.31058020477815707,0.37087599544937433,0.4630261660978384,0.5790671217292377,0.5255972696245733,0.4175199089874858,0.3560864618885097,0.35381114903299204,0.341296928327645,0.40273037542662116,0.39362912400455063,0.4277588168373151,0.50967007963595,0.5699658703071672,0.6746302616609784,0.5335608646188851,0.3754266211604096,0.2787258248009101,0.1877133105802048,0.014789533560864654,0.1911262798634813,0.15358361774744034,0.13651877133105805,0.23435722411831628,0.32992036405005687,0.44937428896473264,0.6700796359499431,0.7007963594994312,0.6860068259385667,0.5938566552901025,0.40273037542662116,0.42889647326507396,0.5392491467576791,0.5483503981797496,0.5290102389078498,0.7155858930602957,0.7804323094425484,0.6621160409556314,0.7542662116040956,0.6393629124004551,0.4084186575654153,0.34015927189988626,0.2730375426621161,0.09670079635949946,0.2571103526734926,0.24573378839590443,0.1911262798634813,0.279863481228669,0.5472127417519909,0.6473265073947668,0.7349260523321958,0.6905574516496019,0.8395904436860068,0.7155858930602957,0.6131968145620023,0.6166097838452788,0.521046643913538,0.5949943117178612,0.6973833902161547,0.8532423208191126,0.6860068259385667,0.7349260523321958,0.7588168373151308,0.6700796359499431,0.50967007963595,0.3253697383390216,0.20250284414106945,0.056882821387940874,0.279863481228669,0.24459613196814567,0.22184300341296925,0.23777019340159278,0.4334470989761092,0.6291240045506258,0.621160409556314,0.7360637087599545,0.7542662116040956,0.6621160409556314,0.5824800910125142,0.5472127417519909,0.5779294653014789,0.621160409556314,0.6496018202502843,0.8464163822525598,0.8498293515358363,0.7690557451649601,0.7428896473265073,0.6780432309442549,0.4414106939704209,0.3879408418657565,0.3060295790671217,0.1217292377701934,0.3026166097838453,0.27189988623435724,0.2707622298065985,0.32992036405005687,0.5255972696245733,0.7315130830489193,0.7667804323094426,0.831626848691695,0.8771331058020478,0.8657565415244596,0.7883959044368601,0.8270762229806597,0.7622298065984073,0.708759954493743,0.7235494880546075,0.9340159271899887,0.938566552901024,0.6973833902161547,0.739476678043231,0.7508532423208191],\"type\":\"scatter\"}],                        {\"template\":{\"data\":{\"histogram2dcontour\":[{\"type\":\"histogram2dcontour\",\"colorbar\":{\"outlinewidth\":0,\"ticks\":\"\"},\"colorscale\":[[0.0,\"#0d0887\"],[0.1111111111111111,\"#46039f\"],[0.2222222222222222,\"#7201a8\"],[0.3333333333333333,\"#9c179e\"],[0.4444444444444444,\"#bd3786\"],[0.5555555555555556,\"#d8576b\"],[0.6666666666666666,\"#ed7953\"],[0.7777777777777778,\"#fb9f3a\"],[0.8888888888888888,\"#fdca26\"],[1.0,\"#f0f921\"]]}],\"choropleth\":[{\"type\":\"choropleth\",\"colorbar\":{\"outlinewidth\":0,\"ticks\":\"\"}}],\"histogram2d\":[{\"type\":\"histogram2d\",\"colorbar\":{\"outlinewidth\":0,\"ticks\":\"\"},\"colorscale\":[[0.0,\"#0d0887\"],[0.1111111111111111,\"#46039f\"],[0.2222222222222222,\"#7201a8\"],[0.3333333333333333,\"#9c179e\"],[0.4444444444444444,\"#bd3786\"],[0.5555555555555556,\"#d8576b\"],[0.6666666666666666,\"#ed7953\"],[0.7777777777777778,\"#fb9f3a\"],[0.8888888888888888,\"#fdca26\"],[1.0,\"#f0f921\"]]}],\"heatmap\":[{\"type\":\"heatmap\",\"colorbar\":{\"outlinewidth\":0,\"ticks\":\"\"},\"colorscale\":[[0.0,\"#0d0887\"],[0.1111111111111111,\"#46039f\"],[0.2222222222222222,\"#7201a8\"],[0.3333333333333333,\"#9c179e\"],[0.4444444444444444,\"#bd3786\"],[0.5555555555555556,\"#d8576b\"],[0.6666666666666666,\"#ed7953\"],[0.7777777777777778,\"#fb9f3a\"],[0.8888888888888888,\"#fdca26\"],[1.0,\"#f0f921\"]]}],\"heatmapgl\":[{\"type\":\"heatmapgl\",\"colorbar\":{\"outlinewidth\":0,\"ticks\":\"\"},\"colorscale\":[[0.0,\"#0d0887\"],[0.1111111111111111,\"#46039f\"],[0.2222222222222222,\"#7201a8\"],[0.3333333333333333,\"#9c179e\"],[0.4444444444444444,\"#bd3786\"],[0.5555555555555556,\"#d8576b\"],[0.6666666666666666,\"#ed7953\"],[0.7777777777777778,\"#fb9f3a\"],[0.8888888888888888,\"#fdca26\"],[1.0,\"#f0f921\"]]}],\"contourcarpet\":[{\"type\":\"contourcarpet\",\"colorbar\":{\"outlinewidth\":0,\"ticks\":\"\"}}],\"contour\":[{\"type\":\"contour\",\"colorbar\":{\"outlinewidth\":0,\"ticks\":\"\"},\"colorscale\":[[0.0,\"#0d0887\"],[0.1111111111111111,\"#46039f\"],[0.2222222222222222,\"#7201a8\"],[0.3333333333333333,\"#9c179e\"],[0.4444444444444444,\"#bd3786\"],[0.5555555555555556,\"#d8576b\"],[0.6666666666666666,\"#ed7953\"],[0.7777777777777778,\"#fb9f3a\"],[0.8888888888888888,\"#fdca26\"],[1.0,\"#f0f921\"]]}],\"surface\":[{\"type\":\"surface\",\"colorbar\":{\"outlinewidth\":0,\"ticks\":\"\"},\"colorscale\":[[0.0,\"#0d0887\"],[0.1111111111111111,\"#46039f\"],[0.2222222222222222,\"#7201a8\"],[0.3333333333333333,\"#9c179e\"],[0.4444444444444444,\"#bd3786\"],[0.5555555555555556,\"#d8576b\"],[0.6666666666666666,\"#ed7953\"],[0.7777777777777778,\"#fb9f3a\"],[0.8888888888888888,\"#fdca26\"],[1.0,\"#f0f921\"]]}],\"mesh3d\":[{\"type\":\"mesh3d\",\"colorbar\":{\"outlinewidth\":0,\"ticks\":\"\"}}],\"scatter\":[{\"fillpattern\":{\"fillmode\":\"overlay\",\"size\":10,\"solidity\":0.2},\"type\":\"scatter\"}],\"parcoords\":[{\"type\":\"parcoords\",\"line\":{\"colorbar\":{\"outlinewidth\":0,\"ticks\":\"\"}}}],\"scatterpolargl\":[{\"type\":\"scatterpolargl\",\"marker\":{\"colorbar\":{\"outlinewidth\":0,\"ticks\":\"\"}}}],\"bar\":[{\"error_x\":{\"color\":\"#2a3f5f\"},\"error_y\":{\"color\":\"#2a3f5f\"},\"marker\":{\"line\":{\"color\":\"#E5ECF6\",\"width\":0.5},\"pattern\":{\"fillmode\":\"overlay\",\"size\":10,\"solidity\":0.2}},\"type\":\"bar\"}],\"scattergeo\":[{\"type\":\"scattergeo\",\"marker\":{\"colorbar\":{\"outlinewidth\":0,\"ticks\":\"\"}}}],\"scatterpolar\":[{\"type\":\"scatterpolar\",\"marker\":{\"colorbar\":{\"outlinewidth\":0,\"ticks\":\"\"}}}],\"histogram\":[{\"marker\":{\"pattern\":{\"fillmode\":\"overlay\",\"size\":10,\"solidity\":0.2}},\"type\":\"histogram\"}],\"scattergl\":[{\"type\":\"scattergl\",\"marker\":{\"colorbar\":{\"outlinewidth\":0,\"ticks\":\"\"}}}],\"scatter3d\":[{\"type\":\"scatter3d\",\"line\":{\"colorbar\":{\"outlinewidth\":0,\"ticks\":\"\"}},\"marker\":{\"colorbar\":{\"outlinewidth\":0,\"ticks\":\"\"}}}],\"scattermapbox\":[{\"type\":\"scattermapbox\",\"marker\":{\"colorbar\":{\"outlinewidth\":0,\"ticks\":\"\"}}}],\"scatterternary\":[{\"type\":\"scatterternary\",\"marker\":{\"colorbar\":{\"outlinewidth\":0,\"ticks\":\"\"}}}],\"scattercarpet\":[{\"type\":\"scattercarpet\",\"marker\":{\"colorbar\":{\"outlinewidth\":0,\"ticks\":\"\"}}}],\"carpet\":[{\"aaxis\":{\"endlinecolor\":\"#2a3f5f\",\"gridcolor\":\"white\",\"linecolor\":\"white\",\"minorgridcolor\":\"white\",\"startlinecolor\":\"#2a3f5f\"},\"baxis\":{\"endlinecolor\":\"#2a3f5f\",\"gridcolor\":\"white\",\"linecolor\":\"white\",\"minorgridcolor\":\"white\",\"startlinecolor\":\"#2a3f5f\"},\"type\":\"carpet\"}],\"table\":[{\"cells\":{\"fill\":{\"color\":\"#EBF0F8\"},\"line\":{\"color\":\"white\"}},\"header\":{\"fill\":{\"color\":\"#C8D4E3\"},\"line\":{\"color\":\"white\"}},\"type\":\"table\"}],\"barpolar\":[{\"marker\":{\"line\":{\"color\":\"#E5ECF6\",\"width\":0.5},\"pattern\":{\"fillmode\":\"overlay\",\"size\":10,\"solidity\":0.2}},\"type\":\"barpolar\"}],\"pie\":[{\"automargin\":true,\"type\":\"pie\"}]},\"layout\":{\"autotypenumbers\":\"strict\",\"colorway\":[\"#636efa\",\"#EF553B\",\"#00cc96\",\"#ab63fa\",\"#FFA15A\",\"#19d3f3\",\"#FF6692\",\"#B6E880\",\"#FF97FF\",\"#FECB52\"],\"font\":{\"color\":\"#2a3f5f\"},\"hovermode\":\"closest\",\"hoverlabel\":{\"align\":\"left\"},\"paper_bgcolor\":\"white\",\"plot_bgcolor\":\"#E5ECF6\",\"polar\":{\"bgcolor\":\"#E5ECF6\",\"angularaxis\":{\"gridcolor\":\"white\",\"linecolor\":\"white\",\"ticks\":\"\"},\"radialaxis\":{\"gridcolor\":\"white\",\"linecolor\":\"white\",\"ticks\":\"\"}},\"ternary\":{\"bgcolor\":\"#E5ECF6\",\"aaxis\":{\"gridcolor\":\"white\",\"linecolor\":\"white\",\"ticks\":\"\"},\"baxis\":{\"gridcolor\":\"white\",\"linecolor\":\"white\",\"ticks\":\"\"},\"caxis\":{\"gridcolor\":\"white\",\"linecolor\":\"white\",\"ticks\":\"\"}},\"coloraxis\":{\"colorbar\":{\"outlinewidth\":0,\"ticks\":\"\"}},\"colorscale\":{\"sequential\":[[0.0,\"#0d0887\"],[0.1111111111111111,\"#46039f\"],[0.2222222222222222,\"#7201a8\"],[0.3333333333333333,\"#9c179e\"],[0.4444444444444444,\"#bd3786\"],[0.5555555555555556,\"#d8576b\"],[0.6666666666666666,\"#ed7953\"],[0.7777777777777778,\"#fb9f3a\"],[0.8888888888888888,\"#fdca26\"],[1.0,\"#f0f921\"]],\"sequentialminus\":[[0.0,\"#0d0887\"],[0.1111111111111111,\"#46039f\"],[0.2222222222222222,\"#7201a8\"],[0.3333333333333333,\"#9c179e\"],[0.4444444444444444,\"#bd3786\"],[0.5555555555555556,\"#d8576b\"],[0.6666666666666666,\"#ed7953\"],[0.7777777777777778,\"#fb9f3a\"],[0.8888888888888888,\"#fdca26\"],[1.0,\"#f0f921\"]],\"diverging\":[[0,\"#8e0152\"],[0.1,\"#c51b7d\"],[0.2,\"#de77ae\"],[0.3,\"#f1b6da\"],[0.4,\"#fde0ef\"],[0.5,\"#f7f7f7\"],[0.6,\"#e6f5d0\"],[0.7,\"#b8e186\"],[0.8,\"#7fbc41\"],[0.9,\"#4d9221\"],[1,\"#276419\"]]},\"xaxis\":{\"gridcolor\":\"white\",\"linecolor\":\"white\",\"ticks\":\"\",\"title\":{\"standoff\":15},\"zerolinecolor\":\"white\",\"automargin\":true,\"zerolinewidth\":2},\"yaxis\":{\"gridcolor\":\"white\",\"linecolor\":\"white\",\"ticks\":\"\",\"title\":{\"standoff\":15},\"zerolinecolor\":\"white\",\"automargin\":true,\"zerolinewidth\":2},\"scene\":{\"xaxis\":{\"backgroundcolor\":\"#E5ECF6\",\"gridcolor\":\"white\",\"linecolor\":\"white\",\"showbackground\":true,\"ticks\":\"\",\"zerolinecolor\":\"white\",\"gridwidth\":2},\"yaxis\":{\"backgroundcolor\":\"#E5ECF6\",\"gridcolor\":\"white\",\"linecolor\":\"white\",\"showbackground\":true,\"ticks\":\"\",\"zerolinecolor\":\"white\",\"gridwidth\":2},\"zaxis\":{\"backgroundcolor\":\"#E5ECF6\",\"gridcolor\":\"white\",\"linecolor\":\"white\",\"showbackground\":true,\"ticks\":\"\",\"zerolinecolor\":\"white\",\"gridwidth\":2}},\"shapedefaults\":{\"line\":{\"color\":\"#2a3f5f\"}},\"annotationdefaults\":{\"arrowcolor\":\"#2a3f5f\",\"arrowhead\":0,\"arrowwidth\":1},\"geo\":{\"bgcolor\":\"white\",\"landcolor\":\"#E5ECF6\",\"subunitcolor\":\"white\",\"showland\":true,\"showlakes\":true,\"lakecolor\":\"white\"},\"title\":{\"x\":0.05},\"mapbox\":{\"style\":\"light\"}}}},                        {\"responsive\": true}                    ).then(function(){\n",
       "                            \n",
       "var gd = document.getElementById('081e9149-b47c-4731-9dde-d71807d3b5dc');\n",
       "var x = new MutationObserver(function (mutations, observer) {{\n",
       "        var display = window.getComputedStyle(gd).display;\n",
       "        if (!display || display === 'none') {{\n",
       "            console.log([gd, 'removed!']);\n",
       "            Plotly.purge(gd);\n",
       "            observer.disconnect();\n",
       "        }}\n",
       "}});\n",
       "\n",
       "// Listen for the removal of the full notebook cells\n",
       "var notebookContainer = gd.closest('#notebook-container');\n",
       "if (notebookContainer) {{\n",
       "    x.observe(notebookContainer, {childList: true});\n",
       "}}\n",
       "\n",
       "// Listen for the clearing of the current output cell\n",
       "var outputEl = gd.closest('.output');\n",
       "if (outputEl) {{\n",
       "    x.observe(outputEl, {childList: true});\n",
       "}}\n",
       "\n",
       "                        })                };                });            </script>        </div>"
      ]
     },
     "metadata": {},
     "output_type": "display_data"
    }
   ],
   "source": [
    "time_trainf = pd.to_datetime(time_train.flatten()).tolist()\n",
    "time_valf = pd.to_datetime(time_val.flatten()).tolist()\n",
    "time_testf = pd.to_datetime(time_test.flatten()).tolist()\n",
    "dataf = data.flatten().tolist()\n",
    "data_trainf = data_train.flatten().tolist()\n",
    "data_valf = data_val.flatten().tolist()\n",
    "data_testf = data_test.flatten().tolist()\n",
    "fig = go.Figure()\n",
    "fig.add_trace(go.Scatter(x=time_trainf, y=data_trainf, mode='lines', name='Train'))\n",
    "fig.add_trace(go.Scatter(x=time_valf, y=data_valf, mode='lines', name='Validation'))\n",
    "fig.add_trace(go.Scatter(x=time_testf, y=data_testf, mode='lines', name='Test'))\n",
    "fig.show()"
   ]
  },
  {
   "cell_type": "markdown",
   "id": "fa13d8b9",
   "metadata": {},
   "source": [
    "#### Ein-Schritt-Vorhersage"
   ]
  },
  {
   "cell_type": "code",
   "execution_count": 132,
   "id": "afae4032",
   "metadata": {},
   "outputs": [],
   "source": [
    "input_size = 72 #time_steps\n",
    "hidden_size = 50\n",
    "output_size = 1"
   ]
  },
  {
   "cell_type": "code",
   "execution_count": 133,
   "id": "432c68a1",
   "metadata": {},
   "outputs": [],
   "source": [
    "Xr_train, yr_train = create_recurs_multi_data(data_train, data_train, input_size)\n",
    "Xr_val, yr_val = create_recurs_multi_data(data_val, data_val, input_size)\n",
    "Xr_test, yr_test = create_recurs_multi_data(data_test, data_test, input_size)"
   ]
  },
  {
   "cell_type": "code",
   "execution_count": 134,
   "id": "f326b6ef",
   "metadata": {},
   "outputs": [
    {
     "name": "stdout",
     "output_type": "stream",
     "text": [
      "[[0.38339022]\n",
      " [0.37201365]\n",
      " [0.20932878]\n",
      " [0.03754266]\n",
      " [0.19908987]\n",
      " [0.15699659]\n",
      " [0.10466439]\n",
      " [0.14220705]\n",
      " [0.16382253]\n",
      " [0.3185438 ]\n",
      " [0.44482366]\n",
      " [0.49374289]\n",
      " [0.6814562 ]\n",
      " [0.4778157 ]\n",
      " [0.60182025]\n",
      " [0.43913538]\n",
      " [0.44482366]\n",
      " [0.45278726]\n",
      " [0.50170648]\n",
      " [0.57110353]\n",
      " [0.70079636]\n",
      " [0.86916951]\n",
      " [0.6894198 ]\n",
      " [0.53242321]\n",
      " [0.27645051]\n",
      " [0.29010239]\n",
      " [0.23321957]\n",
      " [0.02957907]\n",
      " [0.20136519]\n",
      " [0.16040956]\n",
      " [0.11149033]\n",
      " [0.29920364]\n",
      " [0.37201365]\n",
      " [0.64732651]\n",
      " [0.92718999]\n",
      " [0.94653015]\n",
      " [0.82025028]\n",
      " [0.75881684]\n",
      " [0.68259386]\n",
      " [0.70875995]\n",
      " [0.53356086]\n",
      " [0.50170648]\n",
      " [0.72013652]\n",
      " [0.82366325]\n",
      " [0.71558589]\n",
      " [0.778157  ]\n",
      " [0.75540387]\n",
      " [0.73492605]\n",
      " [0.45620023]\n",
      " [0.36405006]\n",
      " [0.24004551]\n",
      " [0.05005688]\n",
      " [0.2298066 ]\n",
      " [0.10352673]\n",
      " [0.18316268]\n",
      " [0.26848692]\n",
      " [0.27189989]\n",
      " [0.53697383]\n",
      " [0.64163823]\n",
      " [0.85437998]\n",
      " [0.84641638]\n",
      " [0.70079636]\n",
      " [0.55858931]\n",
      " [0.51990899]\n",
      " [0.56313993]\n",
      " [0.5745165 ]\n",
      " [0.65870307]\n",
      " [0.778157  ]\n",
      " [0.82366325]\n",
      " [0.77360637]\n",
      " [0.65073948]\n",
      " [0.57110353]]\n",
      "and\n",
      "[0.52104664]\n"
     ]
    }
   ],
   "source": [
    "print(Xr_train[0])\n",
    "print('and')\n",
    "print(yr_train[0])"
   ]
  },
  {
   "cell_type": "code",
   "execution_count": 135,
   "id": "6a45e5e8",
   "metadata": {},
   "outputs": [],
   "source": [
    "RNN_model = Sequential([\n",
    "    Input(shape=(input_size, 1)),  # Definiert die Form der Eingabedaten\n",
    "    SimpleRNN(hidden_size),        # SimpleRNN-Schicht mit der angegebenen Anzahl von Neuronen\n",
    "    Dense(output_size)             # Ausgangsschicht mit einem Ausgangswert\n",
    "])"
   ]
  },
  {
   "cell_type": "code",
   "execution_count": 136,
   "id": "df991ca9",
   "metadata": {},
   "outputs": [],
   "source": [
    "RNN_model.compile(loss='mean_squared_error', optimizer='adam')"
   ]
  },
  {
   "cell_type": "code",
   "execution_count": 137,
   "id": "fe7e110f",
   "metadata": {
    "scrolled": true
   },
   "outputs": [
    {
     "name": "stdout",
     "output_type": "stream",
     "text": [
      "Epoch 1/100\n",
      "\u001b[1m12/12\u001b[0m \u001b[32m━━━━━━━━━━━━━━━━━━━━\u001b[0m\u001b[37m\u001b[0m \u001b[1m1s\u001b[0m 17ms/step - loss: 0.1037 - val_loss: 0.0320\n",
      "Epoch 2/100\n",
      "\u001b[1m12/12\u001b[0m \u001b[32m━━━━━━━━━━━━━━━━━━━━\u001b[0m\u001b[37m\u001b[0m \u001b[1m0s\u001b[0m 6ms/step - loss: 0.0270 - val_loss: 0.0118\n",
      "Epoch 3/100\n",
      "\u001b[1m12/12\u001b[0m \u001b[32m━━━━━━━━━━━━━━━━━━━━\u001b[0m\u001b[37m\u001b[0m \u001b[1m0s\u001b[0m 6ms/step - loss: 0.0119 - val_loss: 0.0095\n",
      "Epoch 4/100\n",
      "\u001b[1m12/12\u001b[0m \u001b[32m━━━━━━━━━━━━━━━━━━━━\u001b[0m\u001b[37m\u001b[0m \u001b[1m0s\u001b[0m 5ms/step - loss: 0.0097 - val_loss: 0.0069\n",
      "Epoch 5/100\n",
      "\u001b[1m12/12\u001b[0m \u001b[32m━━━━━━━━━━━━━━━━━━━━\u001b[0m\u001b[37m\u001b[0m \u001b[1m0s\u001b[0m 5ms/step - loss: 0.0079 - val_loss: 0.0070\n",
      "Epoch 6/100\n",
      "\u001b[1m12/12\u001b[0m \u001b[32m━━━━━━━━━━━━━━━━━━━━\u001b[0m\u001b[37m\u001b[0m \u001b[1m0s\u001b[0m 6ms/step - loss: 0.0081 - val_loss: 0.0070\n",
      "Epoch 7/100\n",
      "\u001b[1m12/12\u001b[0m \u001b[32m━━━━━━━━━━━━━━━━━━━━\u001b[0m\u001b[37m\u001b[0m \u001b[1m0s\u001b[0m 5ms/step - loss: 0.0078 - val_loss: 0.0068\n",
      "Epoch 8/100\n",
      "\u001b[1m12/12\u001b[0m \u001b[32m━━━━━━━━━━━━━━━━━━━━\u001b[0m\u001b[37m\u001b[0m \u001b[1m0s\u001b[0m 6ms/step - loss: 0.0070 - val_loss: 0.0067\n",
      "Epoch 9/100\n",
      "\u001b[1m12/12\u001b[0m \u001b[32m━━━━━━━━━━━━━━━━━━━━\u001b[0m\u001b[37m\u001b[0m \u001b[1m0s\u001b[0m 6ms/step - loss: 0.0067 - val_loss: 0.0067\n",
      "Epoch 10/100\n",
      "\u001b[1m12/12\u001b[0m \u001b[32m━━━━━━━━━━━━━━━━━━━━\u001b[0m\u001b[37m\u001b[0m \u001b[1m0s\u001b[0m 6ms/step - loss: 0.0077 - val_loss: 0.0064\n",
      "Epoch 11/100\n",
      "\u001b[1m12/12\u001b[0m \u001b[32m━━━━━━━━━━━━━━━━━━━━\u001b[0m\u001b[37m\u001b[0m \u001b[1m0s\u001b[0m 6ms/step - loss: 0.0070 - val_loss: 0.0065\n",
      "Epoch 12/100\n",
      "\u001b[1m12/12\u001b[0m \u001b[32m━━━━━━━━━━━━━━━━━━━━\u001b[0m\u001b[37m\u001b[0m \u001b[1m0s\u001b[0m 6ms/step - loss: 0.0071 - val_loss: 0.0063\n",
      "Epoch 13/100\n",
      "\u001b[1m12/12\u001b[0m \u001b[32m━━━━━━━━━━━━━━━━━━━━\u001b[0m\u001b[37m\u001b[0m \u001b[1m0s\u001b[0m 5ms/step - loss: 0.0062 - val_loss: 0.0064\n",
      "Epoch 14/100\n",
      "\u001b[1m12/12\u001b[0m \u001b[32m━━━━━━━━━━━━━━━━━━━━\u001b[0m\u001b[37m\u001b[0m \u001b[1m0s\u001b[0m 4ms/step - loss: 0.0071 - val_loss: 0.0066\n",
      "Epoch 15/100\n",
      "\u001b[1m12/12\u001b[0m \u001b[32m━━━━━━━━━━━━━━━━━━━━\u001b[0m\u001b[37m\u001b[0m \u001b[1m0s\u001b[0m 4ms/step - loss: 0.0065 - val_loss: 0.0062\n",
      "Epoch 16/100\n",
      "\u001b[1m12/12\u001b[0m \u001b[32m━━━━━━━━━━━━━━━━━━━━\u001b[0m\u001b[37m\u001b[0m \u001b[1m0s\u001b[0m 6ms/step - loss: 0.0063 - val_loss: 0.0064\n",
      "Epoch 17/100\n",
      "\u001b[1m12/12\u001b[0m \u001b[32m━━━━━━━━━━━━━━━━━━━━\u001b[0m\u001b[37m\u001b[0m \u001b[1m0s\u001b[0m 4ms/step - loss: 0.0073 - val_loss: 0.0061\n",
      "Epoch 18/100\n",
      "\u001b[1m12/12\u001b[0m \u001b[32m━━━━━━━━━━━━━━━━━━━━\u001b[0m\u001b[37m\u001b[0m \u001b[1m0s\u001b[0m 4ms/step - loss: 0.0064 - val_loss: 0.0066\n",
      "Epoch 19/100\n",
      "\u001b[1m12/12\u001b[0m \u001b[32m━━━━━━━━━━━━━━━━━━━━\u001b[0m\u001b[37m\u001b[0m \u001b[1m0s\u001b[0m 5ms/step - loss: 0.0077 - val_loss: 0.0060\n",
      "Epoch 20/100\n",
      "\u001b[1m12/12\u001b[0m \u001b[32m━━━━━━━━━━━━━━━━━━━━\u001b[0m\u001b[37m\u001b[0m \u001b[1m0s\u001b[0m 5ms/step - loss: 0.0067 - val_loss: 0.0067\n",
      "Epoch 21/100\n",
      "\u001b[1m12/12\u001b[0m \u001b[32m━━━━━━━━━━━━━━━━━━━━\u001b[0m\u001b[37m\u001b[0m \u001b[1m0s\u001b[0m 4ms/step - loss: 0.0073 - val_loss: 0.0059\n",
      "Epoch 22/100\n",
      "\u001b[1m12/12\u001b[0m \u001b[32m━━━━━━━━━━━━━━━━━━━━\u001b[0m\u001b[37m\u001b[0m \u001b[1m0s\u001b[0m 4ms/step - loss: 0.0065 - val_loss: 0.0058\n",
      "Epoch 23/100\n",
      "\u001b[1m12/12\u001b[0m \u001b[32m━━━━━━━━━━━━━━━━━━━━\u001b[0m\u001b[37m\u001b[0m \u001b[1m0s\u001b[0m 6ms/step - loss: 0.0059 - val_loss: 0.0059\n",
      "Epoch 24/100\n",
      "\u001b[1m12/12\u001b[0m \u001b[32m━━━━━━━━━━━━━━━━━━━━\u001b[0m\u001b[37m\u001b[0m \u001b[1m0s\u001b[0m 6ms/step - loss: 0.0061 - val_loss: 0.0059\n",
      "Epoch 25/100\n",
      "\u001b[1m12/12\u001b[0m \u001b[32m━━━━━━━━━━━━━━━━━━━━\u001b[0m\u001b[37m\u001b[0m \u001b[1m0s\u001b[0m 5ms/step - loss: 0.0059 - val_loss: 0.0060\n",
      "Epoch 26/100\n",
      "\u001b[1m12/12\u001b[0m \u001b[32m━━━━━━━━━━━━━━━━━━━━\u001b[0m\u001b[37m\u001b[0m \u001b[1m0s\u001b[0m 5ms/step - loss: 0.0063 - val_loss: 0.0056\n",
      "Epoch 27/100\n",
      "\u001b[1m12/12\u001b[0m \u001b[32m━━━━━━━━━━━━━━━━━━━━\u001b[0m\u001b[37m\u001b[0m \u001b[1m0s\u001b[0m 5ms/step - loss: 0.0061 - val_loss: 0.0061\n",
      "Epoch 28/100\n",
      "\u001b[1m12/12\u001b[0m \u001b[32m━━━━━━━━━━━━━━━━━━━━\u001b[0m\u001b[37m\u001b[0m \u001b[1m0s\u001b[0m 4ms/step - loss: 0.0067 - val_loss: 0.0062\n",
      "Epoch 29/100\n",
      "\u001b[1m12/12\u001b[0m \u001b[32m━━━━━━━━━━━━━━━━━━━━\u001b[0m\u001b[37m\u001b[0m \u001b[1m0s\u001b[0m 5ms/step - loss: 0.0064 - val_loss: 0.0058\n",
      "Epoch 30/100\n",
      "\u001b[1m12/12\u001b[0m \u001b[32m━━━━━━━━━━━━━━━━━━━━\u001b[0m\u001b[37m\u001b[0m \u001b[1m0s\u001b[0m 8ms/step - loss: 0.0053 - val_loss: 0.0057\n",
      "Epoch 31/100\n",
      "\u001b[1m12/12\u001b[0m \u001b[32m━━━━━━━━━━━━━━━━━━━━\u001b[0m\u001b[37m\u001b[0m \u001b[1m0s\u001b[0m 6ms/step - loss: 0.0058 - val_loss: 0.0057\n",
      "Epoch 32/100\n",
      "\u001b[1m12/12\u001b[0m \u001b[32m━━━━━━━━━━━━━━━━━━━━\u001b[0m\u001b[37m\u001b[0m \u001b[1m0s\u001b[0m 5ms/step - loss: 0.0060 - val_loss: 0.0057\n",
      "Epoch 33/100\n",
      "\u001b[1m12/12\u001b[0m \u001b[32m━━━━━━━━━━━━━━━━━━━━\u001b[0m\u001b[37m\u001b[0m \u001b[1m0s\u001b[0m 4ms/step - loss: 0.0061 - val_loss: 0.0056\n",
      "Epoch 34/100\n",
      "\u001b[1m12/12\u001b[0m \u001b[32m━━━━━━━━━━━━━━━━━━━━\u001b[0m\u001b[37m\u001b[0m \u001b[1m0s\u001b[0m 6ms/step - loss: 0.0054 - val_loss: 0.0054\n",
      "Epoch 35/100\n",
      "\u001b[1m12/12\u001b[0m \u001b[32m━━━━━━━━━━━━━━━━━━━━\u001b[0m\u001b[37m\u001b[0m \u001b[1m0s\u001b[0m 6ms/step - loss: 0.0066 - val_loss: 0.0058\n",
      "Epoch 36/100\n",
      "\u001b[1m12/12\u001b[0m \u001b[32m━━━━━━━━━━━━━━━━━━━━\u001b[0m\u001b[37m\u001b[0m \u001b[1m0s\u001b[0m 6ms/step - loss: 0.0068 - val_loss: 0.0056\n",
      "Epoch 37/100\n",
      "\u001b[1m12/12\u001b[0m \u001b[32m━━━━━━━━━━━━━━━━━━━━\u001b[0m\u001b[37m\u001b[0m \u001b[1m0s\u001b[0m 5ms/step - loss: 0.0061 - val_loss: 0.0052\n",
      "Epoch 38/100\n",
      "\u001b[1m12/12\u001b[0m \u001b[32m━━━━━━━━━━━━━━━━━━━━\u001b[0m\u001b[37m\u001b[0m \u001b[1m0s\u001b[0m 5ms/step - loss: 0.0052 - val_loss: 0.0052\n",
      "Epoch 39/100\n",
      "\u001b[1m12/12\u001b[0m \u001b[32m━━━━━━━━━━━━━━━━━━━━\u001b[0m\u001b[37m\u001b[0m \u001b[1m0s\u001b[0m 6ms/step - loss: 0.0046 - val_loss: 0.0049\n",
      "Epoch 40/100\n",
      "\u001b[1m12/12\u001b[0m \u001b[32m━━━━━━━━━━━━━━━━━━━━\u001b[0m\u001b[37m\u001b[0m \u001b[1m0s\u001b[0m 4ms/step - loss: 0.0052 - val_loss: 0.0049\n",
      "Epoch 41/100\n",
      "\u001b[1m12/12\u001b[0m \u001b[32m━━━━━━━━━━━━━━━━━━━━\u001b[0m\u001b[37m\u001b[0m \u001b[1m0s\u001b[0m 6ms/step - loss: 0.0051 - val_loss: 0.0046\n",
      "Epoch 42/100\n",
      "\u001b[1m12/12\u001b[0m \u001b[32m━━━━━━━━━━━━━━━━━━━━\u001b[0m\u001b[37m\u001b[0m \u001b[1m0s\u001b[0m 6ms/step - loss: 0.0053 - val_loss: 0.0048\n",
      "Epoch 43/100\n",
      "\u001b[1m12/12\u001b[0m \u001b[32m━━━━━━━━━━━━━━━━━━━━\u001b[0m\u001b[37m\u001b[0m \u001b[1m0s\u001b[0m 5ms/step - loss: 0.0053 - val_loss: 0.0048\n",
      "Epoch 44/100\n",
      "\u001b[1m12/12\u001b[0m \u001b[32m━━━━━━━━━━━━━━━━━━━━\u001b[0m\u001b[37m\u001b[0m \u001b[1m0s\u001b[0m 6ms/step - loss: 0.0050 - val_loss: 0.0047\n",
      "Epoch 45/100\n",
      "\u001b[1m12/12\u001b[0m \u001b[32m━━━━━━━━━━━━━━━━━━━━\u001b[0m\u001b[37m\u001b[0m \u001b[1m0s\u001b[0m 4ms/step - loss: 0.0049 - val_loss: 0.0045\n",
      "Epoch 46/100\n",
      "\u001b[1m12/12\u001b[0m \u001b[32m━━━━━━━━━━━━━━━━━━━━\u001b[0m\u001b[37m\u001b[0m \u001b[1m0s\u001b[0m 6ms/step - loss: 0.0049 - val_loss: 0.0049\n",
      "Epoch 47/100\n",
      "\u001b[1m12/12\u001b[0m \u001b[32m━━━━━━━━━━━━━━━━━━━━\u001b[0m\u001b[37m\u001b[0m \u001b[1m0s\u001b[0m 4ms/step - loss: 0.0056 - val_loss: 0.0051\n",
      "Epoch 48/100\n",
      "\u001b[1m12/12\u001b[0m \u001b[32m━━━━━━━━━━━━━━━━━━━━\u001b[0m\u001b[37m\u001b[0m \u001b[1m0s\u001b[0m 5ms/step - loss: 0.0054 - val_loss: 0.0050\n",
      "Epoch 49/100\n",
      "\u001b[1m12/12\u001b[0m \u001b[32m━━━━━━━━━━━━━━━━━━━━\u001b[0m\u001b[37m\u001b[0m \u001b[1m0s\u001b[0m 5ms/step - loss: 0.0051 - val_loss: 0.0048\n",
      "Epoch 50/100\n",
      "\u001b[1m12/12\u001b[0m \u001b[32m━━━━━━━━━━━━━━━━━━━━\u001b[0m\u001b[37m\u001b[0m \u001b[1m0s\u001b[0m 5ms/step - loss: 0.0056 - val_loss: 0.0056\n",
      "Epoch 51/100\n",
      "\u001b[1m12/12\u001b[0m \u001b[32m━━━━━━━━━━━━━━━━━━━━\u001b[0m\u001b[37m\u001b[0m \u001b[1m0s\u001b[0m 6ms/step - loss: 0.0054 - val_loss: 0.0061\n",
      "Epoch 52/100\n",
      "\u001b[1m12/12\u001b[0m \u001b[32m━━━━━━━━━━━━━━━━━━━━\u001b[0m\u001b[37m\u001b[0m \u001b[1m0s\u001b[0m 4ms/step - loss: 0.0048 - val_loss: 0.0049\n",
      "Epoch 53/100\n",
      "\u001b[1m12/12\u001b[0m \u001b[32m━━━━━━━━━━━━━━━━━━━━\u001b[0m\u001b[37m\u001b[0m \u001b[1m0s\u001b[0m 6ms/step - loss: 0.0047 - val_loss: 0.0044\n",
      "Epoch 54/100\n",
      "\u001b[1m12/12\u001b[0m \u001b[32m━━━━━━━━━━━━━━━━━━━━\u001b[0m\u001b[37m\u001b[0m \u001b[1m0s\u001b[0m 6ms/step - loss: 0.0052 - val_loss: 0.0051\n",
      "Epoch 55/100\n",
      "\u001b[1m12/12\u001b[0m \u001b[32m━━━━━━━━━━━━━━━━━━━━\u001b[0m\u001b[37m\u001b[0m \u001b[1m0s\u001b[0m 4ms/step - loss: 0.0053 - val_loss: 0.0045\n",
      "Epoch 56/100\n",
      "\u001b[1m12/12\u001b[0m \u001b[32m━━━━━━━━━━━━━━━━━━━━\u001b[0m\u001b[37m\u001b[0m \u001b[1m0s\u001b[0m 6ms/step - loss: 0.0044 - val_loss: 0.0044\n",
      "Epoch 57/100\n",
      "\u001b[1m12/12\u001b[0m \u001b[32m━━━━━━━━━━━━━━━━━━━━\u001b[0m\u001b[37m\u001b[0m \u001b[1m0s\u001b[0m 7ms/step - loss: 0.0038 - val_loss: 0.0047\n",
      "Epoch 58/100\n",
      "\u001b[1m12/12\u001b[0m \u001b[32m━━━━━━━━━━━━━━━━━━━━\u001b[0m\u001b[37m\u001b[0m \u001b[1m0s\u001b[0m 4ms/step - loss: 0.0049 - val_loss: 0.0044\n",
      "Epoch 59/100\n",
      "\u001b[1m12/12\u001b[0m \u001b[32m━━━━━━━━━━━━━━━━━━━━\u001b[0m\u001b[37m\u001b[0m \u001b[1m0s\u001b[0m 4ms/step - loss: 0.0040 - val_loss: 0.0048\n",
      "Epoch 60/100\n",
      "\u001b[1m12/12\u001b[0m \u001b[32m━━━━━━━━━━━━━━━━━━━━\u001b[0m\u001b[37m\u001b[0m \u001b[1m0s\u001b[0m 6ms/step - loss: 0.0047 - val_loss: 0.0042\n",
      "Epoch 61/100\n",
      "\u001b[1m12/12\u001b[0m \u001b[32m━━━━━━━━━━━━━━━━━━━━\u001b[0m\u001b[37m\u001b[0m \u001b[1m0s\u001b[0m 4ms/step - loss: 0.0043 - val_loss: 0.0047\n",
      "Epoch 62/100\n",
      "\u001b[1m12/12\u001b[0m \u001b[32m━━━━━━━━━━━━━━━━━━━━\u001b[0m\u001b[37m\u001b[0m \u001b[1m0s\u001b[0m 7ms/step - loss: 0.0049 - val_loss: 0.0044\n",
      "Epoch 63/100\n",
      "\u001b[1m12/12\u001b[0m \u001b[32m━━━━━━━━━━━━━━━━━━━━\u001b[0m\u001b[37m\u001b[0m \u001b[1m0s\u001b[0m 6ms/step - loss: 0.0044 - val_loss: 0.0048\n",
      "Epoch 64/100\n",
      "\u001b[1m12/12\u001b[0m \u001b[32m━━━━━━━━━━━━━━━━━━━━\u001b[0m\u001b[37m\u001b[0m \u001b[1m0s\u001b[0m 6ms/step - loss: 0.0046 - val_loss: 0.0047\n",
      "Epoch 65/100\n",
      "\u001b[1m12/12\u001b[0m \u001b[32m━━━━━━━━━━━━━━━━━━━━\u001b[0m\u001b[37m\u001b[0m \u001b[1m0s\u001b[0m 9ms/step - loss: 0.0043 - val_loss: 0.0044\n",
      "Epoch 66/100\n",
      "\u001b[1m12/12\u001b[0m \u001b[32m━━━━━━━━━━━━━━━━━━━━\u001b[0m\u001b[37m\u001b[0m \u001b[1m0s\u001b[0m 6ms/step - loss: 0.0044 - val_loss: 0.0044\n",
      "Epoch 67/100\n",
      "\u001b[1m12/12\u001b[0m \u001b[32m━━━━━━━━━━━━━━━━━━━━\u001b[0m\u001b[37m\u001b[0m \u001b[1m0s\u001b[0m 5ms/step - loss: 0.0041 - val_loss: 0.0061\n",
      "Epoch 68/100\n",
      "\u001b[1m12/12\u001b[0m \u001b[32m━━━━━━━━━━━━━━━━━━━━\u001b[0m\u001b[37m\u001b[0m \u001b[1m0s\u001b[0m 4ms/step - loss: 0.0040 - val_loss: 0.0054\n",
      "Epoch 69/100\n",
      "\u001b[1m12/12\u001b[0m \u001b[32m━━━━━━━━━━━━━━━━━━━━\u001b[0m\u001b[37m\u001b[0m \u001b[1m0s\u001b[0m 6ms/step - loss: 0.0044 - val_loss: 0.0052\n",
      "Epoch 70/100\n",
      "\u001b[1m12/12\u001b[0m \u001b[32m━━━━━━━━━━━━━━━━━━━━\u001b[0m\u001b[37m\u001b[0m \u001b[1m0s\u001b[0m 4ms/step - loss: 0.0045 - val_loss: 0.0052\n",
      "Epoch 71/100\n",
      "\u001b[1m12/12\u001b[0m \u001b[32m━━━━━━━━━━━━━━━━━━━━\u001b[0m\u001b[37m\u001b[0m \u001b[1m0s\u001b[0m 7ms/step - loss: 0.0040 - val_loss: 0.0054\n",
      "Epoch 72/100\n",
      "\u001b[1m12/12\u001b[0m \u001b[32m━━━━━━━━━━━━━━━━━━━━\u001b[0m\u001b[37m\u001b[0m \u001b[1m0s\u001b[0m 6ms/step - loss: 0.0048 - val_loss: 0.0044\n",
      "Epoch 73/100\n",
      "\u001b[1m12/12\u001b[0m \u001b[32m━━━━━━━━━━━━━━━━━━━━\u001b[0m\u001b[37m\u001b[0m \u001b[1m0s\u001b[0m 5ms/step - loss: 0.0041 - val_loss: 0.0048\n",
      "Epoch 74/100\n",
      "\u001b[1m12/12\u001b[0m \u001b[32m━━━━━━━━━━━━━━━━━━━━\u001b[0m\u001b[37m\u001b[0m \u001b[1m0s\u001b[0m 6ms/step - loss: 0.0041 - val_loss: 0.0046\n",
      "Epoch 75/100\n",
      "\u001b[1m12/12\u001b[0m \u001b[32m━━━━━━━━━━━━━━━━━━━━\u001b[0m\u001b[37m\u001b[0m \u001b[1m0s\u001b[0m 4ms/step - loss: 0.0040 - val_loss: 0.0046\n",
      "Epoch 76/100\n",
      "\u001b[1m12/12\u001b[0m \u001b[32m━━━━━━━━━━━━━━━━━━━━\u001b[0m\u001b[37m\u001b[0m \u001b[1m0s\u001b[0m 4ms/step - loss: 0.0038 - val_loss: 0.0048\n",
      "Epoch 77/100\n",
      "\u001b[1m12/12\u001b[0m \u001b[32m━━━━━━━━━━━━━━━━━━━━\u001b[0m\u001b[37m\u001b[0m \u001b[1m0s\u001b[0m 5ms/step - loss: 0.0041 - val_loss: 0.0045\n",
      "Epoch 78/100\n",
      "\u001b[1m12/12\u001b[0m \u001b[32m━━━━━━━━━━━━━━━━━━━━\u001b[0m\u001b[37m\u001b[0m \u001b[1m0s\u001b[0m 4ms/step - loss: 0.0035 - val_loss: 0.0044\n",
      "Epoch 79/100\n",
      "\u001b[1m12/12\u001b[0m \u001b[32m━━━━━━━━━━━━━━━━━━━━\u001b[0m\u001b[37m\u001b[0m \u001b[1m0s\u001b[0m 4ms/step - loss: 0.0038 - val_loss: 0.0056\n",
      "Epoch 80/100\n",
      "\u001b[1m12/12\u001b[0m \u001b[32m━━━━━━━━━━━━━━━━━━━━\u001b[0m\u001b[37m\u001b[0m \u001b[1m0s\u001b[0m 6ms/step - loss: 0.0041 - val_loss: 0.0045\n",
      "Epoch 81/100\n",
      "\u001b[1m12/12\u001b[0m \u001b[32m━━━━━━━━━━━━━━━━━━━━\u001b[0m\u001b[37m\u001b[0m \u001b[1m0s\u001b[0m 5ms/step - loss: 0.0035 - val_loss: 0.0042\n",
      "Epoch 82/100\n",
      "\u001b[1m12/12\u001b[0m \u001b[32m━━━━━━━━━━━━━━━━━━━━\u001b[0m\u001b[37m\u001b[0m \u001b[1m0s\u001b[0m 5ms/step - loss: 0.0034 - val_loss: 0.0047\n",
      "Epoch 83/100\n",
      "\u001b[1m12/12\u001b[0m \u001b[32m━━━━━━━━━━━━━━━━━━━━\u001b[0m\u001b[37m\u001b[0m \u001b[1m0s\u001b[0m 6ms/step - loss: 0.0031 - val_loss: 0.0050\n",
      "Epoch 84/100\n",
      "\u001b[1m12/12\u001b[0m \u001b[32m━━━━━━━━━━━━━━━━━━━━\u001b[0m\u001b[37m\u001b[0m \u001b[1m0s\u001b[0m 5ms/step - loss: 0.0037 - val_loss: 0.0041\n",
      "Epoch 85/100\n",
      "\u001b[1m12/12\u001b[0m \u001b[32m━━━━━━━━━━━━━━━━━━━━\u001b[0m\u001b[37m\u001b[0m \u001b[1m0s\u001b[0m 4ms/step - loss: 0.0037 - val_loss: 0.0044\n",
      "Epoch 86/100\n",
      "\u001b[1m12/12\u001b[0m \u001b[32m━━━━━━━━━━━━━━━━━━━━\u001b[0m\u001b[37m\u001b[0m \u001b[1m0s\u001b[0m 6ms/step - loss: 0.0034 - val_loss: 0.0050\n",
      "Epoch 87/100\n",
      "\u001b[1m12/12\u001b[0m \u001b[32m━━━━━━━━━━━━━━━━━━━━\u001b[0m\u001b[37m\u001b[0m \u001b[1m0s\u001b[0m 4ms/step - loss: 0.0044 - val_loss: 0.0063\n",
      "Epoch 88/100\n",
      "\u001b[1m12/12\u001b[0m \u001b[32m━━━━━━━━━━━━━━━━━━━━\u001b[0m\u001b[37m\u001b[0m \u001b[1m0s\u001b[0m 5ms/step - loss: 0.0046 - val_loss: 0.0043\n",
      "Epoch 89/100\n",
      "\u001b[1m12/12\u001b[0m \u001b[32m━━━━━━━━━━━━━━━━━━━━\u001b[0m\u001b[37m\u001b[0m \u001b[1m0s\u001b[0m 6ms/step - loss: 0.0043 - val_loss: 0.0050\n",
      "Epoch 90/100\n",
      "\u001b[1m12/12\u001b[0m \u001b[32m━━━━━━━━━━━━━━━━━━━━\u001b[0m\u001b[37m\u001b[0m \u001b[1m0s\u001b[0m 7ms/step - loss: 0.0039 - val_loss: 0.0047\n",
      "Epoch 91/100\n",
      "\u001b[1m12/12\u001b[0m \u001b[32m━━━━━━━━━━━━━━━━━━━━\u001b[0m\u001b[37m\u001b[0m \u001b[1m0s\u001b[0m 5ms/step - loss: 0.0038 - val_loss: 0.0048\n",
      "Epoch 92/100\n",
      "\u001b[1m12/12\u001b[0m \u001b[32m━━━━━━━━━━━━━━━━━━━━\u001b[0m\u001b[37m\u001b[0m \u001b[1m0s\u001b[0m 5ms/step - loss: 0.0036 - val_loss: 0.0053\n",
      "Epoch 93/100\n",
      "\u001b[1m12/12\u001b[0m \u001b[32m━━━━━━━━━━━━━━━━━━━━\u001b[0m\u001b[37m\u001b[0m \u001b[1m0s\u001b[0m 5ms/step - loss: 0.0036 - val_loss: 0.0047\n",
      "Epoch 94/100\n",
      "\u001b[1m12/12\u001b[0m \u001b[32m━━━━━━━━━━━━━━━━━━━━\u001b[0m\u001b[37m\u001b[0m \u001b[1m0s\u001b[0m 7ms/step - loss: 0.0032 - val_loss: 0.0047\n",
      "Epoch 95/100\n",
      "\u001b[1m12/12\u001b[0m \u001b[32m━━━━━━━━━━━━━━━━━━━━\u001b[0m\u001b[37m\u001b[0m \u001b[1m0s\u001b[0m 6ms/step - loss: 0.0034 - val_loss: 0.0051\n",
      "Epoch 96/100\n",
      "\u001b[1m12/12\u001b[0m \u001b[32m━━━━━━━━━━━━━━━━━━━━\u001b[0m\u001b[37m\u001b[0m \u001b[1m0s\u001b[0m 6ms/step - loss: 0.0036 - val_loss: 0.0052\n",
      "Epoch 97/100\n",
      "\u001b[1m12/12\u001b[0m \u001b[32m━━━━━━━━━━━━━━━━━━━━\u001b[0m\u001b[37m\u001b[0m \u001b[1m0s\u001b[0m 6ms/step - loss: 0.0039 - val_loss: 0.0047\n",
      "Epoch 98/100\n",
      "\u001b[1m12/12\u001b[0m \u001b[32m━━━━━━━━━━━━━━━━━━━━\u001b[0m\u001b[37m\u001b[0m \u001b[1m0s\u001b[0m 6ms/step - loss: 0.0038 - val_loss: 0.0050\n",
      "Epoch 99/100\n",
      "\u001b[1m12/12\u001b[0m \u001b[32m━━━━━━━━━━━━━━━━━━━━\u001b[0m\u001b[37m\u001b[0m \u001b[1m0s\u001b[0m 5ms/step - loss: 0.0034 - val_loss: 0.0045\n",
      "Epoch 100/100\n",
      "\u001b[1m12/12\u001b[0m \u001b[32m━━━━━━━━━━━━━━━━━━━━\u001b[0m\u001b[37m\u001b[0m \u001b[1m0s\u001b[0m 6ms/step - loss: 0.0033 - val_loss: 0.0046\n"
     ]
    },
    {
     "data": {
      "text/plain": [
       "<keras.src.callbacks.history.History at 0x274c1d53770>"
      ]
     },
     "execution_count": 137,
     "metadata": {},
     "output_type": "execute_result"
    }
   ],
   "source": [
    "RNN_model.fit(Xr_train, yr_train, epochs=100, validation_data=(Xr_val, yr_val))"
   ]
  },
  {
   "cell_type": "code",
   "execution_count": 138,
   "id": "61f46a05",
   "metadata": {},
   "outputs": [],
   "source": [
    "i=0"
   ]
  },
  {
   "cell_type": "code",
   "execution_count": 139,
   "id": "ca9922f8",
   "metadata": {
    "scrolled": true
   },
   "outputs": [
    {
     "name": "stdout",
     "output_type": "stream",
     "text": [
      "\u001b[1m3/3\u001b[0m \u001b[32m━━━━━━━━━━━━━━━━━━━━\u001b[0m\u001b[37m\u001b[0m \u001b[1m0s\u001b[0m 42ms/step\n",
      "Input: [[0.5745165 ]\n",
      " [0.69738339]\n",
      " [0.72354949]\n",
      " [0.72468714]\n",
      " [0.82025028]\n",
      " [0.68600683]\n",
      " [0.61547213]\n",
      " [0.49032992]\n",
      " [0.33788396]\n",
      " [0.27531286]\n",
      " [0.28327645]\n",
      " [0.23663254]\n",
      " [0.12855518]\n",
      " [0.18885097]\n",
      " [0.37201365]\n",
      " [0.62343572]\n",
      " [0.78953356]\n",
      " [0.75540387]\n",
      " [0.78612059]\n",
      " [0.6814562 ]\n",
      " [0.73947668]\n",
      " [0.6814562 ]\n",
      " [0.59840728]\n",
      " [0.62798635]\n",
      " [0.4778157 ]\n",
      " [0.59044369]\n",
      " [0.73833902]\n",
      " [0.67690557]\n",
      " [0.61319681]\n",
      " [0.60068259]\n",
      " [0.51194539]\n",
      " [0.38680319]\n",
      " [0.26848692]\n",
      " [0.18771331]\n",
      " [0.22866894]\n",
      " [0.21046644]\n",
      " [0.13424346]\n",
      " [0.17633675]\n",
      " [0.3105802 ]\n",
      " [0.370876  ]\n",
      " [0.46302617]\n",
      " [0.57906712]\n",
      " [0.52559727]\n",
      " [0.41751991]\n",
      " [0.35608646]\n",
      " [0.35381115]\n",
      " [0.34129693]\n",
      " [0.40273038]\n",
      " [0.39362912]\n",
      " [0.42775882]\n",
      " [0.50967008]\n",
      " [0.56996587]\n",
      " [0.67463026]\n",
      " [0.53356086]\n",
      " [0.37542662]\n",
      " [0.27872582]\n",
      " [0.18771331]\n",
      " [0.01478953]\n",
      " [0.19112628]\n",
      " [0.15358362]\n",
      " [0.13651877]\n",
      " [0.23435722]\n",
      " [0.32992036]\n",
      " [0.44937429]\n",
      " [0.67007964]\n",
      " [0.70079636]\n",
      " [0.68600683]\n",
      " [0.59385666]\n",
      " [0.40273038]\n",
      " [0.42889647]\n",
      " [0.53924915]\n",
      " [0.5483504 ]], Target: [0.52901024], Prediction: [0.5804873]\n"
     ]
    }
   ],
   "source": [
    "RNN_predictions = RNN_model.predict(Xr_test)\n",
    "print(f\"Input: {Xr_test[i]}, Target: {yr_test[i]}, Prediction: {RNN_predictions[i]}\")"
   ]
  },
  {
   "cell_type": "code",
   "execution_count": 140,
   "id": "d9ab0f2b",
   "metadata": {},
   "outputs": [
    {
     "data": {
      "application/vnd.plotly.v1+json": {
       "config": {
        "plotlyServerURL": "https://plot.ly"
       },
       "data": [
        {
         "mode": "lines",
         "name": "Input sequence",
         "type": "scatter",
         "x": [
          "2012-05-25T18:00:00",
          "2012-05-25T19:00:00",
          "2012-05-25T20:00:00",
          "2012-05-25T21:00:00",
          "2012-05-25T22:00:00",
          "2012-05-25T23:00:00",
          "2012-05-26T00:00:00",
          "2012-05-26T01:00:00",
          "2012-05-26T02:00:00",
          "2012-05-26T03:00:00",
          "2012-05-26T04:00:00",
          "2012-05-26T05:00:00",
          "2012-05-26T06:00:00",
          "2012-05-26T07:00:00",
          "2012-05-26T08:00:00",
          "2012-05-26T09:00:00",
          "2012-05-26T10:00:00",
          "2012-05-26T11:00:00",
          "2012-05-26T12:00:00",
          "2012-05-26T13:00:00",
          "2012-05-26T14:00:00",
          "2012-05-26T15:00:00",
          "2012-05-26T16:00:00",
          "2012-05-26T17:00:00",
          "2012-05-26T18:00:00",
          "2012-05-26T19:00:00",
          "2012-05-26T20:00:00",
          "2012-05-26T21:00:00",
          "2012-05-26T22:00:00",
          "2012-05-26T23:00:00",
          "2012-05-27T00:00:00",
          "2012-05-27T01:00:00",
          "2012-05-27T02:00:00",
          "2012-05-27T03:00:00",
          "2012-05-27T04:00:00",
          "2012-05-27T05:00:00",
          "2012-05-27T06:00:00",
          "2012-05-27T07:00:00",
          "2012-05-27T08:00:00",
          "2012-05-27T09:00:00",
          "2012-05-27T10:00:00",
          "2012-05-27T11:00:00",
          "2012-05-27T12:00:00",
          "2012-05-27T13:00:00",
          "2012-05-27T14:00:00",
          "2012-05-27T15:00:00",
          "2012-05-27T16:00:00",
          "2012-05-27T17:00:00",
          "2012-05-27T18:00:00",
          "2012-05-27T19:00:00",
          "2012-05-27T20:00:00",
          "2012-05-27T21:00:00",
          "2012-05-27T22:00:00",
          "2012-05-27T23:00:00",
          "2012-05-28T00:00:00",
          "2012-05-28T01:00:00",
          "2012-05-28T02:00:00",
          "2012-05-28T03:00:00",
          "2012-05-28T04:00:00",
          "2012-05-28T05:00:00",
          "2012-05-28T06:00:00",
          "2012-05-28T07:00:00",
          "2012-05-28T08:00:00",
          "2012-05-28T09:00:00",
          "2012-05-28T10:00:00",
          "2012-05-28T11:00:00",
          "2012-05-28T12:00:00",
          "2012-05-28T13:00:00",
          "2012-05-28T14:00:00",
          "2012-05-28T15:00:00",
          "2012-05-28T16:00:00",
          "2012-05-28T17:00:00"
         ],
         "y": [
          0.5745164960182024,
          0.6973833902161547,
          0.7235494880546075,
          0.7246871444823663,
          0.820250284414107,
          0.6860068259385667,
          0.61547212741752,
          0.49032992036405,
          0.33788395904436863,
          0.27531285551763374,
          0.2832764505119454,
          0.2366325369738339,
          0.1285551763367463,
          0.18885096700796367,
          0.3720136518771331,
          0.6234357224118315,
          0.7895335608646189,
          0.7554038680318543,
          0.7861205915813424,
          0.6814562002275312,
          0.739476678043231,
          0.6814562002275312,
          0.5984072810011377,
          0.6279863481228668,
          0.4778156996587032,
          0.590443686006826,
          0.738339021615472,
          0.6769055745164959,
          0.6131968145620023,
          0.6006825938566552,
          0.5119453924914675,
          0.38680318543799774,
          0.26848691695108085,
          0.1877133105802048,
          0.22866894197952226,
          0.2104664391353811,
          0.13424345847554042,
          0.17633674630261664,
          0.31058020477815707,
          0.37087599544937433,
          0.4630261660978384,
          0.5790671217292377,
          0.5255972696245733,
          0.4175199089874858,
          0.3560864618885097,
          0.35381114903299204,
          0.341296928327645,
          0.40273037542662116,
          0.39362912400455063,
          0.4277588168373151,
          0.50967007963595,
          0.5699658703071672,
          0.6746302616609784,
          0.5335608646188851,
          0.3754266211604096,
          0.2787258248009101,
          0.1877133105802048,
          0.014789533560864654,
          0.1911262798634813,
          0.15358361774744034,
          0.13651877133105805,
          0.23435722411831628,
          0.32992036405005687,
          0.44937428896473264,
          0.6700796359499431,
          0.7007963594994312,
          0.6860068259385667,
          0.5938566552901025,
          0.40273037542662116,
          0.42889647326507396,
          0.5392491467576791,
          0.5483503981797496
         ]
        },
        {
         "mode": "lines",
         "name": "True Future",
         "type": "scatter",
         "x": [
          "2012-05-28T18:00:00",
          "2012-05-28T19:00:00",
          "2012-05-28T20:00:00",
          "2012-05-28T21:00:00",
          "2012-05-28T22:00:00",
          "2012-05-28T23:00:00",
          "2012-05-29T00:00:00",
          "2012-05-29T01:00:00",
          "2012-05-29T02:00:00",
          "2012-05-29T03:00:00",
          "2012-05-29T04:00:00",
          "2012-05-29T05:00:00",
          "2012-05-29T06:00:00",
          "2012-05-29T07:00:00",
          "2012-05-29T08:00:00",
          "2012-05-29T09:00:00",
          "2012-05-29T10:00:00",
          "2012-05-29T11:00:00",
          "2012-05-29T12:00:00",
          "2012-05-29T13:00:00",
          "2012-05-29T14:00:00",
          "2012-05-29T15:00:00",
          "2012-05-29T16:00:00"
         ],
         "y": [
          0.5290102389078498,
          0.7155858930602957,
          0.7804323094425484,
          0.6621160409556314,
          0.7542662116040956,
          0.6393629124004551,
          0.4084186575654153,
          0.34015927189988626,
          0.2730375426621161,
          0.09670079635949946,
          0.2571103526734926,
          0.24573378839590443,
          0.1911262798634813,
          0.279863481228669,
          0.5472127417519909,
          0.6473265073947668,
          0.7349260523321958,
          0.6905574516496019,
          0.8395904436860068,
          0.7155858930602957,
          0.6131968145620023,
          0.6166097838452788,
          0.521046643913538
         ]
        },
        {
         "mode": "lines",
         "name": "Predicted Future",
         "type": "scatter",
         "x": [
          "2012-05-28T18:00:00",
          "2012-05-28T19:00:00",
          "2012-05-28T20:00:00",
          "2012-05-28T21:00:00",
          "2012-05-28T22:00:00",
          "2012-05-28T23:00:00",
          "2012-05-29T00:00:00",
          "2012-05-29T01:00:00",
          "2012-05-29T02:00:00",
          "2012-05-29T03:00:00",
          "2012-05-29T04:00:00",
          "2012-05-29T05:00:00",
          "2012-05-29T06:00:00",
          "2012-05-29T07:00:00",
          "2012-05-29T08:00:00",
          "2012-05-29T09:00:00",
          "2012-05-29T10:00:00",
          "2012-05-29T11:00:00",
          "2012-05-29T12:00:00",
          "2012-05-29T13:00:00",
          "2012-05-29T14:00:00",
          "2012-05-29T15:00:00",
          "2012-05-29T16:00:00"
         ],
         "y": [
          0.5804873108863831,
          0.7113693952560425,
          0.7532439231872559,
          0.7132807374000549,
          0.7554824948310852,
          0.6820420622825623,
          0.4996688961982727,
          0.32524096965789795,
          0.20957058668136597,
          0.1733366698026657,
          0.20571371912956238,
          0.27587318420410156,
          0.22603651881217957,
          0.27558958530426025,
          0.4146875739097595,
          0.6879737377166748,
          0.8043760657310486,
          0.8194863200187683,
          0.7849708199501038,
          0.8600757122039795,
          0.7136126756668091,
          0.6141682863235474,
          0.6558941006660461,
          0.6253382563591003,
          0.6239285469055176,
          0.8244108557701111,
          0.8073471188545227,
          0.6184045076370239,
          0.7504726052284241,
          0.7210641503334045,
          0.5031882524490356,
          0.36149072647094727,
          0.2866727113723755,
          0.06610660254955292,
          0.25661373138427734,
          0.2529263198375702,
          0.20408065617084503,
          0.3559585213661194,
          0.4226406216621399,
          0.626409113407135,
          0.7827242612838745,
          0.7260135412216187,
          0.7739692330360413,
          0.739582359790802,
          0.5253996849060059,
          0.5641348958015442,
          0.6371669769287109,
          0.5895523428916931,
          0.6514379978179932,
          0.7959114909172058,
          0.7388512492179871,
          0.7576453685760498,
          0.821872353553772,
          0.6906281113624573,
          0.5048742294311523,
          0.37118178606033325,
          0.2609078884124756,
          0.07908961176872253,
          0.3105931878089905,
          0.28862541913986206,
          0.239634707570076,
          0.3447997570037842,
          0.477863073348999,
          0.7164439558982849,
          0.8394353985786438,
          0.8249462842941284,
          0.8178101778030396,
          0.8406862616539001,
          0.7923946976661682,
          0.7692150473594666,
          0.791321337223053,
          0.7763374447822571,
          0.7165958285331726,
          0.8187844157218933,
          0.8613396286964417,
          0.8164475560188293,
          0.6814361214637756,
          0.6967964768409729
         ]
        }
       ],
       "layout": {
        "autosize": true,
        "template": {
         "data": {
          "bar": [
           {
            "error_x": {
             "color": "#2a3f5f"
            },
            "error_y": {
             "color": "#2a3f5f"
            },
            "marker": {
             "line": {
              "color": "#E5ECF6",
              "width": 0.5
             },
             "pattern": {
              "fillmode": "overlay",
              "size": 10,
              "solidity": 0.2
             }
            },
            "type": "bar"
           }
          ],
          "barpolar": [
           {
            "marker": {
             "line": {
              "color": "#E5ECF6",
              "width": 0.5
             },
             "pattern": {
              "fillmode": "overlay",
              "size": 10,
              "solidity": 0.2
             }
            },
            "type": "barpolar"
           }
          ],
          "carpet": [
           {
            "aaxis": {
             "endlinecolor": "#2a3f5f",
             "gridcolor": "white",
             "linecolor": "white",
             "minorgridcolor": "white",
             "startlinecolor": "#2a3f5f"
            },
            "baxis": {
             "endlinecolor": "#2a3f5f",
             "gridcolor": "white",
             "linecolor": "white",
             "minorgridcolor": "white",
             "startlinecolor": "#2a3f5f"
            },
            "type": "carpet"
           }
          ],
          "choropleth": [
           {
            "colorbar": {
             "outlinewidth": 0,
             "ticks": ""
            },
            "type": "choropleth"
           }
          ],
          "contour": [
           {
            "colorbar": {
             "outlinewidth": 0,
             "ticks": ""
            },
            "colorscale": [
             [
              0,
              "#0d0887"
             ],
             [
              0.1111111111111111,
              "#46039f"
             ],
             [
              0.2222222222222222,
              "#7201a8"
             ],
             [
              0.3333333333333333,
              "#9c179e"
             ],
             [
              0.4444444444444444,
              "#bd3786"
             ],
             [
              0.5555555555555556,
              "#d8576b"
             ],
             [
              0.6666666666666666,
              "#ed7953"
             ],
             [
              0.7777777777777778,
              "#fb9f3a"
             ],
             [
              0.8888888888888888,
              "#fdca26"
             ],
             [
              1,
              "#f0f921"
             ]
            ],
            "type": "contour"
           }
          ],
          "contourcarpet": [
           {
            "colorbar": {
             "outlinewidth": 0,
             "ticks": ""
            },
            "type": "contourcarpet"
           }
          ],
          "heatmap": [
           {
            "colorbar": {
             "outlinewidth": 0,
             "ticks": ""
            },
            "colorscale": [
             [
              0,
              "#0d0887"
             ],
             [
              0.1111111111111111,
              "#46039f"
             ],
             [
              0.2222222222222222,
              "#7201a8"
             ],
             [
              0.3333333333333333,
              "#9c179e"
             ],
             [
              0.4444444444444444,
              "#bd3786"
             ],
             [
              0.5555555555555556,
              "#d8576b"
             ],
             [
              0.6666666666666666,
              "#ed7953"
             ],
             [
              0.7777777777777778,
              "#fb9f3a"
             ],
             [
              0.8888888888888888,
              "#fdca26"
             ],
             [
              1,
              "#f0f921"
             ]
            ],
            "type": "heatmap"
           }
          ],
          "heatmapgl": [
           {
            "colorbar": {
             "outlinewidth": 0,
             "ticks": ""
            },
            "colorscale": [
             [
              0,
              "#0d0887"
             ],
             [
              0.1111111111111111,
              "#46039f"
             ],
             [
              0.2222222222222222,
              "#7201a8"
             ],
             [
              0.3333333333333333,
              "#9c179e"
             ],
             [
              0.4444444444444444,
              "#bd3786"
             ],
             [
              0.5555555555555556,
              "#d8576b"
             ],
             [
              0.6666666666666666,
              "#ed7953"
             ],
             [
              0.7777777777777778,
              "#fb9f3a"
             ],
             [
              0.8888888888888888,
              "#fdca26"
             ],
             [
              1,
              "#f0f921"
             ]
            ],
            "type": "heatmapgl"
           }
          ],
          "histogram": [
           {
            "marker": {
             "pattern": {
              "fillmode": "overlay",
              "size": 10,
              "solidity": 0.2
             }
            },
            "type": "histogram"
           }
          ],
          "histogram2d": [
           {
            "colorbar": {
             "outlinewidth": 0,
             "ticks": ""
            },
            "colorscale": [
             [
              0,
              "#0d0887"
             ],
             [
              0.1111111111111111,
              "#46039f"
             ],
             [
              0.2222222222222222,
              "#7201a8"
             ],
             [
              0.3333333333333333,
              "#9c179e"
             ],
             [
              0.4444444444444444,
              "#bd3786"
             ],
             [
              0.5555555555555556,
              "#d8576b"
             ],
             [
              0.6666666666666666,
              "#ed7953"
             ],
             [
              0.7777777777777778,
              "#fb9f3a"
             ],
             [
              0.8888888888888888,
              "#fdca26"
             ],
             [
              1,
              "#f0f921"
             ]
            ],
            "type": "histogram2d"
           }
          ],
          "histogram2dcontour": [
           {
            "colorbar": {
             "outlinewidth": 0,
             "ticks": ""
            },
            "colorscale": [
             [
              0,
              "#0d0887"
             ],
             [
              0.1111111111111111,
              "#46039f"
             ],
             [
              0.2222222222222222,
              "#7201a8"
             ],
             [
              0.3333333333333333,
              "#9c179e"
             ],
             [
              0.4444444444444444,
              "#bd3786"
             ],
             [
              0.5555555555555556,
              "#d8576b"
             ],
             [
              0.6666666666666666,
              "#ed7953"
             ],
             [
              0.7777777777777778,
              "#fb9f3a"
             ],
             [
              0.8888888888888888,
              "#fdca26"
             ],
             [
              1,
              "#f0f921"
             ]
            ],
            "type": "histogram2dcontour"
           }
          ],
          "mesh3d": [
           {
            "colorbar": {
             "outlinewidth": 0,
             "ticks": ""
            },
            "type": "mesh3d"
           }
          ],
          "parcoords": [
           {
            "line": {
             "colorbar": {
              "outlinewidth": 0,
              "ticks": ""
             }
            },
            "type": "parcoords"
           }
          ],
          "pie": [
           {
            "automargin": true,
            "type": "pie"
           }
          ],
          "scatter": [
           {
            "fillpattern": {
             "fillmode": "overlay",
             "size": 10,
             "solidity": 0.2
            },
            "type": "scatter"
           }
          ],
          "scatter3d": [
           {
            "line": {
             "colorbar": {
              "outlinewidth": 0,
              "ticks": ""
             }
            },
            "marker": {
             "colorbar": {
              "outlinewidth": 0,
              "ticks": ""
             }
            },
            "type": "scatter3d"
           }
          ],
          "scattercarpet": [
           {
            "marker": {
             "colorbar": {
              "outlinewidth": 0,
              "ticks": ""
             }
            },
            "type": "scattercarpet"
           }
          ],
          "scattergeo": [
           {
            "marker": {
             "colorbar": {
              "outlinewidth": 0,
              "ticks": ""
             }
            },
            "type": "scattergeo"
           }
          ],
          "scattergl": [
           {
            "marker": {
             "colorbar": {
              "outlinewidth": 0,
              "ticks": ""
             }
            },
            "type": "scattergl"
           }
          ],
          "scattermapbox": [
           {
            "marker": {
             "colorbar": {
              "outlinewidth": 0,
              "ticks": ""
             }
            },
            "type": "scattermapbox"
           }
          ],
          "scatterpolar": [
           {
            "marker": {
             "colorbar": {
              "outlinewidth": 0,
              "ticks": ""
             }
            },
            "type": "scatterpolar"
           }
          ],
          "scatterpolargl": [
           {
            "marker": {
             "colorbar": {
              "outlinewidth": 0,
              "ticks": ""
             }
            },
            "type": "scatterpolargl"
           }
          ],
          "scatterternary": [
           {
            "marker": {
             "colorbar": {
              "outlinewidth": 0,
              "ticks": ""
             }
            },
            "type": "scatterternary"
           }
          ],
          "surface": [
           {
            "colorbar": {
             "outlinewidth": 0,
             "ticks": ""
            },
            "colorscale": [
             [
              0,
              "#0d0887"
             ],
             [
              0.1111111111111111,
              "#46039f"
             ],
             [
              0.2222222222222222,
              "#7201a8"
             ],
             [
              0.3333333333333333,
              "#9c179e"
             ],
             [
              0.4444444444444444,
              "#bd3786"
             ],
             [
              0.5555555555555556,
              "#d8576b"
             ],
             [
              0.6666666666666666,
              "#ed7953"
             ],
             [
              0.7777777777777778,
              "#fb9f3a"
             ],
             [
              0.8888888888888888,
              "#fdca26"
             ],
             [
              1,
              "#f0f921"
             ]
            ],
            "type": "surface"
           }
          ],
          "table": [
           {
            "cells": {
             "fill": {
              "color": "#EBF0F8"
             },
             "line": {
              "color": "white"
             }
            },
            "header": {
             "fill": {
              "color": "#C8D4E3"
             },
             "line": {
              "color": "white"
             }
            },
            "type": "table"
           }
          ]
         },
         "layout": {
          "annotationdefaults": {
           "arrowcolor": "#2a3f5f",
           "arrowhead": 0,
           "arrowwidth": 1
          },
          "autotypenumbers": "strict",
          "coloraxis": {
           "colorbar": {
            "outlinewidth": 0,
            "ticks": ""
           }
          },
          "colorscale": {
           "diverging": [
            [
             0,
             "#8e0152"
            ],
            [
             0.1,
             "#c51b7d"
            ],
            [
             0.2,
             "#de77ae"
            ],
            [
             0.3,
             "#f1b6da"
            ],
            [
             0.4,
             "#fde0ef"
            ],
            [
             0.5,
             "#f7f7f7"
            ],
            [
             0.6,
             "#e6f5d0"
            ],
            [
             0.7,
             "#b8e186"
            ],
            [
             0.8,
             "#7fbc41"
            ],
            [
             0.9,
             "#4d9221"
            ],
            [
             1,
             "#276419"
            ]
           ],
           "sequential": [
            [
             0,
             "#0d0887"
            ],
            [
             0.1111111111111111,
             "#46039f"
            ],
            [
             0.2222222222222222,
             "#7201a8"
            ],
            [
             0.3333333333333333,
             "#9c179e"
            ],
            [
             0.4444444444444444,
             "#bd3786"
            ],
            [
             0.5555555555555556,
             "#d8576b"
            ],
            [
             0.6666666666666666,
             "#ed7953"
            ],
            [
             0.7777777777777778,
             "#fb9f3a"
            ],
            [
             0.8888888888888888,
             "#fdca26"
            ],
            [
             1,
             "#f0f921"
            ]
           ],
           "sequentialminus": [
            [
             0,
             "#0d0887"
            ],
            [
             0.1111111111111111,
             "#46039f"
            ],
            [
             0.2222222222222222,
             "#7201a8"
            ],
            [
             0.3333333333333333,
             "#9c179e"
            ],
            [
             0.4444444444444444,
             "#bd3786"
            ],
            [
             0.5555555555555556,
             "#d8576b"
            ],
            [
             0.6666666666666666,
             "#ed7953"
            ],
            [
             0.7777777777777778,
             "#fb9f3a"
            ],
            [
             0.8888888888888888,
             "#fdca26"
            ],
            [
             1,
             "#f0f921"
            ]
           ]
          },
          "colorway": [
           "#636efa",
           "#EF553B",
           "#00cc96",
           "#ab63fa",
           "#FFA15A",
           "#19d3f3",
           "#FF6692",
           "#B6E880",
           "#FF97FF",
           "#FECB52"
          ],
          "font": {
           "color": "#2a3f5f"
          },
          "geo": {
           "bgcolor": "white",
           "lakecolor": "white",
           "landcolor": "#E5ECF6",
           "showlakes": true,
           "showland": true,
           "subunitcolor": "white"
          },
          "hoverlabel": {
           "align": "left"
          },
          "hovermode": "closest",
          "mapbox": {
           "style": "light"
          },
          "paper_bgcolor": "white",
          "plot_bgcolor": "#E5ECF6",
          "polar": {
           "angularaxis": {
            "gridcolor": "white",
            "linecolor": "white",
            "ticks": ""
           },
           "bgcolor": "#E5ECF6",
           "radialaxis": {
            "gridcolor": "white",
            "linecolor": "white",
            "ticks": ""
           }
          },
          "scene": {
           "xaxis": {
            "backgroundcolor": "#E5ECF6",
            "gridcolor": "white",
            "gridwidth": 2,
            "linecolor": "white",
            "showbackground": true,
            "ticks": "",
            "zerolinecolor": "white"
           },
           "yaxis": {
            "backgroundcolor": "#E5ECF6",
            "gridcolor": "white",
            "gridwidth": 2,
            "linecolor": "white",
            "showbackground": true,
            "ticks": "",
            "zerolinecolor": "white"
           },
           "zaxis": {
            "backgroundcolor": "#E5ECF6",
            "gridcolor": "white",
            "gridwidth": 2,
            "linecolor": "white",
            "showbackground": true,
            "ticks": "",
            "zerolinecolor": "white"
           }
          },
          "shapedefaults": {
           "line": {
            "color": "#2a3f5f"
           }
          },
          "ternary": {
           "aaxis": {
            "gridcolor": "white",
            "linecolor": "white",
            "ticks": ""
           },
           "baxis": {
            "gridcolor": "white",
            "linecolor": "white",
            "ticks": ""
           },
           "bgcolor": "#E5ECF6",
           "caxis": {
            "gridcolor": "white",
            "linecolor": "white",
            "ticks": ""
           }
          },
          "title": {
           "x": 0.05
          },
          "xaxis": {
           "automargin": true,
           "gridcolor": "white",
           "linecolor": "white",
           "ticks": "",
           "title": {
            "standoff": 15
           },
           "zerolinecolor": "white",
           "zerolinewidth": 2
          },
          "yaxis": {
           "automargin": true,
           "gridcolor": "white",
           "linecolor": "white",
           "ticks": "",
           "title": {
            "standoff": 15
           },
           "zerolinecolor": "white",
           "zerolinewidth": 2
          }
         }
        },
        "xaxis": {
         "autorange": true,
         "range": [
          "2012-05-25 18:00",
          "2012-05-29 16:00"
         ],
         "type": "date"
        },
        "yaxis": {
         "autorange": true,
         "range": [
          -0.03217080969708617,
          0.9070360554619303
         ],
         "type": "linear"
        }
       }
      },
      "image/png": "[encoded data removed]",
      "text/html": [
       "<div>                            <div id=\"cb75e8df-63c5-4fae-b394-82c994cc9c1f\" class=\"plotly-graph-div\" style=\"height:525px; width:100%;\"></div>            <script type=\"text/javascript\">                require([\"plotly\"], function(Plotly) {                    window.PLOTLYENV=window.PLOTLYENV || {};                                    if (document.getElementById(\"cb75e8df-63c5-4fae-b394-82c994cc9c1f\")) {                    Plotly.newPlot(                        \"cb75e8df-63c5-4fae-b394-82c994cc9c1f\",                        [{\"mode\":\"lines\",\"name\":\"Input sequence\",\"x\":[\"2012-05-25T18:00:00\",\"2012-05-25T19:00:00\",\"2012-05-25T20:00:00\",\"2012-05-25T21:00:00\",\"2012-05-25T22:00:00\",\"2012-05-25T23:00:00\",\"2012-05-26T00:00:00\",\"2012-05-26T01:00:00\",\"2012-05-26T02:00:00\",\"2012-05-26T03:00:00\",\"2012-05-26T04:00:00\",\"2012-05-26T05:00:00\",\"2012-05-26T06:00:00\",\"2012-05-26T07:00:00\",\"2012-05-26T08:00:00\",\"2012-05-26T09:00:00\",\"2012-05-26T10:00:00\",\"2012-05-26T11:00:00\",\"2012-05-26T12:00:00\",\"2012-05-26T13:00:00\",\"2012-05-26T14:00:00\",\"2012-05-26T15:00:00\",\"2012-05-26T16:00:00\",\"2012-05-26T17:00:00\",\"2012-05-26T18:00:00\",\"2012-05-26T19:00:00\",\"2012-05-26T20:00:00\",\"2012-05-26T21:00:00\",\"2012-05-26T22:00:00\",\"2012-05-26T23:00:00\",\"2012-05-27T00:00:00\",\"2012-05-27T01:00:00\",\"2012-05-27T02:00:00\",\"2012-05-27T03:00:00\",\"2012-05-27T04:00:00\",\"2012-05-27T05:00:00\",\"2012-05-27T06:00:00\",\"2012-05-27T07:00:00\",\"2012-05-27T08:00:00\",\"2012-05-27T09:00:00\",\"2012-05-27T10:00:00\",\"2012-05-27T11:00:00\",\"2012-05-27T12:00:00\",\"2012-05-27T13:00:00\",\"2012-05-27T14:00:00\",\"2012-05-27T15:00:00\",\"2012-05-27T16:00:00\",\"2012-05-27T17:00:00\",\"2012-05-27T18:00:00\",\"2012-05-27T19:00:00\",\"2012-05-27T20:00:00\",\"2012-05-27T21:00:00\",\"2012-05-27T22:00:00\",\"2012-05-27T23:00:00\",\"2012-05-28T00:00:00\",\"2012-05-28T01:00:00\",\"2012-05-28T02:00:00\",\"2012-05-28T03:00:00\",\"2012-05-28T04:00:00\",\"2012-05-28T05:00:00\",\"2012-05-28T06:00:00\",\"2012-05-28T07:00:00\",\"2012-05-28T08:00:00\",\"2012-05-28T09:00:00\",\"2012-05-28T10:00:00\",\"2012-05-28T11:00:00\",\"2012-05-28T12:00:00\",\"2012-05-28T13:00:00\",\"2012-05-28T14:00:00\",\"2012-05-28T15:00:00\",\"2012-05-28T16:00:00\",\"2012-05-28T17:00:00\"],\"y\":[0.5745164960182024,0.6973833902161547,0.7235494880546075,0.7246871444823663,0.820250284414107,0.6860068259385667,0.61547212741752,0.49032992036405,0.33788395904436863,0.27531285551763374,0.2832764505119454,0.2366325369738339,0.1285551763367463,0.18885096700796367,0.3720136518771331,0.6234357224118315,0.7895335608646189,0.7554038680318543,0.7861205915813424,0.6814562002275312,0.739476678043231,0.6814562002275312,0.5984072810011377,0.6279863481228668,0.4778156996587032,0.590443686006826,0.738339021615472,0.6769055745164959,0.6131968145620023,0.6006825938566552,0.5119453924914675,0.38680318543799774,0.26848691695108085,0.1877133105802048,0.22866894197952226,0.2104664391353811,0.13424345847554042,0.17633674630261664,0.31058020477815707,0.37087599544937433,0.4630261660978384,0.5790671217292377,0.5255972696245733,0.4175199089874858,0.3560864618885097,0.35381114903299204,0.341296928327645,0.40273037542662116,0.39362912400455063,0.4277588168373151,0.50967007963595,0.5699658703071672,0.6746302616609784,0.5335608646188851,0.3754266211604096,0.2787258248009101,0.1877133105802048,0.014789533560864654,0.1911262798634813,0.15358361774744034,0.13651877133105805,0.23435722411831628,0.32992036405005687,0.44937428896473264,0.6700796359499431,0.7007963594994312,0.6860068259385667,0.5938566552901025,0.40273037542662116,0.42889647326507396,0.5392491467576791,0.5483503981797496],\"type\":\"scatter\"},{\"mode\":\"lines\",\"name\":\"True Future\",\"x\":[\"2012-05-28T18:00:00\",\"2012-05-28T19:00:00\",\"2012-05-28T20:00:00\",\"2012-05-28T21:00:00\",\"2012-05-28T22:00:00\",\"2012-05-28T23:00:00\",\"2012-05-29T00:00:00\",\"2012-05-29T01:00:00\",\"2012-05-29T02:00:00\",\"2012-05-29T03:00:00\",\"2012-05-29T04:00:00\",\"2012-05-29T05:00:00\",\"2012-05-29T06:00:00\",\"2012-05-29T07:00:00\",\"2012-05-29T08:00:00\",\"2012-05-29T09:00:00\",\"2012-05-29T10:00:00\",\"2012-05-29T11:00:00\",\"2012-05-29T12:00:00\",\"2012-05-29T13:00:00\",\"2012-05-29T14:00:00\",\"2012-05-29T15:00:00\",\"2012-05-29T16:00:00\"],\"y\":[0.5290102389078498,0.7155858930602957,0.7804323094425484,0.6621160409556314,0.7542662116040956,0.6393629124004551,0.4084186575654153,0.34015927189988626,0.2730375426621161,0.09670079635949946,0.2571103526734926,0.24573378839590443,0.1911262798634813,0.279863481228669,0.5472127417519909,0.6473265073947668,0.7349260523321958,0.6905574516496019,0.8395904436860068,0.7155858930602957,0.6131968145620023,0.6166097838452788,0.521046643913538],\"type\":\"scatter\"},{\"mode\":\"lines\",\"name\":\"Predicted Future\",\"x\":[\"2012-05-28T18:00:00\",\"2012-05-28T19:00:00\",\"2012-05-28T20:00:00\",\"2012-05-28T21:00:00\",\"2012-05-28T22:00:00\",\"2012-05-28T23:00:00\",\"2012-05-29T00:00:00\",\"2012-05-29T01:00:00\",\"2012-05-29T02:00:00\",\"2012-05-29T03:00:00\",\"2012-05-29T04:00:00\",\"2012-05-29T05:00:00\",\"2012-05-29T06:00:00\",\"2012-05-29T07:00:00\",\"2012-05-29T08:00:00\",\"2012-05-29T09:00:00\",\"2012-05-29T10:00:00\",\"2012-05-29T11:00:00\",\"2012-05-29T12:00:00\",\"2012-05-29T13:00:00\",\"2012-05-29T14:00:00\",\"2012-05-29T15:00:00\",\"2012-05-29T16:00:00\"],\"y\":[0.5804873108863831,0.7113693952560425,0.7532439231872559,0.7132807374000549,0.7554824948310852,0.6820420622825623,0.4996688961982727,0.32524096965789795,0.20957058668136597,0.1733366698026657,0.20571371912956238,0.27587318420410156,0.22603651881217957,0.27558958530426025,0.4146875739097595,0.6879737377166748,0.8043760657310486,0.8194863200187683,0.7849708199501038,0.8600757122039795,0.7136126756668091,0.6141682863235474,0.6558941006660461,0.6253382563591003,0.6239285469055176,0.8244108557701111,0.8073471188545227,0.6184045076370239,0.7504726052284241,0.7210641503334045,0.5031882524490356,0.36149072647094727,0.2866727113723755,0.06610660254955292,0.25661373138427734,0.2529263198375702,0.20408065617084503,0.3559585213661194,0.4226406216621399,0.626409113407135,0.7827242612838745,0.7260135412216187,0.7739692330360413,0.739582359790802,0.5253996849060059,0.5641348958015442,0.6371669769287109,0.5895523428916931,0.6514379978179932,0.7959114909172058,0.7388512492179871,0.7576453685760498,0.821872353553772,0.6906281113624573,0.5048742294311523,0.37118178606033325,0.2609078884124756,0.07908961176872253,0.3105931878089905,0.28862541913986206,0.239634707570076,0.3447997570037842,0.477863073348999,0.7164439558982849,0.8394353985786438,0.8249462842941284,0.8178101778030396,0.8406862616539001,0.7923946976661682,0.7692150473594666,0.791321337223053,0.7763374447822571,0.7165958285331726,0.8187844157218933,0.8613396286964417,0.8164475560188293,0.6814361214637756,0.6967964768409729],\"type\":\"scatter\"}],                        {\"template\":{\"data\":{\"histogram2dcontour\":[{\"type\":\"histogram2dcontour\",\"colorbar\":{\"outlinewidth\":0,\"ticks\":\"\"},\"colorscale\":[[0.0,\"#0d0887\"],[0.1111111111111111,\"#46039f\"],[0.2222222222222222,\"#7201a8\"],[0.3333333333333333,\"#9c179e\"],[0.4444444444444444,\"#bd3786\"],[0.5555555555555556,\"#d8576b\"],[0.6666666666666666,\"#ed7953\"],[0.7777777777777778,\"#fb9f3a\"],[0.8888888888888888,\"#fdca26\"],[1.0,\"#f0f921\"]]}],\"choropleth\":[{\"type\":\"choropleth\",\"colorbar\":{\"outlinewidth\":0,\"ticks\":\"\"}}],\"histogram2d\":[{\"type\":\"histogram2d\",\"colorbar\":{\"outlinewidth\":0,\"ticks\":\"\"},\"colorscale\":[[0.0,\"#0d0887\"],[0.1111111111111111,\"#46039f\"],[0.2222222222222222,\"#7201a8\"],[0.3333333333333333,\"#9c179e\"],[0.4444444444444444,\"#bd3786\"],[0.5555555555555556,\"#d8576b\"],[0.6666666666666666,\"#ed7953\"],[0.7777777777777778,\"#fb9f3a\"],[0.8888888888888888,\"#fdca26\"],[1.0,\"#f0f921\"]]}],\"heatmap\":[{\"type\":\"heatmap\",\"colorbar\":{\"outlinewidth\":0,\"ticks\":\"\"},\"colorscale\":[[0.0,\"#0d0887\"],[0.1111111111111111,\"#46039f\"],[0.2222222222222222,\"#7201a8\"],[0.3333333333333333,\"#9c179e\"],[0.4444444444444444,\"#bd3786\"],[0.5555555555555556,\"#d8576b\"],[0.6666666666666666,\"#ed7953\"],[0.7777777777777778,\"#fb9f3a\"],[0.8888888888888888,\"#fdca26\"],[1.0,\"#f0f921\"]]}],\"heatmapgl\":[{\"type\":\"heatmapgl\",\"colorbar\":{\"outlinewidth\":0,\"ticks\":\"\"},\"colorscale\":[[0.0,\"#0d0887\"],[0.1111111111111111,\"#46039f\"],[0.2222222222222222,\"#7201a8\"],[0.3333333333333333,\"#9c179e\"],[0.4444444444444444,\"#bd3786\"],[0.5555555555555556,\"#d8576b\"],[0.6666666666666666,\"#ed7953\"],[0.7777777777777778,\"#fb9f3a\"],[0.8888888888888888,\"#fdca26\"],[1.0,\"#f0f921\"]]}],\"contourcarpet\":[{\"type\":\"contourcarpet\",\"colorbar\":{\"outlinewidth\":0,\"ticks\":\"\"}}],\"contour\":[{\"type\":\"contour\",\"colorbar\":{\"outlinewidth\":0,\"ticks\":\"\"},\"colorscale\":[[0.0,\"#0d0887\"],[0.1111111111111111,\"#46039f\"],[0.2222222222222222,\"#7201a8\"],[0.3333333333333333,\"#9c179e\"],[0.4444444444444444,\"#bd3786\"],[0.5555555555555556,\"#d8576b\"],[0.6666666666666666,\"#ed7953\"],[0.7777777777777778,\"#fb9f3a\"],[0.8888888888888888,\"#fdca26\"],[1.0,\"#f0f921\"]]}],\"surface\":[{\"type\":\"surface\",\"colorbar\":{\"outlinewidth\":0,\"ticks\":\"\"},\"colorscale\":[[0.0,\"#0d0887\"],[0.1111111111111111,\"#46039f\"],[0.2222222222222222,\"#7201a8\"],[0.3333333333333333,\"#9c179e\"],[0.4444444444444444,\"#bd3786\"],[0.5555555555555556,\"#d8576b\"],[0.6666666666666666,\"#ed7953\"],[0.7777777777777778,\"#fb9f3a\"],[0.8888888888888888,\"#fdca26\"],[1.0,\"#f0f921\"]]}],\"mesh3d\":[{\"type\":\"mesh3d\",\"colorbar\":{\"outlinewidth\":0,\"ticks\":\"\"}}],\"scatter\":[{\"fillpattern\":{\"fillmode\":\"overlay\",\"size\":10,\"solidity\":0.2},\"type\":\"scatter\"}],\"parcoords\":[{\"type\":\"parcoords\",\"line\":{\"colorbar\":{\"outlinewidth\":0,\"ticks\":\"\"}}}],\"scatterpolargl\":[{\"type\":\"scatterpolargl\",\"marker\":{\"colorbar\":{\"outlinewidth\":0,\"ticks\":\"\"}}}],\"bar\":[{\"error_x\":{\"color\":\"#2a3f5f\"},\"error_y\":{\"color\":\"#2a3f5f\"},\"marker\":{\"line\":{\"color\":\"#E5ECF6\",\"width\":0.5},\"pattern\":{\"fillmode\":\"overlay\",\"size\":10,\"solidity\":0.2}},\"type\":\"bar\"}],\"scattergeo\":[{\"type\":\"scattergeo\",\"marker\":{\"colorbar\":{\"outlinewidth\":0,\"ticks\":\"\"}}}],\"scatterpolar\":[{\"type\":\"scatterpolar\",\"marker\":{\"colorbar\":{\"outlinewidth\":0,\"ticks\":\"\"}}}],\"histogram\":[{\"marker\":{\"pattern\":{\"fillmode\":\"overlay\",\"size\":10,\"solidity\":0.2}},\"type\":\"histogram\"}],\"scattergl\":[{\"type\":\"scattergl\",\"marker\":{\"colorbar\":{\"outlinewidth\":0,\"ticks\":\"\"}}}],\"scatter3d\":[{\"type\":\"scatter3d\",\"line\":{\"colorbar\":{\"outlinewidth\":0,\"ticks\":\"\"}},\"marker\":{\"colorbar\":{\"outlinewidth\":0,\"ticks\":\"\"}}}],\"scattermapbox\":[{\"type\":\"scattermapbox\",\"marker\":{\"colorbar\":{\"outlinewidth\":0,\"ticks\":\"\"}}}],\"scatterternary\":[{\"type\":\"scatterternary\",\"marker\":{\"colorbar\":{\"outlinewidth\":0,\"ticks\":\"\"}}}],\"scattercarpet\":[{\"type\":\"scattercarpet\",\"marker\":{\"colorbar\":{\"outlinewidth\":0,\"ticks\":\"\"}}}],\"carpet\":[{\"aaxis\":{\"endlinecolor\":\"#2a3f5f\",\"gridcolor\":\"white\",\"linecolor\":\"white\",\"minorgridcolor\":\"white\",\"startlinecolor\":\"#2a3f5f\"},\"baxis\":{\"endlinecolor\":\"#2a3f5f\",\"gridcolor\":\"white\",\"linecolor\":\"white\",\"minorgridcolor\":\"white\",\"startlinecolor\":\"#2a3f5f\"},\"type\":\"carpet\"}],\"table\":[{\"cells\":{\"fill\":{\"color\":\"#EBF0F8\"},\"line\":{\"color\":\"white\"}},\"header\":{\"fill\":{\"color\":\"#C8D4E3\"},\"line\":{\"color\":\"white\"}},\"type\":\"table\"}],\"barpolar\":[{\"marker\":{\"line\":{\"color\":\"#E5ECF6\",\"width\":0.5},\"pattern\":{\"fillmode\":\"overlay\",\"size\":10,\"solidity\":0.2}},\"type\":\"barpolar\"}],\"pie\":[{\"automargin\":true,\"type\":\"pie\"}]},\"layout\":{\"autotypenumbers\":\"strict\",\"colorway\":[\"#636efa\",\"#EF553B\",\"#00cc96\",\"#ab63fa\",\"#FFA15A\",\"#19d3f3\",\"#FF6692\",\"#B6E880\",\"#FF97FF\",\"#FECB52\"],\"font\":{\"color\":\"#2a3f5f\"},\"hovermode\":\"closest\",\"hoverlabel\":{\"align\":\"left\"},\"paper_bgcolor\":\"white\",\"plot_bgcolor\":\"#E5ECF6\",\"polar\":{\"bgcolor\":\"#E5ECF6\",\"angularaxis\":{\"gridcolor\":\"white\",\"linecolor\":\"white\",\"ticks\":\"\"},\"radialaxis\":{\"gridcolor\":\"white\",\"linecolor\":\"white\",\"ticks\":\"\"}},\"ternary\":{\"bgcolor\":\"#E5ECF6\",\"aaxis\":{\"gridcolor\":\"white\",\"linecolor\":\"white\",\"ticks\":\"\"},\"baxis\":{\"gridcolor\":\"white\",\"linecolor\":\"white\",\"ticks\":\"\"},\"caxis\":{\"gridcolor\":\"white\",\"linecolor\":\"white\",\"ticks\":\"\"}},\"coloraxis\":{\"colorbar\":{\"outlinewidth\":0,\"ticks\":\"\"}},\"colorscale\":{\"sequential\":[[0.0,\"#0d0887\"],[0.1111111111111111,\"#46039f\"],[0.2222222222222222,\"#7201a8\"],[0.3333333333333333,\"#9c179e\"],[0.4444444444444444,\"#bd3786\"],[0.5555555555555556,\"#d8576b\"],[0.6666666666666666,\"#ed7953\"],[0.7777777777777778,\"#fb9f3a\"],[0.8888888888888888,\"#fdca26\"],[1.0,\"#f0f921\"]],\"sequentialminus\":[[0.0,\"#0d0887\"],[0.1111111111111111,\"#46039f\"],[0.2222222222222222,\"#7201a8\"],[0.3333333333333333,\"#9c179e\"],[0.4444444444444444,\"#bd3786\"],[0.5555555555555556,\"#d8576b\"],[0.6666666666666666,\"#ed7953\"],[0.7777777777777778,\"#fb9f3a\"],[0.8888888888888888,\"#fdca26\"],[1.0,\"#f0f921\"]],\"diverging\":[[0,\"#8e0152\"],[0.1,\"#c51b7d\"],[0.2,\"#de77ae\"],[0.3,\"#f1b6da\"],[0.4,\"#fde0ef\"],[0.5,\"#f7f7f7\"],[0.6,\"#e6f5d0\"],[0.7,\"#b8e186\"],[0.8,\"#7fbc41\"],[0.9,\"#4d9221\"],[1,\"#276419\"]]},\"xaxis\":{\"gridcolor\":\"white\",\"linecolor\":\"white\",\"ticks\":\"\",\"title\":{\"standoff\":15},\"zerolinecolor\":\"white\",\"automargin\":true,\"zerolinewidth\":2},\"yaxis\":{\"gridcolor\":\"white\",\"linecolor\":\"white\",\"ticks\":\"\",\"title\":{\"standoff\":15},\"zerolinecolor\":\"white\",\"automargin\":true,\"zerolinewidth\":2},\"scene\":{\"xaxis\":{\"backgroundcolor\":\"#E5ECF6\",\"gridcolor\":\"white\",\"linecolor\":\"white\",\"showbackground\":true,\"ticks\":\"\",\"zerolinecolor\":\"white\",\"gridwidth\":2},\"yaxis\":{\"backgroundcolor\":\"#E5ECF6\",\"gridcolor\":\"white\",\"linecolor\":\"white\",\"showbackground\":true,\"ticks\":\"\",\"zerolinecolor\":\"white\",\"gridwidth\":2},\"zaxis\":{\"backgroundcolor\":\"#E5ECF6\",\"gridcolor\":\"white\",\"linecolor\":\"white\",\"showbackground\":true,\"ticks\":\"\",\"zerolinecolor\":\"white\",\"gridwidth\":2}},\"shapedefaults\":{\"line\":{\"color\":\"#2a3f5f\"}},\"annotationdefaults\":{\"arrowcolor\":\"#2a3f5f\",\"arrowhead\":0,\"arrowwidth\":1},\"geo\":{\"bgcolor\":\"white\",\"landcolor\":\"#E5ECF6\",\"subunitcolor\":\"white\",\"showland\":true,\"showlakes\":true,\"lakecolor\":\"white\"},\"title\":{\"x\":0.05},\"mapbox\":{\"style\":\"light\"}}}},                        {\"responsive\": true}                    ).then(function(){\n",
       "                            \n",
       "var gd = document.getElementById('cb75e8df-63c5-4fae-b394-82c994cc9c1f');\n",
       "var x = new MutationObserver(function (mutations, observer) {{\n",
       "        var display = window.getComputedStyle(gd).display;\n",
       "        if (!display || display === 'none') {{\n",
       "            console.log([gd, 'removed!']);\n",
       "            Plotly.purge(gd);\n",
       "            observer.disconnect();\n",
       "        }}\n",
       "}});\n",
       "\n",
       "// Listen for the removal of the full notebook cells\n",
       "var notebookContainer = gd.closest('#notebook-container');\n",
       "if (notebookContainer) {{\n",
       "    x.observe(notebookContainer, {childList: true});\n",
       "}}\n",
       "\n",
       "// Listen for the clearing of the current output cell\n",
       "var outputEl = gd.closest('.output');\n",
       "if (outputEl) {{\n",
       "    x.observe(outputEl, {childList: true});\n",
       "}}\n",
       "\n",
       "                        })                };                });            </script>        </div>"
      ]
     },
     "metadata": {},
     "output_type": "display_data"
    }
   ],
   "source": [
    "fig = go.Figure()\n",
    "\n",
    "time_steps_X = pd.to_datetime(time_test[:len(Xr_test[i])].flatten()).tolist()\n",
    "time_steps_y = pd.to_datetime(time_test[len(Xr_test[i]):len(Xr_test[i]) + len(yr_test[i:i+23])].flatten()).tolist()\n",
    "\n",
    "fig.add_trace(go.Scatter(x=time_steps_X, y=Xr_test[i].flatten().tolist(), mode='lines', name='Input sequence'))\n",
    "fig.add_trace(go.Scatter(x=time_steps_y, y=yr_test[i:i+23].flatten().tolist(), mode='lines', name='True Future'))\n",
    "fig.add_trace(go.Scatter(x=time_steps_y, y=RNN_predictions.flatten().tolist(), mode='lines', name='Predicted Future'))\n",
    "\n",
    "fig.show()"
   ]
  },
  {
   "cell_type": "code",
   "execution_count": 141,
   "id": "8b0af092",
   "metadata": {},
   "outputs": [
    {
     "name": "stdout",
     "output_type": "stream",
     "text": [
      "Test MSE:  0.005386077463715647\n"
     ]
    }
   ],
   "source": [
    "mse = mean_squared_error(yr_test[i:i+23], RNN_predictions[i:i+23])\n",
    "print('Test MSE: ', mse)"
   ]
  },
  {
   "cell_type": "markdown",
   "id": "b6de90b5",
   "metadata": {},
   "source": [
    "### 2.3 LSTMs mit Tensorflow"
   ]
  },
  {
   "cell_type": "code",
   "execution_count": 143,
   "id": "62b1647b",
   "metadata": {},
   "outputs": [],
   "source": [
    "model_lstm = Sequential([\n",
    "    Input(shape=(input_size, 1)),  # Definiert die Form der Eingabedaten\n",
    "    LSTM(100, activation='relu'),  # LSTM-Schicht mit 100 Neuronen und ReLU-Aktivierung\n",
    "    Dense(1)                       # Ausgangsschicht mit einem Ausgangswert\n",
    "])"
   ]
  },
  {
   "cell_type": "code",
   "execution_count": 145,
   "id": "d77024e3-a8f2-472c-a527-d8dc8bd779cf",
   "metadata": {},
   "outputs": [],
   "source": [
    "# Modell kompilieren\n",
    "model_lstm.compile(optimizer='adam', loss='mse')"
   ]
  },
  {
   "cell_type": "code",
   "execution_count": 146,
   "id": "42ba3993",
   "metadata": {},
   "outputs": [
    {
     "name": "stdout",
     "output_type": "stream",
     "text": [
      "Epoch 1/10\n",
      "\u001b[1m94/94\u001b[0m \u001b[32m━━━━━━━━━━━━━━━━━━━━\u001b[0m\u001b[37m\u001b[0m \u001b[1m2s\u001b[0m 9ms/step - loss: 0.1218 - val_loss: 0.0393\n",
      "Epoch 2/10\n",
      "\u001b[1m94/94\u001b[0m \u001b[32m━━━━━━━━━━━━━━━━━━━━\u001b[0m\u001b[37m\u001b[0m \u001b[1m1s\u001b[0m 8ms/step - loss: 0.0518 - val_loss: 0.0327\n",
      "Epoch 3/10\n",
      "\u001b[1m94/94\u001b[0m \u001b[32m━━━━━━━━━━━━━━━━━━━━\u001b[0m\u001b[37m\u001b[0m \u001b[1m1s\u001b[0m 7ms/step - loss: 0.0440 - val_loss: 0.0285\n",
      "Epoch 4/10\n",
      "\u001b[1m94/94\u001b[0m \u001b[32m━━━━━━━━━━━━━━━━━━━━\u001b[0m\u001b[37m\u001b[0m \u001b[1m1s\u001b[0m 7ms/step - loss: 0.0380 - val_loss: 0.0230\n",
      "Epoch 5/10\n",
      "\u001b[1m94/94\u001b[0m \u001b[32m━━━━━━━━━━━━━━━━━━━━\u001b[0m\u001b[37m\u001b[0m \u001b[1m1s\u001b[0m 8ms/step - loss: 0.0294 - val_loss: 0.0163\n",
      "Epoch 6/10\n",
      "\u001b[1m94/94\u001b[0m \u001b[32m━━━━━━━━━━━━━━━━━━━━\u001b[0m\u001b[37m\u001b[0m \u001b[1m1s\u001b[0m 7ms/step - loss: 0.0221 - val_loss: 0.0137\n",
      "Epoch 7/10\n",
      "\u001b[1m94/94\u001b[0m \u001b[32m━━━━━━━━━━━━━━━━━━━━\u001b[0m\u001b[37m\u001b[0m \u001b[1m1s\u001b[0m 8ms/step - loss: 0.0205 - val_loss: 0.0129\n",
      "Epoch 8/10\n",
      "\u001b[1m94/94\u001b[0m \u001b[32m━━━━━━━━━━━━━━━━━━━━\u001b[0m\u001b[37m\u001b[0m \u001b[1m1s\u001b[0m 8ms/step - loss: 0.0186 - val_loss: 0.0120\n",
      "Epoch 9/10\n",
      "\u001b[1m94/94\u001b[0m \u001b[32m━━━━━━━━━━━━━━━━━━━━\u001b[0m\u001b[37m\u001b[0m \u001b[1m1s\u001b[0m 7ms/step - loss: 0.0173 - val_loss: 0.0113\n",
      "Epoch 10/10\n",
      "\u001b[1m94/94\u001b[0m \u001b[32m━━━━━━━━━━━━━━━━━━━━\u001b[0m\u001b[37m\u001b[0m \u001b[1m1s\u001b[0m 8ms/step - loss: 0.0161 - val_loss: 0.0105\n"
     ]
    }
   ],
   "source": [
    "history_lstm = model_lstm.fit(\n",
    "    Xr_train, yr_train, \n",
    "    epochs=10, \n",
    "    validation_data=(Xr_val, yr_val),  \n",
    "    batch_size=4, \n",
    "    verbose=1, \n",
    "    shuffle=False\n",
    ")"
   ]
  },
  {
   "cell_type": "code",
   "execution_count": 147,
   "id": "36c02c5f",
   "metadata": {},
   "outputs": [
    {
     "name": "stdout",
     "output_type": "stream",
     "text": [
      "\u001b[1m3/3\u001b[0m \u001b[32m━━━━━━━━━━━━━━━━━━━━\u001b[0m\u001b[37m\u001b[0m \u001b[1m0s\u001b[0m 54ms/step\n",
      "Input: [[0.5745165 ]\n",
      " [0.69738339]\n",
      " [0.72354949]\n",
      " [0.72468714]\n",
      " [0.82025028]\n",
      " [0.68600683]\n",
      " [0.61547213]\n",
      " [0.49032992]\n",
      " [0.33788396]\n",
      " [0.27531286]\n",
      " [0.28327645]\n",
      " [0.23663254]\n",
      " [0.12855518]\n",
      " [0.18885097]\n",
      " [0.37201365]\n",
      " [0.62343572]\n",
      " [0.78953356]\n",
      " [0.75540387]\n",
      " [0.78612059]\n",
      " [0.6814562 ]\n",
      " [0.73947668]\n",
      " [0.6814562 ]\n",
      " [0.59840728]\n",
      " [0.62798635]\n",
      " [0.4778157 ]\n",
      " [0.59044369]\n",
      " [0.73833902]\n",
      " [0.67690557]\n",
      " [0.61319681]\n",
      " [0.60068259]\n",
      " [0.51194539]\n",
      " [0.38680319]\n",
      " [0.26848692]\n",
      " [0.18771331]\n",
      " [0.22866894]\n",
      " [0.21046644]\n",
      " [0.13424346]\n",
      " [0.17633675]\n",
      " [0.3105802 ]\n",
      " [0.370876  ]\n",
      " [0.46302617]\n",
      " [0.57906712]\n",
      " [0.52559727]\n",
      " [0.41751991]\n",
      " [0.35608646]\n",
      " [0.35381115]\n",
      " [0.34129693]\n",
      " [0.40273038]\n",
      " [0.39362912]\n",
      " [0.42775882]\n",
      " [0.50967008]\n",
      " [0.56996587]\n",
      " [0.67463026]\n",
      " [0.53356086]\n",
      " [0.37542662]\n",
      " [0.27872582]\n",
      " [0.18771331]\n",
      " [0.01478953]\n",
      " [0.19112628]\n",
      " [0.15358362]\n",
      " [0.13651877]\n",
      " [0.23435722]\n",
      " [0.32992036]\n",
      " [0.44937429]\n",
      " [0.67007964]\n",
      " [0.70079636]\n",
      " [0.68600683]\n",
      " [0.59385666]\n",
      " [0.40273038]\n",
      " [0.42889647]\n",
      " [0.53924915]\n",
      " [0.5483504 ]], Target: [0.52901024], Prediction: [0.5513023]\n"
     ]
    }
   ],
   "source": [
    "predictions_lstm = model_lstm.predict(Xr_test)\n",
    "i=0\n",
    "print(f\"Input: {Xr_test[i]}, Target: {yr_test[i]}, Prediction: {predictions_lstm[i]}\")"
   ]
  },
  {
   "cell_type": "code",
   "execution_count": 148,
   "id": "55d33ad9",
   "metadata": {},
   "outputs": [
    {
     "data": {
      "application/vnd.plotly.v1+json": {
       "config": {
        "plotlyServerURL": "https://plot.ly"
       },
       "data": [
        {
         "mode": "lines",
         "name": "Input sequence",
         "type": "scatter",
         "x": [
          "2012-05-25T18:00:00",
          "2012-05-25T19:00:00",
          "2012-05-25T20:00:00",
          "2012-05-25T21:00:00",
          "2012-05-25T22:00:00",
          "2012-05-25T23:00:00",
          "2012-05-26T00:00:00",
          "2012-05-26T01:00:00",
          "2012-05-26T02:00:00",
          "2012-05-26T03:00:00",
          "2012-05-26T04:00:00",
          "2012-05-26T05:00:00",
          "2012-05-26T06:00:00",
          "2012-05-26T07:00:00",
          "2012-05-26T08:00:00",
          "2012-05-26T09:00:00",
          "2012-05-26T10:00:00",
          "2012-05-26T11:00:00",
          "2012-05-26T12:00:00",
          "2012-05-26T13:00:00",
          "2012-05-26T14:00:00",
          "2012-05-26T15:00:00",
          "2012-05-26T16:00:00",
          "2012-05-26T17:00:00",
          "2012-05-26T18:00:00",
          "2012-05-26T19:00:00",
          "2012-05-26T20:00:00",
          "2012-05-26T21:00:00",
          "2012-05-26T22:00:00",
          "2012-05-26T23:00:00",
          "2012-05-27T00:00:00",
          "2012-05-27T01:00:00",
          "2012-05-27T02:00:00",
          "2012-05-27T03:00:00",
          "2012-05-27T04:00:00",
          "2012-05-27T05:00:00",
          "2012-05-27T06:00:00",
          "2012-05-27T07:00:00",
          "2012-05-27T08:00:00",
          "2012-05-27T09:00:00",
          "2012-05-27T10:00:00",
          "2012-05-27T11:00:00",
          "2012-05-27T12:00:00",
          "2012-05-27T13:00:00",
          "2012-05-27T14:00:00",
          "2012-05-27T15:00:00",
          "2012-05-27T16:00:00",
          "2012-05-27T17:00:00",
          "2012-05-27T18:00:00",
          "2012-05-27T19:00:00",
          "2012-05-27T20:00:00",
          "2012-05-27T21:00:00",
          "2012-05-27T22:00:00",
          "2012-05-27T23:00:00",
          "2012-05-28T00:00:00",
          "2012-05-28T01:00:00",
          "2012-05-28T02:00:00",
          "2012-05-28T03:00:00",
          "2012-05-28T04:00:00",
          "2012-05-28T05:00:00",
          "2012-05-28T06:00:00",
          "2012-05-28T07:00:00",
          "2012-05-28T08:00:00",
          "2012-05-28T09:00:00",
          "2012-05-28T10:00:00",
          "2012-05-28T11:00:00",
          "2012-05-28T12:00:00",
          "2012-05-28T13:00:00",
          "2012-05-28T14:00:00",
          "2012-05-28T15:00:00",
          "2012-05-28T16:00:00",
          "2012-05-28T17:00:00"
         ],
         "y": [
          0.5745164960182024,
          0.6973833902161547,
          0.7235494880546075,
          0.7246871444823663,
          0.820250284414107,
          0.6860068259385667,
          0.61547212741752,
          0.49032992036405,
          0.33788395904436863,
          0.27531285551763374,
          0.2832764505119454,
          0.2366325369738339,
          0.1285551763367463,
          0.18885096700796367,
          0.3720136518771331,
          0.6234357224118315,
          0.7895335608646189,
          0.7554038680318543,
          0.7861205915813424,
          0.6814562002275312,
          0.739476678043231,
          0.6814562002275312,
          0.5984072810011377,
          0.6279863481228668,
          0.4778156996587032,
          0.590443686006826,
          0.738339021615472,
          0.6769055745164959,
          0.6131968145620023,
          0.6006825938566552,
          0.5119453924914675,
          0.38680318543799774,
          0.26848691695108085,
          0.1877133105802048,
          0.22866894197952226,
          0.2104664391353811,
          0.13424345847554042,
          0.17633674630261664,
          0.31058020477815707,
          0.37087599544937433,
          0.4630261660978384,
          0.5790671217292377,
          0.5255972696245733,
          0.4175199089874858,
          0.3560864618885097,
          0.35381114903299204,
          0.341296928327645,
          0.40273037542662116,
          0.39362912400455063,
          0.4277588168373151,
          0.50967007963595,
          0.5699658703071672,
          0.6746302616609784,
          0.5335608646188851,
          0.3754266211604096,
          0.2787258248009101,
          0.1877133105802048,
          0.014789533560864654,
          0.1911262798634813,
          0.15358361774744034,
          0.13651877133105805,
          0.23435722411831628,
          0.32992036405005687,
          0.44937428896473264,
          0.6700796359499431,
          0.7007963594994312,
          0.6860068259385667,
          0.5938566552901025,
          0.40273037542662116,
          0.42889647326507396,
          0.5392491467576791,
          0.5483503981797496
         ]
        },
        {
         "mode": "lines",
         "name": "True Future",
         "type": "scatter",
         "x": [
          "2012-05-28T18:00:00",
          "2012-05-28T19:00:00",
          "2012-05-28T20:00:00",
          "2012-05-28T21:00:00",
          "2012-05-28T22:00:00",
          "2012-05-28T23:00:00",
          "2012-05-29T00:00:00",
          "2012-05-29T01:00:00",
          "2012-05-29T02:00:00",
          "2012-05-29T03:00:00",
          "2012-05-29T04:00:00",
          "2012-05-29T05:00:00",
          "2012-05-29T06:00:00",
          "2012-05-29T07:00:00",
          "2012-05-29T08:00:00",
          "2012-05-29T09:00:00",
          "2012-05-29T10:00:00",
          "2012-05-29T11:00:00",
          "2012-05-29T12:00:00",
          "2012-05-29T13:00:00",
          "2012-05-29T14:00:00",
          "2012-05-29T15:00:00",
          "2012-05-29T16:00:00"
         ],
         "y": [
          0.5290102389078498,
          0.7155858930602957,
          0.7804323094425484,
          0.6621160409556314,
          0.7542662116040956,
          0.6393629124004551,
          0.4084186575654153,
          0.34015927189988626,
          0.2730375426621161,
          0.09670079635949946,
          0.2571103526734926,
          0.24573378839590443,
          0.1911262798634813,
          0.279863481228669,
          0.5472127417519909,
          0.6473265073947668,
          0.7349260523321958,
          0.6905574516496019,
          0.8395904436860068,
          0.7155858930602957,
          0.6131968145620023,
          0.6166097838452788,
          0.521046643913538
         ]
        },
        {
         "mode": "lines",
         "name": "Prediction RNN",
         "type": "scatter",
         "x": [
          "2012-05-28T18:00:00",
          "2012-05-28T19:00:00",
          "2012-05-28T20:00:00",
          "2012-05-28T21:00:00",
          "2012-05-28T22:00:00",
          "2012-05-28T23:00:00",
          "2012-05-29T00:00:00",
          "2012-05-29T01:00:00",
          "2012-05-29T02:00:00",
          "2012-05-29T03:00:00",
          "2012-05-29T04:00:00",
          "2012-05-29T05:00:00",
          "2012-05-29T06:00:00",
          "2012-05-29T07:00:00",
          "2012-05-29T08:00:00",
          "2012-05-29T09:00:00",
          "2012-05-29T10:00:00",
          "2012-05-29T11:00:00",
          "2012-05-29T12:00:00",
          "2012-05-29T13:00:00",
          "2012-05-29T14:00:00",
          "2012-05-29T15:00:00",
          "2012-05-29T16:00:00"
         ],
         "y": [
          0.5804873108863831,
          0.7113693952560425,
          0.7532439231872559,
          0.7132807374000549,
          0.7554824948310852,
          0.6820420622825623,
          0.4996688961982727,
          0.32524096965789795,
          0.20957058668136597,
          0.1733366698026657,
          0.20571371912956238,
          0.27587318420410156,
          0.22603651881217957,
          0.27558958530426025,
          0.4146875739097595,
          0.6879737377166748,
          0.8043760657310486,
          0.8194863200187683,
          0.7849708199501038,
          0.8600757122039795,
          0.7136126756668091,
          0.6141682863235474,
          0.6558941006660461,
          0.6253382563591003,
          0.6239285469055176,
          0.8244108557701111,
          0.8073471188545227,
          0.6184045076370239,
          0.7504726052284241,
          0.7210641503334045,
          0.5031882524490356,
          0.36149072647094727,
          0.2866727113723755,
          0.06610660254955292,
          0.25661373138427734,
          0.2529263198375702,
          0.20408065617084503,
          0.3559585213661194,
          0.4226406216621399,
          0.626409113407135,
          0.7827242612838745,
          0.7260135412216187,
          0.7739692330360413,
          0.739582359790802,
          0.5253996849060059,
          0.5641348958015442,
          0.6371669769287109,
          0.5895523428916931,
          0.6514379978179932,
          0.7959114909172058,
          0.7388512492179871,
          0.7576453685760498,
          0.821872353553772,
          0.6906281113624573,
          0.5048742294311523,
          0.37118178606033325,
          0.2609078884124756,
          0.07908961176872253,
          0.3105931878089905,
          0.28862541913986206,
          0.239634707570076,
          0.3447997570037842,
          0.477863073348999,
          0.7164439558982849,
          0.8394353985786438,
          0.8249462842941284,
          0.8178101778030396,
          0.8406862616539001,
          0.7923946976661682,
          0.7692150473594666,
          0.791321337223053,
          0.7763374447822571,
          0.7165958285331726,
          0.8187844157218933,
          0.8613396286964417,
          0.8164475560188293,
          0.6814361214637756,
          0.6967964768409729
         ]
        },
        {
         "mode": "lines",
         "name": "Prediction LSTM",
         "type": "scatter",
         "x": [
          "2012-05-28T18:00:00",
          "2012-05-28T19:00:00",
          "2012-05-28T20:00:00",
          "2012-05-28T21:00:00",
          "2012-05-28T22:00:00",
          "2012-05-28T23:00:00",
          "2012-05-29T00:00:00",
          "2012-05-29T01:00:00",
          "2012-05-29T02:00:00",
          "2012-05-29T03:00:00",
          "2012-05-29T04:00:00",
          "2012-05-29T05:00:00",
          "2012-05-29T06:00:00",
          "2012-05-29T07:00:00",
          "2012-05-29T08:00:00",
          "2012-05-29T09:00:00",
          "2012-05-29T10:00:00",
          "2012-05-29T11:00:00",
          "2012-05-29T12:00:00",
          "2012-05-29T13:00:00",
          "2012-05-29T14:00:00",
          "2012-05-29T15:00:00",
          "2012-05-29T16:00:00"
         ],
         "y": [
          0.5513023138046265,
          0.5392017960548401,
          0.6166393756866455,
          0.6716048717498779,
          0.6312956809997559,
          0.6541054844856262,
          0.5944607257843018,
          0.44136518239974976,
          0.33722448348999023,
          0.265163779258728,
          0.16348466277122498,
          0.2368626594543457,
          0.29020681977272034,
          0.3130689859390259,
          0.3879954218864441,
          0.5557610988616943,
          0.663887619972229,
          0.7368590831756592,
          0.7341902852058411,
          0.7928371429443359,
          0.7483646869659424,
          0.6762706637382507,
          0.6398213505744934,
          0.5694057941436768,
          0.5677284598350525,
          0.6079694032669067,
          0.6926549077033997,
          0.6339531540870667,
          0.6290285587310791,
          0.6282375454902649,
          0.5671820640563965,
          0.4442458152770996,
          0.290831983089447,
          0.17562352120876312,
          0.08502821624279022,
          0.21321307122707367,
          0.2844240367412567,
          0.33476024866104126,
          0.3859531879425049,
          0.5119641423225403,
          0.6501410007476807,
          0.6886826157569885,
          0.7454512119293213,
          0.7642436623573303,
          0.7215704917907715,
          0.6612231731414795,
          0.6125504374504089,
          0.598078727722168,
          0.6036138534545898,
          0.611667811870575,
          0.7019033432006836,
          0.7313576340675354,
          0.6955084800720215,
          0.6581771373748779,
          0.5960891246795654,
          0.43105727434158325,
          0.3275607228279114,
          0.24753709137439728,
          0.13854694366455078,
          0.2296430468559265,
          0.28509801626205444,
          0.3399814963340759,
          0.4150148034095764,
          0.5528261065483093,
          0.7018151879310608,
          0.7634652853012085,
          0.807465136051178,
          0.8357557058334351,
          0.8320105075836182,
          0.7842364311218262,
          0.7740087509155273,
          0.7253410220146179,
          0.6670777201652527,
          0.6386024951934814,
          0.7237411141395569,
          0.7445276975631714,
          0.6080559492111206,
          0.5604572296142578
         ]
        }
       ],
       "layout": {
        "autosize": true,
        "template": {
         "data": {
          "bar": [
           {
            "error_x": {
             "color": "#2a3f5f"
            },
            "error_y": {
             "color": "#2a3f5f"
            },
            "marker": {
             "line": {
              "color": "#E5ECF6",
              "width": 0.5
             },
             "pattern": {
              "fillmode": "overlay",
              "size": 10,
              "solidity": 0.2
             }
            },
            "type": "bar"
           }
          ],
          "barpolar": [
           {
            "marker": {
             "line": {
              "color": "#E5ECF6",
              "width": 0.5
             },
             "pattern": {
              "fillmode": "overlay",
              "size": 10,
              "solidity": 0.2
             }
            },
            "type": "barpolar"
           }
          ],
          "carpet": [
           {
            "aaxis": {
             "endlinecolor": "#2a3f5f",
             "gridcolor": "white",
             "linecolor": "white",
             "minorgridcolor": "white",
             "startlinecolor": "#2a3f5f"
            },
            "baxis": {
             "endlinecolor": "#2a3f5f",
             "gridcolor": "white",
             "linecolor": "white",
             "minorgridcolor": "white",
             "startlinecolor": "#2a3f5f"
            },
            "type": "carpet"
           }
          ],
          "choropleth": [
           {
            "colorbar": {
             "outlinewidth": 0,
             "ticks": ""
            },
            "type": "choropleth"
           }
          ],
          "contour": [
           {
            "colorbar": {
             "outlinewidth": 0,
             "ticks": ""
            },
            "colorscale": [
             [
              0,
              "#0d0887"
             ],
             [
              0.1111111111111111,
              "#46039f"
             ],
             [
              0.2222222222222222,
              "#7201a8"
             ],
             [
              0.3333333333333333,
              "#9c179e"
             ],
             [
              0.4444444444444444,
              "#bd3786"
             ],
             [
              0.5555555555555556,
              "#d8576b"
             ],
             [
              0.6666666666666666,
              "#ed7953"
             ],
             [
              0.7777777777777778,
              "#fb9f3a"
             ],
             [
              0.8888888888888888,
              "#fdca26"
             ],
             [
              1,
              "#f0f921"
             ]
            ],
            "type": "contour"
           }
          ],
          "contourcarpet": [
           {
            "colorbar": {
             "outlinewidth": 0,
             "ticks": ""
            },
            "type": "contourcarpet"
           }
          ],
          "heatmap": [
           {
            "colorbar": {
             "outlinewidth": 0,
             "ticks": ""
            },
            "colorscale": [
             [
              0,
              "#0d0887"
             ],
             [
              0.1111111111111111,
              "#46039f"
             ],
             [
              0.2222222222222222,
              "#7201a8"
             ],
             [
              0.3333333333333333,
              "#9c179e"
             ],
             [
              0.4444444444444444,
              "#bd3786"
             ],
             [
              0.5555555555555556,
              "#d8576b"
             ],
             [
              0.6666666666666666,
              "#ed7953"
             ],
             [
              0.7777777777777778,
              "#fb9f3a"
             ],
             [
              0.8888888888888888,
              "#fdca26"
             ],
             [
              1,
              "#f0f921"
             ]
            ],
            "type": "heatmap"
           }
          ],
          "heatmapgl": [
           {
            "colorbar": {
             "outlinewidth": 0,
             "ticks": ""
            },
            "colorscale": [
             [
              0,
              "#0d0887"
             ],
             [
              0.1111111111111111,
              "#46039f"
             ],
             [
              0.2222222222222222,
              "#7201a8"
             ],
             [
              0.3333333333333333,
              "#9c179e"
             ],
             [
              0.4444444444444444,
              "#bd3786"
             ],
             [
              0.5555555555555556,
              "#d8576b"
             ],
             [
              0.6666666666666666,
              "#ed7953"
             ],
             [
              0.7777777777777778,
              "#fb9f3a"
             ],
             [
              0.8888888888888888,
              "#fdca26"
             ],
             [
              1,
              "#f0f921"
             ]
            ],
            "type": "heatmapgl"
           }
          ],
          "histogram": [
           {
            "marker": {
             "pattern": {
              "fillmode": "overlay",
              "size": 10,
              "solidity": 0.2
             }
            },
            "type": "histogram"
           }
          ],
          "histogram2d": [
           {
            "colorbar": {
             "outlinewidth": 0,
             "ticks": ""
            },
            "colorscale": [
             [
              0,
              "#0d0887"
             ],
             [
              0.1111111111111111,
              "#46039f"
             ],
             [
              0.2222222222222222,
              "#7201a8"
             ],
             [
              0.3333333333333333,
              "#9c179e"
             ],
             [
              0.4444444444444444,
              "#bd3786"
             ],
             [
              0.5555555555555556,
              "#d8576b"
             ],
             [
              0.6666666666666666,
              "#ed7953"
             ],
             [
              0.7777777777777778,
              "#fb9f3a"
             ],
             [
              0.8888888888888888,
              "#fdca26"
             ],
             [
              1,
              "#f0f921"
             ]
            ],
            "type": "histogram2d"
           }
          ],
          "histogram2dcontour": [
           {
            "colorbar": {
             "outlinewidth": 0,
             "ticks": ""
            },
            "colorscale": [
             [
              0,
              "#0d0887"
             ],
             [
              0.1111111111111111,
              "#46039f"
             ],
             [
              0.2222222222222222,
              "#7201a8"
             ],
             [
              0.3333333333333333,
              "#9c179e"
             ],
             [
              0.4444444444444444,
              "#bd3786"
             ],
             [
              0.5555555555555556,
              "#d8576b"
             ],
             [
              0.6666666666666666,
              "#ed7953"
             ],
             [
              0.7777777777777778,
              "#fb9f3a"
             ],
             [
              0.8888888888888888,
              "#fdca26"
             ],
             [
              1,
              "#f0f921"
             ]
            ],
            "type": "histogram2dcontour"
           }
          ],
          "mesh3d": [
           {
            "colorbar": {
             "outlinewidth": 0,
             "ticks": ""
            },
            "type": "mesh3d"
           }
          ],
          "parcoords": [
           {
            "line": {
             "colorbar": {
              "outlinewidth": 0,
              "ticks": ""
             }
            },
            "type": "parcoords"
           }
          ],
          "pie": [
           {
            "automargin": true,
            "type": "pie"
           }
          ],
          "scatter": [
           {
            "fillpattern": {
             "fillmode": "overlay",
             "size": 10,
             "solidity": 0.2
            },
            "type": "scatter"
           }
          ],
          "scatter3d": [
           {
            "line": {
             "colorbar": {
              "outlinewidth": 0,
              "ticks": ""
             }
            },
            "marker": {
             "colorbar": {
              "outlinewidth": 0,
              "ticks": ""
             }
            },
            "type": "scatter3d"
           }
          ],
          "scattercarpet": [
           {
            "marker": {
             "colorbar": {
              "outlinewidth": 0,
              "ticks": ""
             }
            },
            "type": "scattercarpet"
           }
          ],
          "scattergeo": [
           {
            "marker": {
             "colorbar": {
              "outlinewidth": 0,
              "ticks": ""
             }
            },
            "type": "scattergeo"
           }
          ],
          "scattergl": [
           {
            "marker": {
             "colorbar": {
              "outlinewidth": 0,
              "ticks": ""
             }
            },
            "type": "scattergl"
           }
          ],
          "scattermapbox": [
           {
            "marker": {
             "colorbar": {
              "outlinewidth": 0,
              "ticks": ""
             }
            },
            "type": "scattermapbox"
           }
          ],
          "scatterpolar": [
           {
            "marker": {
             "colorbar": {
              "outlinewidth": 0,
              "ticks": ""
             }
            },
            "type": "scatterpolar"
           }
          ],
          "scatterpolargl": [
           {
            "marker": {
             "colorbar": {
              "outlinewidth": 0,
              "ticks": ""
             }
            },
            "type": "scatterpolargl"
           }
          ],
          "scatterternary": [
           {
            "marker": {
             "colorbar": {
              "outlinewidth": 0,
              "ticks": ""
             }
            },
            "type": "scatterternary"
           }
          ],
          "surface": [
           {
            "colorbar": {
             "outlinewidth": 0,
             "ticks": ""
            },
            "colorscale": [
             [
              0,
              "#0d0887"
             ],
             [
              0.1111111111111111,
              "#46039f"
             ],
             [
              0.2222222222222222,
              "#7201a8"
             ],
             [
              0.3333333333333333,
              "#9c179e"
             ],
             [
              0.4444444444444444,
              "#bd3786"
             ],
             [
              0.5555555555555556,
              "#d8576b"
             ],
             [
              0.6666666666666666,
              "#ed7953"
             ],
             [
              0.7777777777777778,
              "#fb9f3a"
             ],
             [
              0.8888888888888888,
              "#fdca26"
             ],
             [
              1,
              "#f0f921"
             ]
            ],
            "type": "surface"
           }
          ],
          "table": [
           {
            "cells": {
             "fill": {
              "color": "#EBF0F8"
             },
             "line": {
              "color": "white"
             }
            },
            "header": {
             "fill": {
              "color": "#C8D4E3"
             },
             "line": {
              "color": "white"
             }
            },
            "type": "table"
           }
          ]
         },
         "layout": {
          "annotationdefaults": {
           "arrowcolor": "#2a3f5f",
           "arrowhead": 0,
           "arrowwidth": 1
          },
          "autotypenumbers": "strict",
          "coloraxis": {
           "colorbar": {
            "outlinewidth": 0,
            "ticks": ""
           }
          },
          "colorscale": {
           "diverging": [
            [
             0,
             "#8e0152"
            ],
            [
             0.1,
             "#c51b7d"
            ],
            [
             0.2,
             "#de77ae"
            ],
            [
             0.3,
             "#f1b6da"
            ],
            [
             0.4,
             "#fde0ef"
            ],
            [
             0.5,
             "#f7f7f7"
            ],
            [
             0.6,
             "#e6f5d0"
            ],
            [
             0.7,
             "#b8e186"
            ],
            [
             0.8,
             "#7fbc41"
            ],
            [
             0.9,
             "#4d9221"
            ],
            [
             1,
             "#276419"
            ]
           ],
           "sequential": [
            [
             0,
             "#0d0887"
            ],
            [
             0.1111111111111111,
             "#46039f"
            ],
            [
             0.2222222222222222,
             "#7201a8"
            ],
            [
             0.3333333333333333,
             "#9c179e"
            ],
            [
             0.4444444444444444,
             "#bd3786"
            ],
            [
             0.5555555555555556,
             "#d8576b"
            ],
            [
             0.6666666666666666,
             "#ed7953"
            ],
            [
             0.7777777777777778,
             "#fb9f3a"
            ],
            [
             0.8888888888888888,
             "#fdca26"
            ],
            [
             1,
             "#f0f921"
            ]
           ],
           "sequentialminus": [
            [
             0,
             "#0d0887"
            ],
            [
             0.1111111111111111,
             "#46039f"
            ],
            [
             0.2222222222222222,
             "#7201a8"
            ],
            [
             0.3333333333333333,
             "#9c179e"
            ],
            [
             0.4444444444444444,
             "#bd3786"
            ],
            [
             0.5555555555555556,
             "#d8576b"
            ],
            [
             0.6666666666666666,
             "#ed7953"
            ],
            [
             0.7777777777777778,
             "#fb9f3a"
            ],
            [
             0.8888888888888888,
             "#fdca26"
            ],
            [
             1,
             "#f0f921"
            ]
           ]
          },
          "colorway": [
           "#636efa",
           "#EF553B",
           "#00cc96",
           "#ab63fa",
           "#FFA15A",
           "#19d3f3",
           "#FF6692",
           "#B6E880",
           "#FF97FF",
           "#FECB52"
          ],
          "font": {
           "color": "#2a3f5f"
          },
          "geo": {
           "bgcolor": "white",
           "lakecolor": "white",
           "landcolor": "#E5ECF6",
           "showlakes": true,
           "showland": true,
           "subunitcolor": "white"
          },
          "hoverlabel": {
           "align": "left"
          },
          "hovermode": "closest",
          "mapbox": {
           "style": "light"
          },
          "paper_bgcolor": "white",
          "plot_bgcolor": "#E5ECF6",
          "polar": {
           "angularaxis": {
            "gridcolor": "white",
            "linecolor": "white",
            "ticks": ""
           },
           "bgcolor": "#E5ECF6",
           "radialaxis": {
            "gridcolor": "white",
            "linecolor": "white",
            "ticks": ""
           }
          },
          "scene": {
           "xaxis": {
            "backgroundcolor": "#E5ECF6",
            "gridcolor": "white",
            "gridwidth": 2,
            "linecolor": "white",
            "showbackground": true,
            "ticks": "",
            "zerolinecolor": "white"
           },
           "yaxis": {
            "backgroundcolor": "#E5ECF6",
            "gridcolor": "white",
            "gridwidth": 2,
            "linecolor": "white",
            "showbackground": true,
            "ticks": "",
            "zerolinecolor": "white"
           },
           "zaxis": {
            "backgroundcolor": "#E5ECF6",
            "gridcolor": "white",
            "gridwidth": 2,
            "linecolor": "white",
            "showbackground": true,
            "ticks": "",
            "zerolinecolor": "white"
           }
          },
          "shapedefaults": {
           "line": {
            "color": "#2a3f5f"
           }
          },
          "ternary": {
           "aaxis": {
            "gridcolor": "white",
            "linecolor": "white",
            "ticks": ""
           },
           "baxis": {
            "gridcolor": "white",
            "linecolor": "white",
            "ticks": ""
           },
           "bgcolor": "#E5ECF6",
           "caxis": {
            "gridcolor": "white",
            "linecolor": "white",
            "ticks": ""
           }
          },
          "title": {
           "x": 0.05
          },
          "xaxis": {
           "automargin": true,
           "gridcolor": "white",
           "linecolor": "white",
           "ticks": "",
           "title": {
            "standoff": 15
           },
           "zerolinecolor": "white",
           "zerolinewidth": 2
          },
          "yaxis": {
           "automargin": true,
           "gridcolor": "white",
           "linecolor": "white",
           "ticks": "",
           "title": {
            "standoff": 15
           },
           "zerolinecolor": "white",
           "zerolinewidth": 2
          }
         }
        },
        "xaxis": {
         "autorange": true,
         "range": [
          "2012-05-25 18:00",
          "2012-05-29 16:00"
         ],
         "type": "date"
        },
        "yaxis": {
         "autorange": true,
         "range": [
          -0.03217080969708617,
          0.9070360554619303
         ],
         "type": "linear"
        }
       }
      },
      "image/png": "[encoded data removed]",
      "text/html": [
       "<div>                            <div id=\"bd7a973f-e0b6-427f-b610-18a0a3934462\" class=\"plotly-graph-div\" style=\"height:525px; width:100%;\"></div>            <script type=\"text/javascript\">                require([\"plotly\"], function(Plotly) {                    window.PLOTLYENV=window.PLOTLYENV || {};                                    if (document.getElementById(\"bd7a973f-e0b6-427f-b610-18a0a3934462\")) {                    Plotly.newPlot(                        \"bd7a973f-e0b6-427f-b610-18a0a3934462\",                        [{\"mode\":\"lines\",\"name\":\"Input sequence\",\"x\":[\"2012-05-25T18:00:00\",\"2012-05-25T19:00:00\",\"2012-05-25T20:00:00\",\"2012-05-25T21:00:00\",\"2012-05-25T22:00:00\",\"2012-05-25T23:00:00\",\"2012-05-26T00:00:00\",\"2012-05-26T01:00:00\",\"2012-05-26T02:00:00\",\"2012-05-26T03:00:00\",\"2012-05-26T04:00:00\",\"2012-05-26T05:00:00\",\"2012-05-26T06:00:00\",\"2012-05-26T07:00:00\",\"2012-05-26T08:00:00\",\"2012-05-26T09:00:00\",\"2012-05-26T10:00:00\",\"2012-05-26T11:00:00\",\"2012-05-26T12:00:00\",\"2012-05-26T13:00:00\",\"2012-05-26T14:00:00\",\"2012-05-26T15:00:00\",\"2012-05-26T16:00:00\",\"2012-05-26T17:00:00\",\"2012-05-26T18:00:00\",\"2012-05-26T19:00:00\",\"2012-05-26T20:00:00\",\"2012-05-26T21:00:00\",\"2012-05-26T22:00:00\",\"2012-05-26T23:00:00\",\"2012-05-27T00:00:00\",\"2012-05-27T01:00:00\",\"2012-05-27T02:00:00\",\"2012-05-27T03:00:00\",\"2012-05-27T04:00:00\",\"2012-05-27T05:00:00\",\"2012-05-27T06:00:00\",\"2012-05-27T07:00:00\",\"2012-05-27T08:00:00\",\"2012-05-27T09:00:00\",\"2012-05-27T10:00:00\",\"2012-05-27T11:00:00\",\"2012-05-27T12:00:00\",\"2012-05-27T13:00:00\",\"2012-05-27T14:00:00\",\"2012-05-27T15:00:00\",\"2012-05-27T16:00:00\",\"2012-05-27T17:00:00\",\"2012-05-27T18:00:00\",\"2012-05-27T19:00:00\",\"2012-05-27T20:00:00\",\"2012-05-27T21:00:00\",\"2012-05-27T22:00:00\",\"2012-05-27T23:00:00\",\"2012-05-28T00:00:00\",\"2012-05-28T01:00:00\",\"2012-05-28T02:00:00\",\"2012-05-28T03:00:00\",\"2012-05-28T04:00:00\",\"2012-05-28T05:00:00\",\"2012-05-28T06:00:00\",\"2012-05-28T07:00:00\",\"2012-05-28T08:00:00\",\"2012-05-28T09:00:00\",\"2012-05-28T10:00:00\",\"2012-05-28T11:00:00\",\"2012-05-28T12:00:00\",\"2012-05-28T13:00:00\",\"2012-05-28T14:00:00\",\"2012-05-28T15:00:00\",\"2012-05-28T16:00:00\",\"2012-05-28T17:00:00\"],\"y\":[0.5745164960182024,0.6973833902161547,0.7235494880546075,0.7246871444823663,0.820250284414107,0.6860068259385667,0.61547212741752,0.49032992036405,0.33788395904436863,0.27531285551763374,0.2832764505119454,0.2366325369738339,0.1285551763367463,0.18885096700796367,0.3720136518771331,0.6234357224118315,0.7895335608646189,0.7554038680318543,0.7861205915813424,0.6814562002275312,0.739476678043231,0.6814562002275312,0.5984072810011377,0.6279863481228668,0.4778156996587032,0.590443686006826,0.738339021615472,0.6769055745164959,0.6131968145620023,0.6006825938566552,0.5119453924914675,0.38680318543799774,0.26848691695108085,0.1877133105802048,0.22866894197952226,0.2104664391353811,0.13424345847554042,0.17633674630261664,0.31058020477815707,0.37087599544937433,0.4630261660978384,0.5790671217292377,0.5255972696245733,0.4175199089874858,0.3560864618885097,0.35381114903299204,0.341296928327645,0.40273037542662116,0.39362912400455063,0.4277588168373151,0.50967007963595,0.5699658703071672,0.6746302616609784,0.5335608646188851,0.3754266211604096,0.2787258248009101,0.1877133105802048,0.014789533560864654,0.1911262798634813,0.15358361774744034,0.13651877133105805,0.23435722411831628,0.32992036405005687,0.44937428896473264,0.6700796359499431,0.7007963594994312,0.6860068259385667,0.5938566552901025,0.40273037542662116,0.42889647326507396,0.5392491467576791,0.5483503981797496],\"type\":\"scatter\"},{\"mode\":\"lines\",\"name\":\"True Future\",\"x\":[\"2012-05-28T18:00:00\",\"2012-05-28T19:00:00\",\"2012-05-28T20:00:00\",\"2012-05-28T21:00:00\",\"2012-05-28T22:00:00\",\"2012-05-28T23:00:00\",\"2012-05-29T00:00:00\",\"2012-05-29T01:00:00\",\"2012-05-29T02:00:00\",\"2012-05-29T03:00:00\",\"2012-05-29T04:00:00\",\"2012-05-29T05:00:00\",\"2012-05-29T06:00:00\",\"2012-05-29T07:00:00\",\"2012-05-29T08:00:00\",\"2012-05-29T09:00:00\",\"2012-05-29T10:00:00\",\"2012-05-29T11:00:00\",\"2012-05-29T12:00:00\",\"2012-05-29T13:00:00\",\"2012-05-29T14:00:00\",\"2012-05-29T15:00:00\",\"2012-05-29T16:00:00\"],\"y\":[0.5290102389078498,0.7155858930602957,0.7804323094425484,0.6621160409556314,0.7542662116040956,0.6393629124004551,0.4084186575654153,0.34015927189988626,0.2730375426621161,0.09670079635949946,0.2571103526734926,0.24573378839590443,0.1911262798634813,0.279863481228669,0.5472127417519909,0.6473265073947668,0.7349260523321958,0.6905574516496019,0.8395904436860068,0.7155858930602957,0.6131968145620023,0.6166097838452788,0.521046643913538],\"type\":\"scatter\"},{\"mode\":\"lines\",\"name\":\"Prediction RNN\",\"x\":[\"2012-05-28T18:00:00\",\"2012-05-28T19:00:00\",\"2012-05-28T20:00:00\",\"2012-05-28T21:00:00\",\"2012-05-28T22:00:00\",\"2012-05-28T23:00:00\",\"2012-05-29T00:00:00\",\"2012-05-29T01:00:00\",\"2012-05-29T02:00:00\",\"2012-05-29T03:00:00\",\"2012-05-29T04:00:00\",\"2012-05-29T05:00:00\",\"2012-05-29T06:00:00\",\"2012-05-29T07:00:00\",\"2012-05-29T08:00:00\",\"2012-05-29T09:00:00\",\"2012-05-29T10:00:00\",\"2012-05-29T11:00:00\",\"2012-05-29T12:00:00\",\"2012-05-29T13:00:00\",\"2012-05-29T14:00:00\",\"2012-05-29T15:00:00\",\"2012-05-29T16:00:00\"],\"y\":[0.5804873108863831,0.7113693952560425,0.7532439231872559,0.7132807374000549,0.7554824948310852,0.6820420622825623,0.4996688961982727,0.32524096965789795,0.20957058668136597,0.1733366698026657,0.20571371912956238,0.27587318420410156,0.22603651881217957,0.27558958530426025,0.4146875739097595,0.6879737377166748,0.8043760657310486,0.8194863200187683,0.7849708199501038,0.8600757122039795,0.7136126756668091,0.6141682863235474,0.6558941006660461,0.6253382563591003,0.6239285469055176,0.8244108557701111,0.8073471188545227,0.6184045076370239,0.7504726052284241,0.7210641503334045,0.5031882524490356,0.36149072647094727,0.2866727113723755,0.06610660254955292,0.25661373138427734,0.2529263198375702,0.20408065617084503,0.3559585213661194,0.4226406216621399,0.626409113407135,0.7827242612838745,0.7260135412216187,0.7739692330360413,0.739582359790802,0.5253996849060059,0.5641348958015442,0.6371669769287109,0.5895523428916931,0.6514379978179932,0.7959114909172058,0.7388512492179871,0.7576453685760498,0.821872353553772,0.6906281113624573,0.5048742294311523,0.37118178606033325,0.2609078884124756,0.07908961176872253,0.3105931878089905,0.28862541913986206,0.239634707570076,0.3447997570037842,0.477863073348999,0.7164439558982849,0.8394353985786438,0.8249462842941284,0.8178101778030396,0.8406862616539001,0.7923946976661682,0.7692150473594666,0.791321337223053,0.7763374447822571,0.7165958285331726,0.8187844157218933,0.8613396286964417,0.8164475560188293,0.6814361214637756,0.6967964768409729],\"type\":\"scatter\"},{\"mode\":\"lines\",\"name\":\"Prediction LSTM\",\"x\":[\"2012-05-28T18:00:00\",\"2012-05-28T19:00:00\",\"2012-05-28T20:00:00\",\"2012-05-28T21:00:00\",\"2012-05-28T22:00:00\",\"2012-05-28T23:00:00\",\"2012-05-29T00:00:00\",\"2012-05-29T01:00:00\",\"2012-05-29T02:00:00\",\"2012-05-29T03:00:00\",\"2012-05-29T04:00:00\",\"2012-05-29T05:00:00\",\"2012-05-29T06:00:00\",\"2012-05-29T07:00:00\",\"2012-05-29T08:00:00\",\"2012-05-29T09:00:00\",\"2012-05-29T10:00:00\",\"2012-05-29T11:00:00\",\"2012-05-29T12:00:00\",\"2012-05-29T13:00:00\",\"2012-05-29T14:00:00\",\"2012-05-29T15:00:00\",\"2012-05-29T16:00:00\"],\"y\":[0.5513023138046265,0.5392017960548401,0.6166393756866455,0.6716048717498779,0.6312956809997559,0.6541054844856262,0.5944607257843018,0.44136518239974976,0.33722448348999023,0.265163779258728,0.16348466277122498,0.2368626594543457,0.29020681977272034,0.3130689859390259,0.3879954218864441,0.5557610988616943,0.663887619972229,0.7368590831756592,0.7341902852058411,0.7928371429443359,0.7483646869659424,0.6762706637382507,0.6398213505744934,0.5694057941436768,0.5677284598350525,0.6079694032669067,0.6926549077033997,0.6339531540870667,0.6290285587310791,0.6282375454902649,0.5671820640563965,0.4442458152770996,0.290831983089447,0.17562352120876312,0.08502821624279022,0.21321307122707367,0.2844240367412567,0.33476024866104126,0.3859531879425049,0.5119641423225403,0.6501410007476807,0.6886826157569885,0.7454512119293213,0.7642436623573303,0.7215704917907715,0.6612231731414795,0.6125504374504089,0.598078727722168,0.6036138534545898,0.611667811870575,0.7019033432006836,0.7313576340675354,0.6955084800720215,0.6581771373748779,0.5960891246795654,0.43105727434158325,0.3275607228279114,0.24753709137439728,0.13854694366455078,0.2296430468559265,0.28509801626205444,0.3399814963340759,0.4150148034095764,0.5528261065483093,0.7018151879310608,0.7634652853012085,0.807465136051178,0.8357557058334351,0.8320105075836182,0.7842364311218262,0.7740087509155273,0.7253410220146179,0.6670777201652527,0.6386024951934814,0.7237411141395569,0.7445276975631714,0.6080559492111206,0.5604572296142578],\"type\":\"scatter\"}],                        {\"template\":{\"data\":{\"histogram2dcontour\":[{\"type\":\"histogram2dcontour\",\"colorbar\":{\"outlinewidth\":0,\"ticks\":\"\"},\"colorscale\":[[0.0,\"#0d0887\"],[0.1111111111111111,\"#46039f\"],[0.2222222222222222,\"#7201a8\"],[0.3333333333333333,\"#9c179e\"],[0.4444444444444444,\"#bd3786\"],[0.5555555555555556,\"#d8576b\"],[0.6666666666666666,\"#ed7953\"],[0.7777777777777778,\"#fb9f3a\"],[0.8888888888888888,\"#fdca26\"],[1.0,\"#f0f921\"]]}],\"choropleth\":[{\"type\":\"choropleth\",\"colorbar\":{\"outlinewidth\":0,\"ticks\":\"\"}}],\"histogram2d\":[{\"type\":\"histogram2d\",\"colorbar\":{\"outlinewidth\":0,\"ticks\":\"\"},\"colorscale\":[[0.0,\"#0d0887\"],[0.1111111111111111,\"#46039f\"],[0.2222222222222222,\"#7201a8\"],[0.3333333333333333,\"#9c179e\"],[0.4444444444444444,\"#bd3786\"],[0.5555555555555556,\"#d8576b\"],[0.6666666666666666,\"#ed7953\"],[0.7777777777777778,\"#fb9f3a\"],[0.8888888888888888,\"#fdca26\"],[1.0,\"#f0f921\"]]}],\"heatmap\":[{\"type\":\"heatmap\",\"colorbar\":{\"outlinewidth\":0,\"ticks\":\"\"},\"colorscale\":[[0.0,\"#0d0887\"],[0.1111111111111111,\"#46039f\"],[0.2222222222222222,\"#7201a8\"],[0.3333333333333333,\"#9c179e\"],[0.4444444444444444,\"#bd3786\"],[0.5555555555555556,\"#d8576b\"],[0.6666666666666666,\"#ed7953\"],[0.7777777777777778,\"#fb9f3a\"],[0.8888888888888888,\"#fdca26\"],[1.0,\"#f0f921\"]]}],\"heatmapgl\":[{\"type\":\"heatmapgl\",\"colorbar\":{\"outlinewidth\":0,\"ticks\":\"\"},\"colorscale\":[[0.0,\"#0d0887\"],[0.1111111111111111,\"#46039f\"],[0.2222222222222222,\"#7201a8\"],[0.3333333333333333,\"#9c179e\"],[0.4444444444444444,\"#bd3786\"],[0.5555555555555556,\"#d8576b\"],[0.6666666666666666,\"#ed7953\"],[0.7777777777777778,\"#fb9f3a\"],[0.8888888888888888,\"#fdca26\"],[1.0,\"#f0f921\"]]}],\"contourcarpet\":[{\"type\":\"contourcarpet\",\"colorbar\":{\"outlinewidth\":0,\"ticks\":\"\"}}],\"contour\":[{\"type\":\"contour\",\"colorbar\":{\"outlinewidth\":0,\"ticks\":\"\"},\"colorscale\":[[0.0,\"#0d0887\"],[0.1111111111111111,\"#46039f\"],[0.2222222222222222,\"#7201a8\"],[0.3333333333333333,\"#9c179e\"],[0.4444444444444444,\"#bd3786\"],[0.5555555555555556,\"#d8576b\"],[0.6666666666666666,\"#ed7953\"],[0.7777777777777778,\"#fb9f3a\"],[0.8888888888888888,\"#fdca26\"],[1.0,\"#f0f921\"]]}],\"surface\":[{\"type\":\"surface\",\"colorbar\":{\"outlinewidth\":0,\"ticks\":\"\"},\"colorscale\":[[0.0,\"#0d0887\"],[0.1111111111111111,\"#46039f\"],[0.2222222222222222,\"#7201a8\"],[0.3333333333333333,\"#9c179e\"],[0.4444444444444444,\"#bd3786\"],[0.5555555555555556,\"#d8576b\"],[0.6666666666666666,\"#ed7953\"],[0.7777777777777778,\"#fb9f3a\"],[0.8888888888888888,\"#fdca26\"],[1.0,\"#f0f921\"]]}],\"mesh3d\":[{\"type\":\"mesh3d\",\"colorbar\":{\"outlinewidth\":0,\"ticks\":\"\"}}],\"scatter\":[{\"fillpattern\":{\"fillmode\":\"overlay\",\"size\":10,\"solidity\":0.2},\"type\":\"scatter\"}],\"parcoords\":[{\"type\":\"parcoords\",\"line\":{\"colorbar\":{\"outlinewidth\":0,\"ticks\":\"\"}}}],\"scatterpolargl\":[{\"type\":\"scatterpolargl\",\"marker\":{\"colorbar\":{\"outlinewidth\":0,\"ticks\":\"\"}}}],\"bar\":[{\"error_x\":{\"color\":\"#2a3f5f\"},\"error_y\":{\"color\":\"#2a3f5f\"},\"marker\":{\"line\":{\"color\":\"#E5ECF6\",\"width\":0.5},\"pattern\":{\"fillmode\":\"overlay\",\"size\":10,\"solidity\":0.2}},\"type\":\"bar\"}],\"scattergeo\":[{\"type\":\"scattergeo\",\"marker\":{\"colorbar\":{\"outlinewidth\":0,\"ticks\":\"\"}}}],\"scatterpolar\":[{\"type\":\"scatterpolar\",\"marker\":{\"colorbar\":{\"outlinewidth\":0,\"ticks\":\"\"}}}],\"histogram\":[{\"marker\":{\"pattern\":{\"fillmode\":\"overlay\",\"size\":10,\"solidity\":0.2}},\"type\":\"histogram\"}],\"scattergl\":[{\"type\":\"scattergl\",\"marker\":{\"colorbar\":{\"outlinewidth\":0,\"ticks\":\"\"}}}],\"scatter3d\":[{\"type\":\"scatter3d\",\"line\":{\"colorbar\":{\"outlinewidth\":0,\"ticks\":\"\"}},\"marker\":{\"colorbar\":{\"outlinewidth\":0,\"ticks\":\"\"}}}],\"scattermapbox\":[{\"type\":\"scattermapbox\",\"marker\":{\"colorbar\":{\"outlinewidth\":0,\"ticks\":\"\"}}}],\"scatterternary\":[{\"type\":\"scatterternary\",\"marker\":{\"colorbar\":{\"outlinewidth\":0,\"ticks\":\"\"}}}],\"scattercarpet\":[{\"type\":\"scattercarpet\",\"marker\":{\"colorbar\":{\"outlinewidth\":0,\"ticks\":\"\"}}}],\"carpet\":[{\"aaxis\":{\"endlinecolor\":\"#2a3f5f\",\"gridcolor\":\"white\",\"linecolor\":\"white\",\"minorgridcolor\":\"white\",\"startlinecolor\":\"#2a3f5f\"},\"baxis\":{\"endlinecolor\":\"#2a3f5f\",\"gridcolor\":\"white\",\"linecolor\":\"white\",\"minorgridcolor\":\"white\",\"startlinecolor\":\"#2a3f5f\"},\"type\":\"carpet\"}],\"table\":[{\"cells\":{\"fill\":{\"color\":\"#EBF0F8\"},\"line\":{\"color\":\"white\"}},\"header\":{\"fill\":{\"color\":\"#C8D4E3\"},\"line\":{\"color\":\"white\"}},\"type\":\"table\"}],\"barpolar\":[{\"marker\":{\"line\":{\"color\":\"#E5ECF6\",\"width\":0.5},\"pattern\":{\"fillmode\":\"overlay\",\"size\":10,\"solidity\":0.2}},\"type\":\"barpolar\"}],\"pie\":[{\"automargin\":true,\"type\":\"pie\"}]},\"layout\":{\"autotypenumbers\":\"strict\",\"colorway\":[\"#636efa\",\"#EF553B\",\"#00cc96\",\"#ab63fa\",\"#FFA15A\",\"#19d3f3\",\"#FF6692\",\"#B6E880\",\"#FF97FF\",\"#FECB52\"],\"font\":{\"color\":\"#2a3f5f\"},\"hovermode\":\"closest\",\"hoverlabel\":{\"align\":\"left\"},\"paper_bgcolor\":\"white\",\"plot_bgcolor\":\"#E5ECF6\",\"polar\":{\"bgcolor\":\"#E5ECF6\",\"angularaxis\":{\"gridcolor\":\"white\",\"linecolor\":\"white\",\"ticks\":\"\"},\"radialaxis\":{\"gridcolor\":\"white\",\"linecolor\":\"white\",\"ticks\":\"\"}},\"ternary\":{\"bgcolor\":\"#E5ECF6\",\"aaxis\":{\"gridcolor\":\"white\",\"linecolor\":\"white\",\"ticks\":\"\"},\"baxis\":{\"gridcolor\":\"white\",\"linecolor\":\"white\",\"ticks\":\"\"},\"caxis\":{\"gridcolor\":\"white\",\"linecolor\":\"white\",\"ticks\":\"\"}},\"coloraxis\":{\"colorbar\":{\"outlinewidth\":0,\"ticks\":\"\"}},\"colorscale\":{\"sequential\":[[0.0,\"#0d0887\"],[0.1111111111111111,\"#46039f\"],[0.2222222222222222,\"#7201a8\"],[0.3333333333333333,\"#9c179e\"],[0.4444444444444444,\"#bd3786\"],[0.5555555555555556,\"#d8576b\"],[0.6666666666666666,\"#ed7953\"],[0.7777777777777778,\"#fb9f3a\"],[0.8888888888888888,\"#fdca26\"],[1.0,\"#f0f921\"]],\"sequentialminus\":[[0.0,\"#0d0887\"],[0.1111111111111111,\"#46039f\"],[0.2222222222222222,\"#7201a8\"],[0.3333333333333333,\"#9c179e\"],[0.4444444444444444,\"#bd3786\"],[0.5555555555555556,\"#d8576b\"],[0.6666666666666666,\"#ed7953\"],[0.7777777777777778,\"#fb9f3a\"],[0.8888888888888888,\"#fdca26\"],[1.0,\"#f0f921\"]],\"diverging\":[[0,\"#8e0152\"],[0.1,\"#c51b7d\"],[0.2,\"#de77ae\"],[0.3,\"#f1b6da\"],[0.4,\"#fde0ef\"],[0.5,\"#f7f7f7\"],[0.6,\"#e6f5d0\"],[0.7,\"#b8e186\"],[0.8,\"#7fbc41\"],[0.9,\"#4d9221\"],[1,\"#276419\"]]},\"xaxis\":{\"gridcolor\":\"white\",\"linecolor\":\"white\",\"ticks\":\"\",\"title\":{\"standoff\":15},\"zerolinecolor\":\"white\",\"automargin\":true,\"zerolinewidth\":2},\"yaxis\":{\"gridcolor\":\"white\",\"linecolor\":\"white\",\"ticks\":\"\",\"title\":{\"standoff\":15},\"zerolinecolor\":\"white\",\"automargin\":true,\"zerolinewidth\":2},\"scene\":{\"xaxis\":{\"backgroundcolor\":\"#E5ECF6\",\"gridcolor\":\"white\",\"linecolor\":\"white\",\"showbackground\":true,\"ticks\":\"\",\"zerolinecolor\":\"white\",\"gridwidth\":2},\"yaxis\":{\"backgroundcolor\":\"#E5ECF6\",\"gridcolor\":\"white\",\"linecolor\":\"white\",\"showbackground\":true,\"ticks\":\"\",\"zerolinecolor\":\"white\",\"gridwidth\":2},\"zaxis\":{\"backgroundcolor\":\"#E5ECF6\",\"gridcolor\":\"white\",\"linecolor\":\"white\",\"showbackground\":true,\"ticks\":\"\",\"zerolinecolor\":\"white\",\"gridwidth\":2}},\"shapedefaults\":{\"line\":{\"color\":\"#2a3f5f\"}},\"annotationdefaults\":{\"arrowcolor\":\"#2a3f5f\",\"arrowhead\":0,\"arrowwidth\":1},\"geo\":{\"bgcolor\":\"white\",\"landcolor\":\"#E5ECF6\",\"subunitcolor\":\"white\",\"showland\":true,\"showlakes\":true,\"lakecolor\":\"white\"},\"title\":{\"x\":0.05},\"mapbox\":{\"style\":\"light\"}}}},                        {\"responsive\": true}                    ).then(function(){\n",
       "                            \n",
       "var gd = document.getElementById('bd7a973f-e0b6-427f-b610-18a0a3934462');\n",
       "var x = new MutationObserver(function (mutations, observer) {{\n",
       "        var display = window.getComputedStyle(gd).display;\n",
       "        if (!display || display === 'none') {{\n",
       "            console.log([gd, 'removed!']);\n",
       "            Plotly.purge(gd);\n",
       "            observer.disconnect();\n",
       "        }}\n",
       "}});\n",
       "\n",
       "// Listen for the removal of the full notebook cells\n",
       "var notebookContainer = gd.closest('#notebook-container');\n",
       "if (notebookContainer) {{\n",
       "    x.observe(notebookContainer, {childList: true});\n",
       "}}\n",
       "\n",
       "// Listen for the clearing of the current output cell\n",
       "var outputEl = gd.closest('.output');\n",
       "if (outputEl) {{\n",
       "    x.observe(outputEl, {childList: true});\n",
       "}}\n",
       "\n",
       "                        })                };                });            </script>        </div>"
      ]
     },
     "metadata": {},
     "output_type": "display_data"
    }
   ],
   "source": [
    "fig = go.Figure()\n",
    "\n",
    "time_steps_X = pd.to_datetime(time_test[:len(Xr_test[0])].flatten()).tolist()\n",
    "time_steps_y = pd.to_datetime(time_test[len(Xr_test[0]):len(Xr_test[0]) + len(yr_test[0:23])].flatten()).tolist()\n",
    "\n",
    "fig.add_trace(go.Scatter(x=time_steps_X, y=Xr_test[0].flatten().tolist(), mode='lines', name='Input sequence'))\n",
    "fig.add_trace(go.Scatter(x=time_steps_y, y=yr_test[0:23].flatten().tolist(), mode='lines', name='True Future'))\n",
    "fig.add_trace(go.Scatter(x=time_steps_y, y=RNN_predictions.flatten().tolist(), mode='lines', name='Prediction RNN'))\n",
    "fig.add_trace(go.Scatter(x=time_steps_y, y=predictions_lstm.flatten().tolist(), mode='lines', name='Prediction LSTM'))\n",
    "\n",
    "fig.show()"
   ]
  },
  {
   "cell_type": "code",
   "execution_count": 149,
   "id": "eccbe530",
   "metadata": {},
   "outputs": [
    {
     "name": "stdout",
     "output_type": "stream",
     "text": [
      "Test MSE RNN:  0.0054 , Test MSE LSTM:  0.0115\n"
     ]
    }
   ],
   "source": [
    "mse_RNN = round(mean_squared_error(yr_test[i:i+23], RNN_predictions[i:i+23]),4)\n",
    "mse_LSTM = round(mean_squared_error(yr_test[i:i+23], predictions_lstm[i:i+23]),4)\n",
    "print('Test MSE RNN: ', mse_RNN, ', Test MSE LSTM: ', mse_LSTM)"
   ]
  },
  {
   "cell_type": "markdown",
   "id": "8bdbb2dd",
   "metadata": {},
   "source": [
    "<div class=\"alert alert-info\">\n",
    "    <h5> Aufgabe 2.3 und 2.4) RNNs und LSTMs mit Tensorflow </h5><br>\n",
    "\n",
    "\n",
    "- Experimentiere mit input_size, hidden_size, split in Training-, Val-, und Testdaten. Was passiert hier mit den Modellergebnissen und im Vergleich von RNN und LSTM?<br>\n",
    "- Visualisiere auch andere Fenster der Testdaten. Kannst du etwas beobachten?<br>\n",
    "- Kannst du auch mit output_size experimentieren? Was muss sich dann alles ändern?<br>\n",
    "- Wende RNN und LSTM auf den erweiterten Datensatz an. Was kannst du beobachten?\n",
    "</div>"
   ]
  },
  {
   "cell_type": "code",
   "execution_count": 88,
   "id": "136cb59f",
   "metadata": {},
   "outputs": [],
   "source": [
    "# Dein Code"
   ]
  }
 ],
 "metadata": {
  "kernelspec": {
   "display_name": "Python (stamo24)",
   "language": "python",
   "name": "stamo24"
  },
  "language_info": {
   "codemirror_mode": {
    "name": "ipython",
    "version": 3
   },
   "file_extension": ".py",
   "mimetype": "text/x-python",
   "name": "python",
   "nbconvert_exporter": "python",
   "pygments_lexer": "ipython3",
   "version": "3.12.2"
  }
 },
 "nbformat": 4,
 "nbformat_minor": 5
}
